{
 "cells": [
  {
   "cell_type": "code",
   "execution_count": 1,
   "metadata": {},
   "outputs": [],
   "source": [
    "# Import modules necessary for the spam filter\n",
    "\n",
    "import nltk\n",
    "from nltk.corpus import stopwords\n",
    "import numpy as np\n",
    "import pandas as pd\n",
    "import re\n",
    "import os\n",
    "from sklearn.feature_extraction.text import TfidfVectorizer\n",
    "from sklearn.preprocessing import MinMaxScaler\n",
    "from scipy.sparse import coo_matrix, hstack"
   ]
  },
  {
   "cell_type": "code",
   "execution_count": 2,
   "metadata": {},
   "outputs": [],
   "source": [
    "# Specify data directory\n",
    "\n",
    "data_dir = os.path.join(os.path.dirname(os.getcwd()),'Data')"
   ]
  },
  {
   "cell_type": "code",
   "execution_count": 3,
   "metadata": {},
   "outputs": [],
   "source": [
    "# Import our best model and the vectorized vocabularies\n",
    "\n",
    "%store -r best_model\n",
    "%store -r best_vec"
   ]
  },
  {
   "cell_type": "code",
   "execution_count": 4,
   "metadata": {},
   "outputs": [],
   "source": [
    "# Build our spam filters. The user will enter a message.\n",
    "\n",
    "def classify_spam(message):\n",
    "    \"\"\"\n",
    "    This filter classifies a given spam message with the best classifier explored\n",
    "    \"\"\"\n",
    "    ## Step 1: Preprocessing the message\n",
    "    # Convert message into dataframe\n",
    "    df = pd.DataFrame({'text': message})\n",
    "    \n",
    "    # Preprocess the message with regex\n",
    "    for index, row in df.iterrows():\n",
    "        # Replace email addresses with 'EmAd'\n",
    "        row['text'] = re.sub(r'[^\\s]+@.[^\\s]+', '{EmAd}', row['text'])\n",
    "\n",
    "        # Replace URLs with 'Url'\n",
    "        row['text'] = re.sub(r'http[^\\s]+', '{Url}', row['text'])\n",
    "\n",
    "        # Replace money symbols with 'MoSy'\n",
    "        row['text'] = re.sub(r'£|\\$', '{MoSy}', row['text'])\n",
    "\n",
    "        # Replace 10 or 11 digit phone numbers\n",
    "        row['text'] = re.sub(r'0?(\\d{10,}?)','{PhNu}', row['text'])\n",
    "    \n",
    "    # Derive tokens\n",
    "    df['token'] = df.apply(lambda row: nltk.word_tokenize(row['text']), axis=1)\n",
    "    \n",
    "    # Derive number of tokens\n",
    "    df['n_token'] = [len(line) for line in df['token']]\n",
    "    \n",
    "    # Derive the average length of a token\n",
    "    avg_len = []\n",
    "    for i in range(len(df)):\n",
    "        avg_len.append(np.mean([len(word) for word in df['token'][i]]))\n",
    "    df['avg_wlen'] =avg_len\n",
    "    \n",
    "    # Derive the number of numerics\n",
    "    df['n_num'] = df.apply(lambda row: len([tok for tok in row['token'] if tok.isdigit() or tok == '{PhNu}']), axis = 1)\n",
    "    \n",
    "    # Derive if the message has numerics\n",
    "    df['has_num'] = df.apply(lambda row: sum([1 if row['n_num'] > 0 else 0]), axis = 1)\n",
    "    \n",
    "    # Derive the number of uppercased words\n",
    "    df['n_uppers'] = df.apply(lambda row: len([word for word in row['token'] if word.isupper()]), axis = 1)\n",
    "    \n",
    "    # Derive the number of English stop words\n",
    "    df['n_stops'] = df.apply(lambda row: len([word for word in row['token'] if word in stopwords.words('english')]), axis = 1)\n",
    "    \n",
    "    # Derive the symbol columns\n",
    "    df['has_email'] = [1 if '{EmAd}' in line else 0 for line in df.text]\n",
    "    df['has_money'] = [1 if '{MoSy}' in line else 0 for line in df.text]\n",
    "    df['has_phone'] = [1 if '{PhNu}' in line else 0 for line in df.text]\n",
    "    df['has_url'] = [1 if 'Url' in line else 0 for line in df.text]\n",
    "    \n",
    "    \n",
    "    ## Step 2: Creating a prediction based on the message\n",
    "    Xproba = pd.DataFrame(best_vec.predict_proba(df.text))\n",
    "    X = pd.merge(df.drop(['text', 'token'], axis = 1), Xproba, left_index = True, right_index = True)\n",
    "    \n",
    "    # Predict the result\n",
    "    y_pred = best_model.predict(X)\n",
    "    return y_pred"
   ]
  },
  {
   "cell_type": "code",
   "execution_count": 15,
   "metadata": {
    "scrolled": true
   },
   "outputs": [],
   "source": [
    "# A sample message batch\n",
    "\n",
    "message = [\"You have still not claimed the compensation you are due for the accident you had. \\\n",
    "            To start the process please reply YES. To opt out text STOP\", \n",
    "           \"Don't ever buy me curry noodles again I hate them theyre too spicey AN they make me cry\",\n",
    "          \"Welcome to South Korea! A local call or a call to Can is $1.00/min, $0.50/sms and $0.50/MB. \\\n",
    "           For more information visit //frdm.mobi/wrldroam or call +16477001611--\"]"
   ]
  },
  {
   "cell_type": "code",
   "execution_count": 6,
   "metadata": {},
   "outputs": [],
   "source": [
    "# Construct our spam_filter bot\n",
    "\n",
    "def spam_filter(message):\n",
    "    result = []\n",
    "    for classification in classify_spam(message):\n",
    "        if classification == 0:\n",
    "            result.append('ham')\n",
    "        else:\n",
    "            result.append('spam')\n",
    "    for index, result in enumerate(np.asarray(result)):\n",
    "        print('The algorithm thinks your message number {:d}'.format(index + 1) + ' is {:s}'.format(result)) "
   ]
  },
  {
   "cell_type": "code",
   "execution_count": 17,
   "metadata": {},
   "outputs": [
    {
     "name": "stdout",
     "output_type": "stream",
     "text": [
      "The algorithm thinks your message number 1 is spam\n",
      "The algorithm thinks your message number 2 is ham\n",
      "The algorithm thinks your message number 3 is spam\n"
     ]
    }
   ],
   "source": [
    "# Test run spam_filter bot\n",
    "\n",
    "spam_filter(message)"
   ]
  },
  {
   "cell_type": "code",
   "execution_count": 8,
   "metadata": {},
   "outputs": [
    {
     "data": {
      "text/plain": [
       "(5572, 2)"
      ]
     },
     "execution_count": 8,
     "metadata": {},
     "output_type": "execute_result"
    }
   ],
   "source": [
    "# Import the original dataframe to test for speed\n",
    "\n",
    "df_raw = pd.read_csv(os.path.join(data_dir,'SMSSpamCollection.txt'), delimiter = '\\t', header = None)\n",
    "df_raw.columns = ['label', 'text']\n",
    "df_raw.shape"
   ]
  },
  {
   "cell_type": "code",
   "execution_count": 9,
   "metadata": {},
   "outputs": [],
   "source": [
    "#Take 100 messages as a batch\n",
    "\n",
    "message_100_test = df_raw[0:100].text.tolist()"
   ]
  },
  {
   "cell_type": "code",
   "execution_count": 10,
   "metadata": {
    "scrolled": true
   },
   "outputs": [
    {
     "name": "stdout",
     "output_type": "stream",
     "text": [
      "The algorithm thinks your message number 1 is ham\n",
      "The algorithm thinks your message number 2 is ham\n",
      "The algorithm thinks your message number 3 is spam\n",
      "The algorithm thinks your message number 4 is ham\n",
      "The algorithm thinks your message number 5 is ham\n",
      "The algorithm thinks your message number 6 is spam\n",
      "The algorithm thinks your message number 7 is ham\n",
      "The algorithm thinks your message number 8 is ham\n",
      "The algorithm thinks your message number 9 is spam\n",
      "The algorithm thinks your message number 10 is spam\n",
      "The algorithm thinks your message number 11 is ham\n",
      "The algorithm thinks your message number 12 is spam\n",
      "The algorithm thinks your message number 13 is spam\n",
      "The algorithm thinks your message number 14 is ham\n",
      "The algorithm thinks your message number 15 is ham\n",
      "The algorithm thinks your message number 16 is spam\n",
      "The algorithm thinks your message number 17 is ham\n",
      "The algorithm thinks your message number 18 is ham\n",
      "The algorithm thinks your message number 19 is ham\n",
      "The algorithm thinks your message number 20 is spam\n",
      "The algorithm thinks your message number 21 is ham\n",
      "The algorithm thinks your message number 22 is ham\n",
      "The algorithm thinks your message number 23 is ham\n",
      "The algorithm thinks your message number 24 is ham\n",
      "The algorithm thinks your message number 25 is ham\n",
      "The algorithm thinks your message number 26 is ham\n",
      "The algorithm thinks your message number 27 is ham\n",
      "The algorithm thinks your message number 28 is ham\n",
      "The algorithm thinks your message number 29 is ham\n",
      "The algorithm thinks your message number 30 is ham\n",
      "The algorithm thinks your message number 31 is ham\n",
      "The algorithm thinks your message number 32 is ham\n",
      "The algorithm thinks your message number 33 is ham\n",
      "The algorithm thinks your message number 34 is ham\n",
      "The algorithm thinks your message number 35 is spam\n",
      "The algorithm thinks your message number 36 is ham\n",
      "The algorithm thinks your message number 37 is ham\n",
      "The algorithm thinks your message number 38 is ham\n",
      "The algorithm thinks your message number 39 is ham\n",
      "The algorithm thinks your message number 40 is ham\n",
      "The algorithm thinks your message number 41 is ham\n",
      "The algorithm thinks your message number 42 is ham\n",
      "The algorithm thinks your message number 43 is spam\n",
      "The algorithm thinks your message number 44 is ham\n",
      "The algorithm thinks your message number 45 is ham\n",
      "The algorithm thinks your message number 46 is ham\n",
      "The algorithm thinks your message number 47 is ham\n",
      "The algorithm thinks your message number 48 is ham\n",
      "The algorithm thinks your message number 49 is ham\n",
      "The algorithm thinks your message number 50 is ham\n",
      "The algorithm thinks your message number 51 is ham\n",
      "The algorithm thinks your message number 52 is ham\n",
      "The algorithm thinks your message number 53 is ham\n",
      "The algorithm thinks your message number 54 is ham\n",
      "The algorithm thinks your message number 55 is spam\n",
      "The algorithm thinks your message number 56 is ham\n",
      "The algorithm thinks your message number 57 is spam\n",
      "The algorithm thinks your message number 58 is ham\n",
      "The algorithm thinks your message number 59 is ham\n",
      "The algorithm thinks your message number 60 is ham\n",
      "The algorithm thinks your message number 61 is ham\n",
      "The algorithm thinks your message number 62 is ham\n",
      "The algorithm thinks your message number 63 is ham\n",
      "The algorithm thinks your message number 64 is ham\n",
      "The algorithm thinks your message number 65 is ham\n",
      "The algorithm thinks your message number 66 is spam\n",
      "The algorithm thinks your message number 67 is ham\n",
      "The algorithm thinks your message number 68 is spam\n",
      "The algorithm thinks your message number 69 is spam\n",
      "The algorithm thinks your message number 70 is ham\n",
      "The algorithm thinks your message number 71 is ham\n",
      "The algorithm thinks your message number 72 is ham\n",
      "The algorithm thinks your message number 73 is ham\n",
      "The algorithm thinks your message number 74 is ham\n",
      "The algorithm thinks your message number 75 is ham\n",
      "The algorithm thinks your message number 76 is ham\n",
      "The algorithm thinks your message number 77 is ham\n",
      "The algorithm thinks your message number 78 is ham\n",
      "The algorithm thinks your message number 79 is ham\n",
      "The algorithm thinks your message number 80 is ham\n",
      "The algorithm thinks your message number 81 is ham\n",
      "The algorithm thinks your message number 82 is ham\n",
      "The algorithm thinks your message number 83 is ham\n",
      "The algorithm thinks your message number 84 is ham\n",
      "The algorithm thinks your message number 85 is ham\n",
      "The algorithm thinks your message number 86 is ham\n",
      "The algorithm thinks your message number 87 is ham\n",
      "The algorithm thinks your message number 88 is ham\n",
      "The algorithm thinks your message number 89 is ham\n",
      "The algorithm thinks your message number 90 is ham\n",
      "The algorithm thinks your message number 91 is ham\n",
      "The algorithm thinks your message number 92 is ham\n",
      "The algorithm thinks your message number 93 is ham\n",
      "The algorithm thinks your message number 94 is spam\n",
      "The algorithm thinks your message number 95 is ham\n",
      "The algorithm thinks your message number 96 is spam\n",
      "The algorithm thinks your message number 97 is ham\n",
      "The algorithm thinks your message number 98 is ham\n",
      "The algorithm thinks your message number 99 is ham\n",
      "The algorithm thinks your message number 100 is ham\n",
      "Wall time: 628 ms\n"
     ]
    }
   ],
   "source": [
    "%%time\n",
    "\n",
    "# Run the spam filter bot with clock\n",
    "\n",
    "spam_filter(message_100_test)"
   ]
  },
  {
   "cell_type": "code",
   "execution_count": 13,
   "metadata": {},
   "outputs": [],
   "source": [
    "new_message = [\"Hi Yaru, this week in Fido XTRA, Fido gives back to 3 amazing causes! YOU CHOOSE, FIDO DONATES! 💗 Tell us which cause you'd like Fido to support, in Fido XTRA: fidoapp://screen/more/FidoXTRA  \\\n",
    "Keep an eye on your app and make sure your notifications are ON so you won't miss out on the best of Fido XTRA. \\\n",
    "Questions? fido.ca/contactus \\Reply STOP to opt out of Fido text msgs.\"]"
   ]
  },
  {
   "cell_type": "code",
   "execution_count": 14,
   "metadata": {},
   "outputs": [
    {
     "name": "stdout",
     "output_type": "stream",
     "text": [
      "The algorithm thinks your message number 1 is ham\n"
     ]
    }
   ],
   "source": [
    "spam_filter(new_message)"
   ]
  },
  {
   "cell_type": "code",
   "execution_count": null,
   "metadata": {},
   "outputs": [],
   "source": []
  }
 ],
 "metadata": {
  "kernelspec": {
   "display_name": "Python 3",
   "language": "python",
   "name": "python3"
  },
  "language_info": {
   "codemirror_mode": {
    "name": "ipython",
    "version": 3
   },
   "file_extension": ".py",
   "mimetype": "text/x-python",
   "name": "python",
   "nbconvert_exporter": "python",
   "pygments_lexer": "ipython3",
   "version": "3.7.3"
  }
 },
 "nbformat": 4,
 "nbformat_minor": 2
}
