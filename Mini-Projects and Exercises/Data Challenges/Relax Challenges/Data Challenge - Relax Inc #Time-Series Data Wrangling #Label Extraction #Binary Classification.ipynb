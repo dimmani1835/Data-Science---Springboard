{
 "cells": [
  {
   "cell_type": "markdown",
   "metadata": {},
   "source": [
    "# Part 1: Prepare data"
   ]
  },
  {
   "cell_type": "code",
   "execution_count": 1,
   "metadata": {},
   "outputs": [],
   "source": [
    "# Import modules\n",
    "\n",
    "import pandas as pd\n",
    "import numpy as np\n",
    "import matplotlib.pyplot as plt\n",
    "import seaborn as sns\n",
    "import os, json, random, datetime"
   ]
  },
  {
   "cell_type": "code",
   "execution_count": 2,
   "metadata": {},
   "outputs": [],
   "source": [
    "# Set options\n",
    "\n",
    "%matplotlib inline\n",
    "pd.set_option('display.max_columns', 30)\n",
    "pd.set_option('display.max_rows', 30)\n",
    "pd.options.display.max_columns=100\n",
    "pd.options.display.max_rows=100\n",
    "\n",
    "np.random.seed(42)"
   ]
  },
  {
   "cell_type": "code",
   "execution_count": 3,
   "metadata": {},
   "outputs": [],
   "source": [
    "# ignore deprecation warnings in sklearn\n",
    "\n",
    "import warnings\n",
    "warnings.filterwarnings(\"ignore\")"
   ]
  },
  {
   "cell_type": "code",
   "execution_count": 4,
   "metadata": {},
   "outputs": [],
   "source": [
    "# Read in the data\n",
    "\n",
    "df_user = pd.read_csv(\"takehome_users.csv\", encoding = \"ISO-8859-1\")\n",
    "df_engage = pd.read_csv(\"takehome_user_engagement.csv\", encoding = \"ISO-8859-1\")"
   ]
  },
  {
   "cell_type": "code",
   "execution_count": 5,
   "metadata": {},
   "outputs": [
    {
     "name": "stdout",
     "output_type": "stream",
     "text": [
      "   object_id        creation_time               name  \\\n",
      "0          1  2014-04-22 03:53:30     Clausen August   \n",
      "1          2  2013-11-15 03:45:04      Poole Matthew   \n",
      "2          3  2013-03-19 23:14:52  Bottrill Mitchell   \n",
      "3          4  2013-05-21 08:09:28    Clausen Nicklas   \n",
      "4          5  2013-01-17 10:14:20          Raw Grace   \n",
      "\n",
      "                        email creation_source  last_session_creation_time  \\\n",
      "0    AugustCClausen@yahoo.com    GUEST_INVITE                1.398139e+09   \n",
      "1      MatthewPoole@gustr.com      ORG_INVITE                1.396238e+09   \n",
      "2  MitchellBottrill@gustr.com      ORG_INVITE                1.363735e+09   \n",
      "3   NicklasSClausen@yahoo.com    GUEST_INVITE                1.369210e+09   \n",
      "4          GraceRaw@yahoo.com    GUEST_INVITE                1.358850e+09   \n",
      "\n",
      "   opted_in_to_mailing_list  enabled_for_marketing_drip  org_id  \\\n",
      "0                         1                           0      11   \n",
      "1                         0                           0       1   \n",
      "2                         0                           0      94   \n",
      "3                         0                           0       1   \n",
      "4                         0                           0     193   \n",
      "\n",
      "   invited_by_user_id  \n",
      "0             10803.0  \n",
      "1               316.0  \n",
      "2              1525.0  \n",
      "3              5151.0  \n",
      "4              5240.0  \n"
     ]
    }
   ],
   "source": [
    "# Glimpse the user dataset\n",
    "\n",
    "print(df_user.head())"
   ]
  },
  {
   "cell_type": "code",
   "execution_count": 6,
   "metadata": {},
   "outputs": [
    {
     "name": "stdout",
     "output_type": "stream",
     "text": [
      "<class 'pandas.core.frame.DataFrame'>\n",
      "RangeIndex: 12000 entries, 0 to 11999\n",
      "Data columns (total 10 columns):\n",
      "object_id                     12000 non-null int64\n",
      "creation_time                 12000 non-null object\n",
      "name                          12000 non-null object\n",
      "email                         12000 non-null object\n",
      "creation_source               12000 non-null object\n",
      "last_session_creation_time    8823 non-null float64\n",
      "opted_in_to_mailing_list      12000 non-null int64\n",
      "enabled_for_marketing_drip    12000 non-null int64\n",
      "org_id                        12000 non-null int64\n",
      "invited_by_user_id            6417 non-null float64\n",
      "dtypes: float64(2), int64(4), object(4)\n",
      "memory usage: 937.6+ KB\n"
     ]
    }
   ],
   "source": [
    "df_user.info()"
   ]
  },
  {
   "cell_type": "markdown",
   "metadata": {},
   "source": [
    "<font color=GREEN> We see that a two columns have missing values (last_session_creation_time and invited_by_user_id). For last_session_creation_time, the value can probably be found on the engagement table. For invited_by_user_id, we will assume that the missing values are non-referals and will assign it a value of 0. Apart from that, we see that a few columns have the wrong python datatype that needs to be fixed (invited_by_user_id is float instead of integer, creation_time should be datetime object).</font>"
   ]
  },
  {
   "cell_type": "code",
   "execution_count": 7,
   "metadata": {},
   "outputs": [
    {
     "name": "stdout",
     "output_type": "stream",
     "text": [
      "            time_stamp  user_id  visited\n",
      "0  2014-04-22 03:53:30        1        1\n",
      "1  2013-11-15 03:45:04        2        1\n",
      "2  2013-11-29 03:45:04        2        1\n",
      "3  2013-12-09 03:45:04        2        1\n",
      "4  2013-12-25 03:45:04        2        1\n"
     ]
    }
   ],
   "source": [
    "# Glimpse the user engagement dataset\n",
    "\n",
    "print(df_engage.head())"
   ]
  },
  {
   "cell_type": "code",
   "execution_count": 8,
   "metadata": {},
   "outputs": [
    {
     "name": "stdout",
     "output_type": "stream",
     "text": [
      "<class 'pandas.core.frame.DataFrame'>\n",
      "RangeIndex: 207917 entries, 0 to 207916\n",
      "Data columns (total 3 columns):\n",
      "time_stamp    207917 non-null object\n",
      "user_id       207917 non-null int64\n",
      "visited       207917 non-null int64\n",
      "dtypes: int64(2), object(1)\n",
      "memory usage: 4.8+ MB\n"
     ]
    }
   ],
   "source": [
    "df_engage.info()"
   ]
  },
  {
   "cell_type": "markdown",
   "metadata": {},
   "source": [
    "<font color=GREEN> We can also set the time_stamp to datetime and set it to index for easy manipulations.</font>"
   ]
  },
  {
   "cell_type": "markdown",
   "metadata": {},
   "source": [
    "## Preprocessing"
   ]
  },
  {
   "cell_type": "code",
   "execution_count": 9,
   "metadata": {},
   "outputs": [],
   "source": [
    "# Impute the referal columns and set to integer\n",
    "\n",
    "df_user['invited_by_user_id'] = df_user.invited_by_user_id.apply(lambda x: 0 if np.isnan(x) else x).astype(\"int\")"
   ]
  },
  {
   "cell_type": "code",
   "execution_count": 10,
   "metadata": {},
   "outputs": [],
   "source": [
    "# Let's take a look at the last_session_creation_time to see if the value is really missing\n",
    "\n",
    "# First, convert the unix timestamp object to pandas datetime\n",
    "df_user['last_session_creation_time'] = pd.to_datetime(df_user['last_session_creation_time'], unit = 's')\n",
    "\n",
    "# Next, convert the timestamp object in df_engage to pandas datetime\n",
    "df_engage['time_stamp'] = pd.to_datetime(df_engage['time_stamp'])"
   ]
  },
  {
   "cell_type": "code",
   "execution_count": 11,
   "metadata": {},
   "outputs": [],
   "source": [
    "# Derive last_log_in of each user from the df_engage\n",
    "last_log_in = df_engage.groupby(['user_id'])['time_stamp'].max()"
   ]
  },
  {
   "cell_type": "code",
   "execution_count": 12,
   "metadata": {},
   "outputs": [
    {
     "data": {
      "text/plain": [
       "8823"
      ]
     },
     "execution_count": 12,
     "metadata": {},
     "output_type": "execute_result"
    }
   ],
   "source": [
    "len(last_log_in)"
   ]
  },
  {
   "cell_type": "markdown",
   "metadata": {},
   "source": [
    "<font color=GREEN> It seems these values are really missing. We will have to assume these users sign up but never logged on. We'll have to convert this variable into a variable that measures the days since last log in and we can also extract a boolean variable based on whether they logged-in at all</font>"
   ]
  },
  {
   "cell_type": "code",
   "execution_count": 13,
   "metadata": {},
   "outputs": [],
   "source": [
    "# Extract logged_in\n",
    "df_user['logged_in'] = df_user['last_session_creation_time'].apply(lambda x: True if type(x) is pd.Timestamp else False)"
   ]
  },
  {
   "cell_type": "code",
   "execution_count": 14,
   "metadata": {},
   "outputs": [],
   "source": [
    "# Extract days_since_log_in. If the user has not logged in for 2 years, set to 730 days\n",
    "today = max(df_engage[\"time_stamp\"])\n",
    "df_user[\"days_since_log\"] = df_user[\"last_session_creation_time\"].apply(lambda x: (today - x).days if type(x) is pd.Timestamp else 730)\n",
    "\n",
    "# Extract days_since_create\n",
    "df_user['days_since_create'] = pd.to_datetime(df_user['creation_time']).apply(lambda x: (today - x).days)\n",
    "\n",
    "# Drop the two date columns\n",
    "df_user = df_user.drop(['last_session_creation_time', 'creation_time'], axis = 1)"
   ]
  },
  {
   "cell_type": "code",
   "execution_count": 15,
   "metadata": {},
   "outputs": [],
   "source": [
    "# Type convert the rest of the variables in df_user\n",
    "df_user['opted_in_to_mailing_list'] = df_user['opted_in_to_mailing_list'].astype('bool')\n",
    "df_user['enabled_for_marketing_drip'] = df_user['opted_in_to_mailing_list'].astype('bool')\n",
    "df_user['creation_source'] = df_user['creation_source'].astype('category')\n",
    "df_user['invited_by_user_id'] = df_user['invited_by_user_id'].astype('category')"
   ]
  },
  {
   "cell_type": "code",
   "execution_count": 16,
   "metadata": {},
   "outputs": [
    {
     "name": "stdout",
     "output_type": "stream",
     "text": [
      "<class 'pandas.core.frame.DataFrame'>\n",
      "RangeIndex: 12000 entries, 0 to 11999\n",
      "Data columns (total 11 columns):\n",
      "object_id                     12000 non-null int64\n",
      "name                          12000 non-null object\n",
      "email                         12000 non-null object\n",
      "creation_source               12000 non-null category\n",
      "opted_in_to_mailing_list      12000 non-null bool\n",
      "enabled_for_marketing_drip    12000 non-null bool\n",
      "org_id                        12000 non-null int64\n",
      "invited_by_user_id            12000 non-null category\n",
      "logged_in                     12000 non-null bool\n",
      "days_since_log                12000 non-null int64\n",
      "days_since_create             12000 non-null int64\n",
      "dtypes: bool(3), category(2), int64(4), object(2)\n",
      "memory usage: 733.1+ KB\n"
     ]
    }
   ],
   "source": [
    "df_user.info()"
   ]
  },
  {
   "cell_type": "markdown",
   "metadata": {},
   "source": [
    "# Part 2: Label extraction"
   ]
  },
  {
   "cell_type": "code",
   "execution_count": 17,
   "metadata": {},
   "outputs": [
    {
     "data": {
      "text/html": [
       "<div>\n",
       "<style scoped>\n",
       "    .dataframe tbody tr th:only-of-type {\n",
       "        vertical-align: middle;\n",
       "    }\n",
       "\n",
       "    .dataframe tbody tr th {\n",
       "        vertical-align: top;\n",
       "    }\n",
       "\n",
       "    .dataframe thead th {\n",
       "        text-align: right;\n",
       "    }\n",
       "</style>\n",
       "<table border=\"1\" class=\"dataframe\">\n",
       "  <thead>\n",
       "    <tr style=\"text-align: right;\">\n",
       "      <th></th>\n",
       "      <th>time_stamp</th>\n",
       "      <th>user_id</th>\n",
       "      <th>visited</th>\n",
       "      <th>date</th>\n",
       "    </tr>\n",
       "  </thead>\n",
       "  <tbody>\n",
       "    <tr>\n",
       "      <th>0</th>\n",
       "      <td>2014-04-22 03:53:30</td>\n",
       "      <td>1</td>\n",
       "      <td>1</td>\n",
       "      <td>2014-04-22</td>\n",
       "    </tr>\n",
       "    <tr>\n",
       "      <th>1</th>\n",
       "      <td>2013-11-15 03:45:04</td>\n",
       "      <td>2</td>\n",
       "      <td>1</td>\n",
       "      <td>2013-11-15</td>\n",
       "    </tr>\n",
       "    <tr>\n",
       "      <th>2</th>\n",
       "      <td>2013-11-29 03:45:04</td>\n",
       "      <td>2</td>\n",
       "      <td>1</td>\n",
       "      <td>2013-11-29</td>\n",
       "    </tr>\n",
       "    <tr>\n",
       "      <th>3</th>\n",
       "      <td>2013-12-09 03:45:04</td>\n",
       "      <td>2</td>\n",
       "      <td>1</td>\n",
       "      <td>2013-12-09</td>\n",
       "    </tr>\n",
       "    <tr>\n",
       "      <th>4</th>\n",
       "      <td>2013-12-25 03:45:04</td>\n",
       "      <td>2</td>\n",
       "      <td>1</td>\n",
       "      <td>2013-12-25</td>\n",
       "    </tr>\n",
       "  </tbody>\n",
       "</table>\n",
       "</div>"
      ],
      "text/plain": [
       "           time_stamp  user_id  visited        date\n",
       "0 2014-04-22 03:53:30        1        1  2014-04-22\n",
       "1 2013-11-15 03:45:04        2        1  2013-11-15\n",
       "2 2013-11-29 03:45:04        2        1  2013-11-29\n",
       "3 2013-12-09 03:45:04        2        1  2013-12-09\n",
       "4 2013-12-25 03:45:04        2        1  2013-12-25"
      ]
     },
     "execution_count": 17,
     "metadata": {},
     "output_type": "execute_result"
    }
   ],
   "source": [
    "# Sort the df_engage by user and time_stamp for easier processing\n",
    "df_engage = df_engage.sort_values([\"user_id\", \"time_stamp\"])\n",
    "\n",
    "# Since we only need dates, extract only the date to reduce computational cost\n",
    "df_engage['date'] = df_engage.time_stamp.apply(lambda x: x.date())\n",
    "\n",
    "# Check dataframe\n",
    "df_engage.head()"
   ]
  },
  {
   "cell_type": "code",
   "execution_count": 18,
   "metadata": {},
   "outputs": [
    {
     "name": "stdout",
     "output_type": "stream",
     "text": [
      "Wall time: 17.5 s\n"
     ]
    }
   ],
   "source": [
    "%%time\n",
    "\n",
    "# Initialize an empty dictionary to store our label\n",
    "adopted_user_dict = {}\n",
    "\n",
    "# Loop through every user_id to determine if that user has adopted the product based on the definition\n",
    "for user_id in set(df_engage.user_id):\n",
    "    \n",
    "    # Derive all dates of the instances of log in of that particular user\n",
    "    log_ins = df_engage[df_engage['user_id'] == user_id].date\n",
    "    \n",
    "    # For each date, determine the day difference between that date and 2 log-in further. \n",
    "    two_logins_diff = [j - i for i, j in zip(log_ins[: -1], log_ins[2 :])]\n",
    "    \n",
    "    if len(two_logins_diff) == 0:\n",
    "        \n",
    "        # if there's no difference, the user never made more than 2 log-ins, so that user has not adopted\n",
    "        adopted_user_dict[user_id] = False\n",
    "    else:\n",
    "        # if the user made more than 2 log-ins, find the minimum of the spaced log-in. If it's less than or equal to 7, the user is adopted.\n",
    "        adopted_user_dict[user_id] = (min(two_logins_diff).days <= 7)\n",
    "\n",
    "# map the results onto the label column in the df_user dataframe, filling any missing user (users who never logged-in) as False         \n",
    "df_user['label'] = df_user.object_id.map(adopted_user_dict).fillna(False)"
   ]
  },
  {
   "cell_type": "code",
   "execution_count": 19,
   "metadata": {},
   "outputs": [
    {
     "data": {
      "text/html": [
       "<div>\n",
       "<style scoped>\n",
       "    .dataframe tbody tr th:only-of-type {\n",
       "        vertical-align: middle;\n",
       "    }\n",
       "\n",
       "    .dataframe tbody tr th {\n",
       "        vertical-align: top;\n",
       "    }\n",
       "\n",
       "    .dataframe thead th {\n",
       "        text-align: right;\n",
       "    }\n",
       "</style>\n",
       "<table border=\"1\" class=\"dataframe\">\n",
       "  <thead>\n",
       "    <tr style=\"text-align: right;\">\n",
       "      <th></th>\n",
       "      <th>object_id</th>\n",
       "      <th>name</th>\n",
       "      <th>email</th>\n",
       "      <th>creation_source</th>\n",
       "      <th>opted_in_to_mailing_list</th>\n",
       "      <th>enabled_for_marketing_drip</th>\n",
       "      <th>org_id</th>\n",
       "      <th>invited_by_user_id</th>\n",
       "      <th>logged_in</th>\n",
       "      <th>days_since_log</th>\n",
       "      <th>days_since_create</th>\n",
       "      <th>label</th>\n",
       "    </tr>\n",
       "  </thead>\n",
       "  <tbody>\n",
       "    <tr>\n",
       "      <th>0</th>\n",
       "      <td>1</td>\n",
       "      <td>Clausen August</td>\n",
       "      <td>AugustCClausen@yahoo.com</td>\n",
       "      <td>GUEST_INVITE</td>\n",
       "      <td>True</td>\n",
       "      <td>True</td>\n",
       "      <td>11</td>\n",
       "      <td>10803</td>\n",
       "      <td>True</td>\n",
       "      <td>45</td>\n",
       "      <td>45</td>\n",
       "      <td>False</td>\n",
       "    </tr>\n",
       "    <tr>\n",
       "      <th>1</th>\n",
       "      <td>2</td>\n",
       "      <td>Poole Matthew</td>\n",
       "      <td>MatthewPoole@gustr.com</td>\n",
       "      <td>ORG_INVITE</td>\n",
       "      <td>False</td>\n",
       "      <td>False</td>\n",
       "      <td>1</td>\n",
       "      <td>316</td>\n",
       "      <td>True</td>\n",
       "      <td>67</td>\n",
       "      <td>203</td>\n",
       "      <td>True</td>\n",
       "    </tr>\n",
       "    <tr>\n",
       "      <th>2</th>\n",
       "      <td>3</td>\n",
       "      <td>Bottrill Mitchell</td>\n",
       "      <td>MitchellBottrill@gustr.com</td>\n",
       "      <td>ORG_INVITE</td>\n",
       "      <td>False</td>\n",
       "      <td>False</td>\n",
       "      <td>94</td>\n",
       "      <td>1525</td>\n",
       "      <td>True</td>\n",
       "      <td>443</td>\n",
       "      <td>443</td>\n",
       "      <td>False</td>\n",
       "    </tr>\n",
       "    <tr>\n",
       "      <th>3</th>\n",
       "      <td>4</td>\n",
       "      <td>Clausen Nicklas</td>\n",
       "      <td>NicklasSClausen@yahoo.com</td>\n",
       "      <td>GUEST_INVITE</td>\n",
       "      <td>False</td>\n",
       "      <td>False</td>\n",
       "      <td>1</td>\n",
       "      <td>5151</td>\n",
       "      <td>True</td>\n",
       "      <td>380</td>\n",
       "      <td>381</td>\n",
       "      <td>False</td>\n",
       "    </tr>\n",
       "    <tr>\n",
       "      <th>4</th>\n",
       "      <td>5</td>\n",
       "      <td>Raw Grace</td>\n",
       "      <td>GraceRaw@yahoo.com</td>\n",
       "      <td>GUEST_INVITE</td>\n",
       "      <td>False</td>\n",
       "      <td>False</td>\n",
       "      <td>193</td>\n",
       "      <td>5240</td>\n",
       "      <td>True</td>\n",
       "      <td>500</td>\n",
       "      <td>505</td>\n",
       "      <td>False</td>\n",
       "    </tr>\n",
       "  </tbody>\n",
       "</table>\n",
       "</div>"
      ],
      "text/plain": [
       "   object_id               name                       email creation_source  \\\n",
       "0          1     Clausen August    AugustCClausen@yahoo.com    GUEST_INVITE   \n",
       "1          2      Poole Matthew      MatthewPoole@gustr.com      ORG_INVITE   \n",
       "2          3  Bottrill Mitchell  MitchellBottrill@gustr.com      ORG_INVITE   \n",
       "3          4    Clausen Nicklas   NicklasSClausen@yahoo.com    GUEST_INVITE   \n",
       "4          5          Raw Grace          GraceRaw@yahoo.com    GUEST_INVITE   \n",
       "\n",
       "   opted_in_to_mailing_list  enabled_for_marketing_drip  org_id  \\\n",
       "0                      True                        True      11   \n",
       "1                     False                       False       1   \n",
       "2                     False                       False      94   \n",
       "3                     False                       False       1   \n",
       "4                     False                       False     193   \n",
       "\n",
       "  invited_by_user_id  logged_in  days_since_log  days_since_create  label  \n",
       "0              10803       True              45                 45  False  \n",
       "1                316       True              67                203   True  \n",
       "2               1525       True             443                443  False  \n",
       "3               5151       True             380                381  False  \n",
       "4               5240       True             500                505  False  "
      ]
     },
     "execution_count": 19,
     "metadata": {},
     "output_type": "execute_result"
    }
   ],
   "source": [
    "df_user.head()"
   ]
  },
  {
   "cell_type": "markdown",
   "metadata": {},
   "source": [
    "# Part 3: Adoption factor identification"
   ]
  },
  {
   "cell_type": "code",
   "execution_count": 20,
   "metadata": {},
   "outputs": [],
   "source": [
    "df = df_user.copy().drop(['object_id', 'name', 'email', 'invited_by_user_id'], axis = 1)"
   ]
  },
  {
   "cell_type": "code",
   "execution_count": 21,
   "metadata": {},
   "outputs": [
    {
     "name": "stdout",
     "output_type": "stream",
     "text": [
      "<class 'pandas.core.frame.DataFrame'>\n",
      "RangeIndex: 12000 entries, 0 to 11999\n",
      "Data columns (total 8 columns):\n",
      "creation_source               12000 non-null category\n",
      "opted_in_to_mailing_list      12000 non-null bool\n",
      "enabled_for_marketing_drip    12000 non-null bool\n",
      "org_id                        12000 non-null int64\n",
      "logged_in                     12000 non-null bool\n",
      "days_since_log                12000 non-null int64\n",
      "days_since_create             12000 non-null int64\n",
      "label                         12000 non-null bool\n",
      "dtypes: bool(4), category(1), int64(3)\n",
      "memory usage: 340.1 KB\n"
     ]
    }
   ],
   "source": [
    "df.info()"
   ]
  },
  {
   "cell_type": "markdown",
   "metadata": {},
   "source": [
    "## Random forest feature importance"
   ]
  },
  {
   "cell_type": "markdown",
   "metadata": {},
   "source": [
    "We build a quick random forest model to explore feature importance. I suspect a random forest model will provide a good approach since there's likely only a few factors for which a user decide to adopt the product."
   ]
  },
  {
   "cell_type": "code",
   "execution_count": 22,
   "metadata": {},
   "outputs": [
    {
     "name": "stdout",
     "output_type": "stream",
     "text": [
      "The fraction of users who are adopted is 13.80 %\n"
     ]
    }
   ],
   "source": [
    "print(\"The fraction of users who are adopted is %.2f %%\" %(df.label.value_counts()[1]/len(df.label)*100))"
   ]
  },
  {
   "cell_type": "code",
   "execution_count": 23,
   "metadata": {},
   "outputs": [],
   "source": [
    "# Import random forest to visualize feature importance\n",
    "\n",
    "from sklearn.ensemble import RandomForestClassifier\n",
    "from sklearn.preprocessing import StandardScaler"
   ]
  },
  {
   "cell_type": "code",
   "execution_count": 24,
   "metadata": {},
   "outputs": [],
   "source": [
    "# Define X and y, then run feature importance\n",
    "\n",
    "X = pd.get_dummies(df, columns=[\"creation_source\"]).drop(\"label\", axis = 1)\n",
    "y = df.label"
   ]
  },
  {
   "cell_type": "code",
   "execution_count": 25,
   "metadata": {},
   "outputs": [
    {
     "name": "stdout",
     "output_type": "stream",
     "text": [
      "We have 11 training features\n"
     ]
    }
   ],
   "source": [
    "print(\"We have {} training features\".format(len(X.columns)))"
   ]
  },
  {
   "cell_type": "code",
   "execution_count": 26,
   "metadata": {},
   "outputs": [
    {
     "data": {
      "image/png": "[encoded data removed]",
      "text/plain": [
       "<Figure size 432x288 with 1 Axes>"
      ]
     },
     "metadata": {
      "needs_background": "light"
     },
     "output_type": "display_data"
    }
   ],
   "source": [
    "scaler = StandardScaler()\n",
    "\n",
    "forest = RandomForestClassifier(n_estimators=10,\n",
    "                                max_features = 'sqrt',\n",
    "                               class_weight = 'balanced')\n",
    "\n",
    "forest.fit(scaler.fit_transform(X), y)\n",
    "\n",
    "importances = forest.feature_importances_\n",
    "\n",
    "importances_df = pd.DataFrame.from_dict(dict(zip(X.columns, importances)), orient='index', columns = [\"importances\"])\n",
    "\n",
    "importances_df.sort_values(\"importances\", ascending = False).plot(kind = 'bar', legend = None)\n",
    "plt.xlabel('Features')\n",
    "plt.ylabel('Importances')\n",
    "plt.show()"
   ]
  },
  {
   "cell_type": "markdown",
   "metadata": {},
   "source": [
    "<font color=GREEN> <b>Factor identification: </b>Feature importances (which is calculated by the reduction in gini impurity once the feature is introduced) show that days_since_log and days_since_create has a strong impact on split decision of the trees. Features like org_id and logged_in has moderate impact. Let's see how accurate our model is by tuning our hyper-parameter with GridSearch</font>"
   ]
  },
  {
   "cell_type": "code",
   "execution_count": 27,
   "metadata": {},
   "outputs": [],
   "source": [
    "# Import sklearn functions\n",
    "\n",
    "from sklearn.model_selection import train_test_split\n",
    "from sklearn.model_selection import GridSearchCV\n",
    "from sklearn.pipeline import Pipeline\n",
    "from sklearn.metrics import confusion_matrix, f1_score, accuracy_score\n",
    "from sklearn.ensemble import RandomForestClassifier, GradientBoostingClassifier\n",
    "from sklearn.preprocessing import StandardScaler, MinMaxScaler, LabelEncoder"
   ]
  },
  {
   "cell_type": "code",
   "execution_count": 28,
   "metadata": {},
   "outputs": [],
   "source": [
    "# Define X and y\n",
    "\n",
    "X = pd.get_dummies(df, columns=[\"creation_source\"]).drop(\"label\", axis = 1)\n",
    "  \n",
    "# Encode labels in column 'species'. \n",
    "y = LabelEncoder().fit_transform(df['label']) \n",
    "\n",
    "indices = df.index\n",
    "\n",
    "# Split train and test set\n",
    "\n",
    "Xtrain, Xtest, ytrain, ytest, itrain, itest = train_test_split(X, y, indices, train_size = 0.8, random_state = 42)"
   ]
  },
  {
   "cell_type": "markdown",
   "metadata": {},
   "source": [
    "## Random Forest"
   ]
  },
  {
   "cell_type": "code",
   "execution_count": 29,
   "metadata": {
    "scrolled": true
   },
   "outputs": [
    {
     "name": "stdout",
     "output_type": "stream",
     "text": [
      "Fitting 10 folds for each of 15 candidates, totalling 150 fits\n"
     ]
    },
    {
     "name": "stderr",
     "output_type": "stream",
     "text": [
      "[Parallel(n_jobs=-1)]: Using backend LokyBackend with 8 concurrent workers.\n",
      "[Parallel(n_jobs=-1)]: Done   2 tasks      | elapsed:    6.7s\n",
      "[Parallel(n_jobs=-1)]: Done   9 tasks      | elapsed:    7.5s\n",
      "[Parallel(n_jobs=-1)]: Done  16 tasks      | elapsed:    8.2s\n",
      "[Parallel(n_jobs=-1)]: Done  25 tasks      | elapsed:    9.5s\n",
      "[Parallel(n_jobs=-1)]: Done  34 tasks      | elapsed:   11.2s\n",
      "[Parallel(n_jobs=-1)]: Done  45 tasks      | elapsed:   13.5s\n",
      "[Parallel(n_jobs=-1)]: Done  56 tasks      | elapsed:   14.4s\n",
      "[Parallel(n_jobs=-1)]: Done  69 tasks      | elapsed:   15.8s\n",
      "[Parallel(n_jobs=-1)]: Done  82 tasks      | elapsed:   18.0s\n",
      "[Parallel(n_jobs=-1)]: Done  97 tasks      | elapsed:   20.6s\n",
      "[Parallel(n_jobs=-1)]: Done 112 tasks      | elapsed:   22.1s\n",
      "[Parallel(n_jobs=-1)]: Done 129 tasks      | elapsed:   24.7s\n",
      "[Parallel(n_jobs=-1)]: Done 150 out of 150 | elapsed:   28.4s finished\n"
     ]
    },
    {
     "data": {
      "text/plain": [
       "GridSearchCV(cv=10, error_score='raise-deprecating',\n",
       "             estimator=Pipeline(memory=None,\n",
       "                                steps=[('scaler',\n",
       "                                        StandardScaler(copy=True,\n",
       "                                                       with_mean=True,\n",
       "                                                       with_std=True)),\n",
       "                                       ('model',\n",
       "                                        RandomForestClassifier(bootstrap=True,\n",
       "                                                               class_weight='balanced',\n",
       "                                                               criterion='gini',\n",
       "                                                               max_depth=None,\n",
       "                                                               max_features='auto',\n",
       "                                                               max_leaf_nodes=None,\n",
       "                                                               min_impurity_decrease=0.0,\n",
       "                                                               min_impurity_split=None,\n",
       "                                                               mi...\n",
       "                                                               min_samples_split=2,\n",
       "                                                               min_weight_fraction_leaf=0.0,\n",
       "                                                               n_estimators='warn',\n",
       "                                                               n_jobs=None,\n",
       "                                                               oob_score=False,\n",
       "                                                               random_state=None,\n",
       "                                                               verbose=0,\n",
       "                                                               warm_start=False))],\n",
       "                                verbose=False),\n",
       "             iid='warn', n_jobs=-1,\n",
       "             param_grid={'model__max_features': ['auto', 'sqrt', 'log2'],\n",
       "                         'model__n_estimators': [10, 20, 30, 40, 50]},\n",
       "             pre_dispatch='2*n_jobs', refit=True, return_train_score=False,\n",
       "             scoring='accuracy', verbose=10)"
      ]
     },
     "execution_count": 29,
     "metadata": {},
     "output_type": "execute_result"
    }
   ],
   "source": [
    "# Create pipeline which includes Scaling and Random Forest, \n",
    "# Create a classifier using Cross-validated GridSearch for the best parameters\n",
    "\n",
    "cv = 10\n",
    "metric = \"accuracy\"\n",
    "steps = [('scaler', StandardScaler()), \n",
    "         ('model', RandomForestClassifier(class_weight = 'balanced'))]\n",
    "pipeline = Pipeline(steps)\n",
    "parameters = {'model__n_estimators':[10 , 20, 30, 40, 50],\n",
    "             'model__max_features': ['auto', 'sqrt', 'log2']}\n",
    "\n",
    "clf = GridSearchCV(pipeline, \n",
    "                   parameters, \n",
    "                   n_jobs = -1,\n",
    "                   cv = cv, \n",
    "                   scoring=metric,\n",
    "                   verbose = 10)\n",
    "clf.fit(Xtrain, ytrain)"
   ]
  },
  {
   "cell_type": "code",
   "execution_count": 30,
   "metadata": {},
   "outputs": [
    {
     "name": "stdout",
     "output_type": "stream",
     "text": [
      "The best parameters used was:  {'model__max_features': 'sqrt', 'model__n_estimators': 50}\n",
      "The Accuracy score is:  0.962\n",
      "The F1 score is:  0.916\n",
      "Confusion matrix: \n",
      " [[2046   17]\n",
      " [  73  264]]\n"
     ]
    }
   ],
   "source": [
    "# Evaluate\n",
    "acc_score = accuracy_score(ytest, clf.predict(Xtest))\n",
    "f1macro_score = f1_score(ytest, clf.predict(Xtest), average = \"macro\")\n",
    "cm = confusion_matrix(ytest, clf.predict(Xtest))\n",
    "\n",
    "print(\"The best parameters used was: \",clf.best_params_)\n",
    "print(\"The Accuracy score is: \", round(acc_score, 3))\n",
    "print(\"The F1 score is: \", round(f1macro_score, 3))\n",
    "print(\"Confusion matrix: \\n\", cm) "
   ]
  },
  {
   "cell_type": "code",
   "execution_count": 31,
   "metadata": {},
   "outputs": [
    {
     "data": {
      "image/png": "[encoded data removed]",
      "text/plain": [
       "<Figure size 432x288 with 1 Axes>"
      ]
     },
     "metadata": {
      "needs_background": "light"
     },
     "output_type": "display_data"
    }
   ],
   "source": [
    "# How discriminative is days_since_log\n",
    "\n",
    "sns.boxplot(data = [df[df.label == 0].days_since_log, df[df.label == 1].days_since_log])\n",
    "plt.xticks((0,1),(\"Non-adopted\", \"Adopted\"))\n",
    "plt.xlabel('Label')\n",
    "plt.ylabel('Distribution')\n",
    "plt.show()"
   ]
  },
  {
   "cell_type": "code",
   "execution_count": 32,
   "metadata": {},
   "outputs": [
    {
     "data": {
      "image/png": "[encoded data removed]",
      "text/plain": [
       "<Figure size 432x288 with 1 Axes>"
      ]
     },
     "metadata": {
      "needs_background": "light"
     },
     "output_type": "display_data"
    }
   ],
   "source": [
    "# How discriminative is days_since_create\n",
    "\n",
    "sns.boxplot(data = [df[df.label == 0].days_since_create, df[df.label == 1].days_since_create])\n",
    "plt.xticks((0,1),(\"Non-adopted\", \"Adopted\"))\n",
    "plt.xlabel('Label')\n",
    "plt.ylabel('Distribution')\n",
    "plt.show()"
   ]
  },
  {
   "cell_type": "markdown",
   "metadata": {},
   "source": [
    "<font color=GREEN> <b>Results</b>: The model was able to achieve an impressive 96.2% accuracy score and 0.915 f1 score, which tells us that the model was able to distinguish the class very accurately. This proves that the features were found were indeed very important. For example, the box plots of the two most important features show that if a user has logged in recently, he/she is extremely likely to be adopted.</font>"
   ]
  },
  {
   "cell_type": "markdown",
   "metadata": {},
   "source": [
    "<font color=GREEN> <b>Further research:</b> Although our model was able to achieve a very accurate score, to reflect the reality of the business, I think the criteria for a user to be label to be \"adopted\" should be more rigorously researched. For instance, if a user logged in 3 times within a week a long time ago, but hasn't logged in at all since then, the user would still be labeled adopted despite his/her inactivity.</font>"
   ]
  }
 ],
 "metadata": {
  "kernelspec": {
   "display_name": "Python 3",
   "language": "python",
   "name": "python3"
  },
  "language_info": {
   "codemirror_mode": {
    "name": "ipython",
    "version": 3
   },
   "file_extension": ".py",
   "mimetype": "text/x-python",
   "name": "python",
   "nbconvert_exporter": "python",
   "pygments_lexer": "ipython3",
   "version": "3.7.3"
  }
 },
 "nbformat": 4,
 "nbformat_minor": 2
}
