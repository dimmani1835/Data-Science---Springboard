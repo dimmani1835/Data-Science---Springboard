{
 "cells": [
  {
   "cell_type": "markdown",
   "metadata": {},
   "source": [
    "This exercise will require you to pull some data from the Qunadl API. Qaundl is currently the most widely used aggregator of financial market data."
   ]
  },
  {
   "cell_type": "markdown",
   "metadata": {},
   "source": [
    "As a first step, you will need to register a free account on the http://www.quandl.com website."
   ]
  },
  {
   "cell_type": "markdown",
   "metadata": {},
   "source": [
    "After you register, you will be provided with a unique API key, that you should store:"
   ]
  },
  {
   "cell_type": "code",
   "execution_count": 1,
   "metadata": {},
   "outputs": [],
   "source": [
    "# Store the API key as a string - according to PEP8, constants are always named in all upper case\n",
    "API_KEY = \"[Input your Api key]\"\n",
    "start_date = \"2017-01-01\"\n",
    "end_date = \"2017-01-02\""
   ]
  },
  {
   "cell_type": "markdown",
   "metadata": {},
   "source": [
    "Qaundl has a large number of data sources, but, unfortunately, most of them require a Premium subscription. Still, there are also a good number of free datasets."
   ]
  },
  {
   "cell_type": "markdown",
   "metadata": {},
   "source": [
    "For this mini project, we will focus on equities data from the Frankfurt Stock Exhange (FSE), which is available for free. We'll try and analyze the stock prices of a company called Carl Zeiss Meditec, which manufactures tools for eye examinations, as well as medical lasers for laser eye surgery: https://www.zeiss.com/meditec/int/home.html. The company is listed under the stock ticker AFX_X."
   ]
  },
  {
   "cell_type": "markdown",
   "metadata": {},
   "source": [
    "You can find the detailed Quandl API instructions here: https://docs.quandl.com/docs/time-series"
   ]
  },
  {
   "cell_type": "markdown",
   "metadata": {},
   "source": [
    "While there is a dedicated Python package for connecting to the Quandl API, we would prefer that you use the *requests* package, which can be easily downloaded using *pip* or *conda*. You can find the documentation for the package here: http://docs.python-requests.org/en/master/ "
   ]
  },
  {
   "cell_type": "markdown",
   "metadata": {},
   "source": [
    "Finally, apart from the *requests* package, you are encouraged to not use any third party Python packages, such as *pandas*, and instead focus on what's available in the Python Standard Library (the *collections* module might come in handy: https://pymotw.com/3/collections/ ).\n",
    "Also, since you won't have access to DataFrames, you are encouraged to us Python's native data structures - preferably dictionaries, though some questions can also be answered using lists.\n",
    "You can read more on these data structures here: https://docs.python.org/3/tutorial/datastructures.html"
   ]
  },
  {
   "cell_type": "markdown",
   "metadata": {},
   "source": [
    "Keep in mind that the JSON responses you will be getting from the API map almost one-to-one to Python's dictionaries. Unfortunately, they can be very nested, so make sure you read up on indexing dictionaries in the documentation provided above."
   ]
  },
  {
   "cell_type": "code",
   "execution_count": 2,
   "metadata": {},
   "outputs": [],
   "source": [
    "# First, import the relevant modules\n",
    "import requests"
   ]
  },
  {
   "cell_type": "code",
   "execution_count": 3,
   "metadata": {},
   "outputs": [
    {
     "name": "stdout",
     "output_type": "stream",
     "text": [
      "{'dataset': {'id': 10095370, 'dataset_code': 'AFX_X', 'database_code': 'FSE', 'name': 'Carl Zeiss Meditec (AFX_X)', 'description': 'Stock Prices for Carl Zeiss Meditec (AFX) from the Frankfurt Stock Exchange.<br><br>Trading System: Xetra<br><br>ISIN: DE0005313704', 'refreshed_at': '2019-06-06T22:32:37.779Z', 'newest_available_date': '2019-06-06', 'oldest_available_date': '2000-06-07', 'column_names': ['Date', 'Open', 'High', 'Low', 'Close', 'Change', 'Traded Volume', 'Turnover', 'Last Price of the Day', 'Daily Traded Units', 'Daily Turnover'], 'frequency': 'daily', 'type': 'Time Series', 'premium': False, 'limit': 1, 'transform': None, 'column_index': None, 'start_date': '2017-01-01', 'end_date': '2017-01-02', 'data': [['2017-01-02', 34.99, 35.94, 34.99, 35.8, None, 44700.0, 1590561.0, None, None, None]], 'collapse': None, 'order': None, 'database_id': 6129}}\n"
     ]
    }
   ],
   "source": [
    "# Now, call the Quandl API and pull out a small sample of the data (only one day) to get a glimpse\n",
    "# into the JSON structure that will be returned\n",
    "r = requests.get(\"https://www.quandl.com/api/v3/datasets/FSE/AFX_X.json?&start_date=\" + start_date + \"&end_date=\" + end_date + \"&rows=1&api_key=\" + API_KEY)\n",
    "print(r.json())\n"
   ]
  },
  {
   "cell_type": "code",
   "execution_count": 4,
   "metadata": {},
   "outputs": [],
   "source": [
    "# Inspect the JSON structure of the object you created, and take note of how nested it is,\n",
    "# as well as the overall structure\n"
   ]
  },
  {
   "cell_type": "markdown",
   "metadata": {},
   "source": [
    "These are your tasks for this mini project:\n",
    "\n",
    "1. Collect data from the Franfurt Stock Exchange, for the ticker AFX_X, for the whole year 2017 (keep in mind that the date format is YYYY-MM-DD).\n",
    "2. Convert the returned JSON object into a Python dictionary.\n",
    "3. Calculate what the highest and lowest opening prices were for the stock in this period.\n",
    "4. What was the largest change in any one day (based on High and Low price)?\n",
    "5. What was the largest change between any two days (based on Closing Price)?\n",
    "6. What was the average daily trading volume during this year?\n",
    "7. (Optional) What was the median trading volume during this year. (Note: you may need to implement your own function for calculating the median.)"
   ]
  },
  {
   "cell_type": "code",
   "execution_count": 5,
   "metadata": {},
   "outputs": [],
   "source": [
    "# Collect data for the whole year of 2017 and take the 'data' information only\n",
    "\n",
    "start_date = \"2017-01-01\"\n",
    "end_date = \"2017-12-31\"\n",
    "r = requests.get(\"https://www.quandl.com/api/v3/datasets/FSE/AFX_X.json?&start_date=\" + start_date + \"&end_date=\" + end_date + \"&api_key=\" + API_KEY)\n",
    "raw_data = r.json()['dataset']['data']\n",
    "keys = r.json()['dataset']['column_names']"
   ]
  },
  {
   "cell_type": "code",
   "execution_count": 6,
   "metadata": {},
   "outputs": [],
   "source": [
    "# Convert raw data into a Python dictionary\n",
    "\n",
    "data_dict=[]\n",
    "for row in raw_data:\n",
    "    row_dict = dict(zip(keys,row))\n",
    "    data_dict.append(row_dict)"
   ]
  },
  {
   "cell_type": "code",
   "execution_count": 7,
   "metadata": {},
   "outputs": [
    {
     "data": {
      "text/plain": [
       "[{'Date': '2017-12-29',\n",
       "  'Open': 51.76,\n",
       "  'High': 51.94,\n",
       "  'Low': 51.45,\n",
       "  'Close': 51.76,\n",
       "  'Change': None,\n",
       "  'Traded Volume': 34640.0,\n",
       "  'Turnover': 1792304.0,\n",
       "  'Last Price of the Day': None,\n",
       "  'Daily Traded Units': None,\n",
       "  'Daily Turnover': None},\n",
       " {'Date': '2017-12-28',\n",
       "  'Open': 51.65,\n",
       "  'High': 51.82,\n",
       "  'Low': 51.43,\n",
       "  'Close': 51.6,\n",
       "  'Change': None,\n",
       "  'Traded Volume': 40660.0,\n",
       "  'Turnover': 2099024.0,\n",
       "  'Last Price of the Day': None,\n",
       "  'Daily Traded Units': None,\n",
       "  'Daily Turnover': None}]"
      ]
     },
     "execution_count": 7,
     "metadata": {},
     "output_type": "execute_result"
    }
   ],
   "source": [
    "# brieftly check the dictionary\n",
    "data_dict[:2]"
   ]
  },
  {
   "cell_type": "code",
   "execution_count": 8,
   "metadata": {},
   "outputs": [
    {
     "name": "stdout",
     "output_type": "stream",
     "text": [
      "The highest opening price is: $53.11. The lowest opening price is: $34.0\n"
     ]
    }
   ],
   "source": [
    "# Find the highest and lowest opening price\n",
    "\n",
    "open_price_list = []\n",
    "for row in data_dict:\n",
    "    open_price = row['Open']\n",
    "    if type(open_price) == float:\n",
    "        open_price_list.append(open_price)\n",
    "print('The highest opening price is: $' + str(max(open_price_list)) + \n",
    "      '. The lowest opening price is: $' + str(min(open_price_list)))"
   ]
  },
  {
   "cell_type": "code",
   "execution_count": 9,
   "metadata": {},
   "outputs": [
    {
     "name": "stdout",
     "output_type": "stream",
     "text": [
      "The largest change is: $2.81\n"
     ]
    }
   ],
   "source": [
    "# Find the largest change in any date\n",
    "\n",
    "change_price = []\n",
    "for row in data_dict:\n",
    "    high_price = row['High']\n",
    "    low_price = row['Low']\n",
    "    if (type(high_price) == float) and (type(low_price) == float):\n",
    "        change_price.append(high_price - low_price)\n",
    "print('The largest change is: $' + str(round(max(change_price),2)))"
   ]
  },
  {
   "cell_type": "code",
   "execution_count": 10,
   "metadata": {},
   "outputs": [
    {
     "name": "stdout",
     "output_type": "stream",
     "text": [
      "The largest change in two days is: $2.56\n"
     ]
    }
   ],
   "source": [
    "# Find the largest change in any two days\n",
    "\n",
    "close_price_list = []\n",
    "for row in data_dict:\n",
    "    close_price = row['Close']\n",
    "    if type(close_price) == float:\n",
    "        close_price_list.append(close_price)\n",
    "import numpy as np\n",
    "diff_list = np.diff(close_price_list)\n",
    "print('The largest change in two days is: $' + str(round(max(diff_list),2)))"
   ]
  },
  {
   "cell_type": "code",
   "execution_count": 11,
   "metadata": {},
   "outputs": [
    {
     "name": "stdout",
     "output_type": "stream",
     "text": [
      "The average daily trading volume is: $89124.34\n"
     ]
    }
   ],
   "source": [
    "# Find the average daily trading volume\n",
    "\n",
    "traded_volume_list = []\n",
    "for row in data_dict:\n",
    "    traded_volume = row['Traded Volume']\n",
    "    if type(traded_volume) == float:\n",
    "        traded_volume_list.append(traded_volume)\n",
    "print('The average daily trading volume is: $' + str(round(np.mean(traded_volume_list),2)))"
   ]
  },
  {
   "cell_type": "code",
   "execution_count": 12,
   "metadata": {
    "scrolled": true
   },
   "outputs": [],
   "source": [
    "# Define the custom find_median function\n",
    "\n",
    "def find_median(list):\n",
    "    if len(list) % 2 == 1:\n",
    "        median_index = len(list) // 2\n",
    "        median_value = sorted(list)[median_index]\n",
    "        return median_value\n",
    "    else:\n",
    "        median_finder = len(list) // 2\n",
    "        median_value = 0.5 * (sorted(list)[median_finder] + sorted(list)[median_finder - 1])\n",
    "        return median_value\n",
    "        "
   ]
  },
  {
   "cell_type": "code",
   "execution_count": 13,
   "metadata": {},
   "outputs": [
    {
     "name": "stdout",
     "output_type": "stream",
     "text": [
      "The median daily trading volume is: $76286.0\n"
     ]
    }
   ],
   "source": [
    "# Find the median trading volume using the find_median custom function\n",
    "\n",
    "traded_volume_list = []\n",
    "for row in data_dict:\n",
    "    traded_volume = row['Traded Volume']\n",
    "    if type(traded_volume) == float:\n",
    "        traded_volume_list.append(traded_volume)\n",
    "print('The median daily trading volume is: $' + str(round(find_median(traded_volume_list),2)))"
   ]
  },
  {
   "cell_type": "code",
   "execution_count": null,
   "metadata": {},
   "outputs": [],
   "source": []
  }
 ],
 "metadata": {
  "kernelspec": {
   "display_name": "Python 3",
   "language": "python",
   "name": "python3"
  },
  "language_info": {
   "codemirror_mode": {
    "name": "ipython",
    "version": 3
   },
   "file_extension": ".py",
   "mimetype": "text/x-python",
   "name": "python",
   "nbconvert_exporter": "python",
   "pygments_lexer": "ipython3",
   "version": "3.7.3"
  }
 },
 "nbformat": 4,
 "nbformat_minor": 2
}
