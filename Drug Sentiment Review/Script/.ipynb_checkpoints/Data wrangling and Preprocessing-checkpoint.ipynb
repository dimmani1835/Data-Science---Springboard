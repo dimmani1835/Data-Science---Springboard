{
 "cells": [
  {
   "cell_type": "markdown",
   "metadata": {},
   "source": [
    "# Part 0: Import, Directory and Preference settings"
   ]
  },
  {
   "cell_type": "code",
   "execution_count": 1,
   "metadata": {},
   "outputs": [],
   "source": [
    "# Import modules\n",
    "\n",
    "import pandas as pd\n",
    "import numpy as np\n",
    "import matplotlib.pyplot as plt\n",
    "import seaborn as sns\n",
    "import os\n",
    "import json\n",
    "import random"
   ]
  },
  {
   "cell_type": "code",
   "execution_count": 2,
   "metadata": {},
   "outputs": [],
   "source": [
    "# Set options\n",
    "\n",
    "%matplotlib inline\n",
    "pd.set_option('display.max_columns', 30)\n",
    "pd.set_option('display.max_rows', 30)\n",
    "pd.options.display.max_columns=100\n",
    "pd.options.display.max_rows=100\n",
    "\n",
    "np.random.seed(42)"
   ]
  },
  {
   "cell_type": "code",
   "execution_count": 3,
   "metadata": {},
   "outputs": [],
   "source": [
    "# ignore deprecation warnings in sklearn\n",
    "\n",
    "import warnings\n",
    "warnings.filterwarnings(\"ignore\")"
   ]
  },
  {
   "cell_type": "code",
   "execution_count": 4,
   "metadata": {},
   "outputs": [],
   "source": [
    "# Specify data directory\n",
    "\n",
    "data_dir = os.path.join(os.path.dirname(os.getcwd()),'Data')"
   ]
  },
  {
   "cell_type": "code",
   "execution_count": 5,
   "metadata": {},
   "outputs": [],
   "source": [
    "# Set data paths\n",
    "\n",
    "data_path = os.path.join(data_dir, 'Data')\n",
    "\n",
    "train_path = os.path.join(data_dir, 'train.csv')\n",
    "\n",
    "holdout_path = os.path.join(data_dir, 'test.csv')"
   ]
  },
  {
   "cell_type": "code",
   "execution_count": 6,
   "metadata": {},
   "outputs": [],
   "source": [
    "# Set model path\n",
    "\n",
    "model_dir = os.path.join(os.path.dirname(os.getcwd()), 'Model')"
   ]
  },
  {
   "cell_type": "code",
   "execution_count": 7,
   "metadata": {},
   "outputs": [],
   "source": [
    "# Read the dataset\n",
    "\n",
    "train = pd.read_csv(train_path)\n",
    "holdout = pd.read_csv(holdout_path)"
   ]
  },
  {
   "cell_type": "markdown",
   "metadata": {},
   "source": [
    "# Part 1: Basic Information"
   ]
  },
  {
   "cell_type": "code",
   "execution_count": 8,
   "metadata": {},
   "outputs": [
    {
     "name": "stdout",
     "output_type": "stream",
     "text": [
      "(5279, 4)\n",
      "(2924, 3)\n",
      "0.6435450444959161\n"
     ]
    }
   ],
   "source": [
    "# Print the dimensions of both sets and the split percentage of training set\n",
    "\n",
    "print(train.shape)\n",
    "print(holdout.shape)\n",
    "print(len(train)/(len(holdout) + len(train)))"
   ]
  },
  {
   "cell_type": "code",
   "execution_count": 9,
   "metadata": {
    "scrolled": true
   },
   "outputs": [
    {
     "name": "stdout",
     "output_type": "stream",
     "text": [
      "<class 'pandas.core.frame.DataFrame'>\n",
      "RangeIndex: 5279 entries, 0 to 5278\n",
      "Data columns (total 4 columns):\n",
      "unique_hash    5279 non-null object\n",
      "text           5279 non-null object\n",
      "drug           5279 non-null object\n",
      "sentiment      5279 non-null int64\n",
      "dtypes: int64(1), object(3)\n",
      "memory usage: 165.0+ KB\n",
      "None\n",
      "<class 'pandas.core.frame.DataFrame'>\n",
      "RangeIndex: 2924 entries, 0 to 2923\n",
      "Data columns (total 3 columns):\n",
      "unique_hash    2924 non-null object\n",
      "text           2924 non-null object\n",
      "drug           2924 non-null object\n",
      "dtypes: object(3)\n",
      "memory usage: 68.6+ KB\n",
      "None\n"
     ]
    }
   ],
   "source": [
    "# Print the info columns of both sets\n",
    "\n",
    "print(train.info())\n",
    "print(holdout.info())"
   ]
  },
  {
   "cell_type": "code",
   "execution_count": 10,
   "metadata": {},
   "outputs": [
    {
     "name": "stdout",
     "output_type": "stream",
     "text": [
      "                                unique_hash  \\\n",
      "0  2e180be4c9214c1f5ab51fd8cc32bc80c9f612e0   \n",
      "1  9eba8f80e7e20f3a2f48685530748fbfa95943e4   \n",
      "2  fe809672251f6bd0d986e00380f48d047c7e7b76   \n",
      "3  bd22104dfa9ec80db4099523e03fae7a52735eb6   \n",
      "4  b227688381f9b25e5b65109dd00f7f895e838249   \n",
      "\n",
      "                                                text        drug  sentiment  \n",
      "0  Autoimmune diseases tend to come in clusters. ...     gilenya          2  \n",
      "1  I can completely understand why you’d want to ...     gilenya          2  \n",
      "2  Interesting that it only targets S1P-1/5 recep...  fingolimod          2  \n",
      "3  Very interesting, grand merci. Now I wonder wh...     ocrevus          2  \n",
      "4  Hi everybody, My latest MRI results for Brain ...     gilenya          1  \n"
     ]
    }
   ],
   "source": [
    "# View 5 first rows in the train set\n",
    "\n",
    "print(train.head())"
   ]
  },
  {
   "cell_type": "code",
   "execution_count": 11,
   "metadata": {},
   "outputs": [
    {
     "name": "stdout",
     "output_type": "stream",
     "text": [
      "unique_hash    0\n",
      "text           0\n",
      "drug           0\n",
      "sentiment      0\n",
      "dtype: int64\n",
      "unique_hash    0\n",
      "text           0\n",
      "drug           0\n",
      "dtype: int64\n"
     ]
    }
   ],
   "source": [
    "# Consider the missingness of the data\n",
    "\n",
    "print(np.sum(train.isna()))\n",
    "print(np.sum(holdout.isna()))"
   ]
  },
  {
   "cell_type": "code",
   "execution_count": 12,
   "metadata": {},
   "outputs": [
    {
     "name": "stdout",
     "output_type": "stream",
     "text": [
      "unique_hash    5279\n",
      "text           5181\n",
      "drug            102\n",
      "sentiment         3\n",
      "dtype: int64\n",
      "unique_hash    2924\n",
      "text           2721\n",
      "drug             95\n",
      "dtype: int64\n"
     ]
    }
   ],
   "source": [
    "# Consider the classes of the values in each set\n",
    "\n",
    "print(train.nunique())\n",
    "print(holdout.nunique())"
   ]
  },
  {
   "cell_type": "markdown",
   "metadata": {},
   "source": [
    "# Part 2: Preprocessing Function"
   ]
  },
  {
   "cell_type": "markdown",
   "metadata": {},
   "source": [
    "<div class=\"span5 alert alert-success\">\n",
    "We are most interested in the sentiment classes (our label) and the drug classes. It seems there are 102 drugs being reviewed about and 3 sentiments placed on them (positive, negative or neutral)\n",
    "</div>"
   ]
  },
  {
   "cell_type": "code",
   "execution_count": 13,
   "metadata": {},
   "outputs": [
    {
     "name": "stdout",
     "output_type": "stream",
     "text": [
      "This is an update of the Cochrane review \"Teriflunomide for multiple sclerosis\" (first published in The Cochrane Library 2012, Issue 12).Multiple sclerosis (MS) is a chronic immune-mediated disease of the central nervous system. It is clinically characterized by recurrent relapses or progression, or both, often leading to severe neurological disability and a serious decline in quality of life. Disease-modifying therapies (DMTs) for MS aim to prevent occurrence of relapses and disability progression. Teriflunomide is a pyrimidine synthesis inhibitor approved by both the US Food and Drug Administration (FDA) and the European Medicines Agency (EMA) as a DMT for adults with relapsing-remitting MS (RRMS).  OBJECTIVES: To assess the absolute and comparative effectiveness and safety of teriflunomide as monotherapy or combination therapy versus placebo or other disease-modifying drugs (DMDs) (interferon beta (IFNβ), glatiramer acetate, natalizumab, mitoxantrone, fingolimod, dimethyl fumarate, alemtuzumab) for modifying the disease course in people with MS.  SEARCH METHODS: We searched the Cochrane Multiple Sclerosis and Rare Diseases of the CNS Group Specialised Trials Register (30 September 2015). We checked reference lists of published reviews and retrieved articles and searched reports (2004 to September 2015) from the MS societies in Europe and America. We also communicated with investigators participating in trials of teriflunomide and the pharmaceutical company, Sanofi-Aventis.  SELECTION CRITERIA: We included randomized, controlled, parallel-group clinical trials with a length of follow-up of one year or greater evaluating teriflunomide, as monotherapy or combination therapy, versus placebo or other approved DMDs for people with MS without restrictions regarding dose, administration frequency and duration of treatment.  DATA COLLECTION AND ANALYSIS: We used the standard methodological procedures of Cochrane. Two review authors independently assessed trial quality and extracted data. Disagreements were discussed and resolved by consensus among the review authors. We contacted the principal investigators of included studies for additional data or confirmation of data.  MAIN RESULTS: Five studies involving 3231 people evaluated the efficacy and safety of teriflunomide 7 mg and 14 mg, alone or with add-on IFNβ, versus placebo or IFNβ-1a for adults with relapsing forms of MS and an entry Expanded Disability Status Scale score of less than 5.5.Overall, there were obvious clinical heterogeneities due to diversities in study designs or interventions and methodological heterogeneities across studies. All studies had a high risk of detection bias for relapse assessment and a high risk of bias due to conflicts of interest. Among them, three studies additionally had a high risk of attrition bias due to a high dropout rate and two studies had an unclear risk of attrition bias. The studies of combination therapy with IFNβ (650 participants) and the study with IFNβ-1a as controls (324 participants) also had a high risk for performance bias and a lack of power due to the limited sample.Two studies evaluated the benefit and the safety of teriflunomide as monotherapy versus placebo over a period of one year (1169 participants) or two years (1088 participants). A meta-analysis was not conducted. Compared to placebo, administration of teriflunomide at a dose of 7 mg/day or 14 mg/day as monotherapy reduced the number of participants with at least one relapse over one year (risk ratio (RR) 0.72, 95% confidence interval (CI) 0.59 to 0.87, P value = 0.001 with 7 mg/day and RR 0.60, 95% CI 0.48 to 0.75, P value < 0.00001 with 14 mg/day) or two years (RR 0.85, 95% CI 0.74 to 0.98, P value = 0.03 with 7 mg/day and RR 0.80, 95% CI 0.69 to 0.93, P value = 0.004 with 14 days). Only teriflunomide at a dose of 14 mg/day reduced the number of participants with disability progression over one year (RR 0.55, 95% CI 0.36 to 0.84, P value = 0.006) or two years (RR 0.74, 95% CI 0.56 to 0.96, P value = 0.02). When taking the effect of drop-outs into consideration, the likely-case scenario analyses still showed a benefit in reducing the number of participants with at least one relapse, but not for the number of participants with disability progression. Both doses also reduced the annualized relapse rate and the number of gadolinium-enhancing T1-weighted lesions over two years. Quality of evidence for relapse outcomes at one year or at two years was low, while for disability progression at one year or at two years was very low.When compared to IFNβ-1a, teriflunomide at a dose of 14 mg/day had a similar efficacy to IFNβ-1a in reducing the proportion of participants with at least one relapse over one year, while teriflunomide at a dose of 7 mg/day was inferior to IFNβ-1a (RR 1.52, 95% CI 0.87 to 2.67, P value = 0.14; 215 participants with 14 mg/day and RR 2.74, 95% CI 1.66 to 4.53, P value < 0.0001; 213 participants with 7 mg/day). However, the quality of evidence was very low.In terms of safety profile, the most common adverse events associated with teriflunomide were diarrhoea, nausea, hair thinning, elevated alanine aminotransferase, neutropenia and lymphopenia. These adverse events had a dose-related effects and rarely led to treatment discontinuation.  AUTHORS' CONCLUSIONS: There was low-quality evidence to support that teriflunomide at a dose of 7 mg/day or 14 mg/day as monotherapy reduces both the number of participants with at least one relapse and the annualized relapse rate over one year or two years of treatment in comparison with placebo. Only teriflunomide at a dose of 14 mg/day reduced the number of participants with disability progression and delayed the progression of disability over one year or two years, but the quality of the evidence was very low. The quality of available data was too low to evaluate the benefit teriflunomide as monotherapy versus IFNβ-1a or as combination therapy with IFNβ. The common adverse effects were diarrhoea, nausea, hair thinning, elevated alanine aminotransferase, neutropenia and lymphopenia. These adverse effects were mostly mild-to-moderate in severity, but had a dose-related effect. New studies of high quality and longer follow-up are needed to evaluate the comparative benefit of teriflunomide on these outcomes and the safety in comparison with other DMTs.\n"
     ]
    }
   ],
   "source": [
    "# Next, we must clean the data. First, let's take a random review\n",
    "\n",
    "sample_text = train.text[random.randint(1,len(train))]\n",
    "print(sample_text)"
   ]
  },
  {
   "cell_type": "code",
   "execution_count": 14,
   "metadata": {
    "scrolled": true
   },
   "outputs": [
    {
     "name": "stderr",
     "output_type": "stream",
     "text": [
      "[nltk_data] Downloading package wordnet to C:\\Users\\Zach\n",
      "[nltk_data]     Nguyen\\AppData\\Roaming\\nltk_data...\n",
      "[nltk_data]   Package wordnet is already up-to-date!\n",
      "[nltk_data] Downloading package stopwords to C:\\Users\\Zach\n",
      "[nltk_data]     Nguyen\\AppData\\Roaming\\nltk_data...\n",
      "[nltk_data]   Package stopwords is already up-to-date!\n",
      "[nltk_data] Downloading package averaged_perceptron_tagger to\n",
      "[nltk_data]     C:\\Users\\Zach Nguyen\\AppData\\Roaming\\nltk_data...\n",
      "[nltk_data]   Package averaged_perceptron_tagger is already up-to-\n",
      "[nltk_data]       date!\n",
      "[nltk_data] Downloading package maxent_treebank_pos_tagger to\n",
      "[nltk_data]     C:\\Users\\Zach Nguyen\\AppData\\Roaming\\nltk_data...\n",
      "[nltk_data]   Package maxent_treebank_pos_tagger is already up-to-\n",
      "[nltk_data]       date!\n"
     ]
    }
   ],
   "source": [
    "# Define cleaning modules and cleaning functions\n",
    "\n",
    "import re\n",
    "import nltk\n",
    "\n",
    "from nltk import word_tokenize, pos_tag\n",
    "from nltk.corpus import stopwords\n",
    "from nltk.stem import WordNetLemmatizer\n",
    "from nltk.tokenize import sent_tokenize\n",
    "from nltk.corpus import wordnet\n",
    "from custom_function.contractions import CONTRACTION_MAP\n",
    "from unicodedata import normalize\n",
    "\n",
    "# Import nltk resources\n",
    "resources = [\"wordnet\", \"stopwords\", \"punkt\", \\\n",
    "             \"averaged_perceptron_tagger\", \"maxent_treebank_pos_tagger\"]\n",
    "\n",
    "for resource in resources:\n",
    "    try:\n",
    "        nltk.data.find(\"tokenizers/\" + resource)\n",
    "    except LookupError:\n",
    "        nltk.download(resource)\n",
    "\n",
    "# Create stopwords list        \n",
    "STOPWORDS = set(stopwords.words('english'))\n",
    "\n",
    "# Define lemmatizing functions\n",
    "def lemmatize_doc(document):\n",
    "    \"\"\" \n",
    "    Conduct pre-processing, tag words then returns sentence with lemmatized words\n",
    "    \"\"\"\n",
    "    \n",
    "    # Create an empty list of lemmatized tokens\n",
    "    lemmatized_list = []\n",
    "    \n",
    "    # Tokenize the sentences\n",
    "    tokenized_sent = sent_tokenize(document)\n",
    "    \n",
    "    # Iterate over sentences to conduct lemmatization\n",
    "    for sentence in tokenized_sent:\n",
    "        \n",
    "        # Tokenize the words in the sentence\n",
    "        tokenized_word = word_tokenize(sentence)\n",
    "        \n",
    "        # Tag the pos of the tokens\n",
    "        tagged_token = pos_tag(tokenized_word)\n",
    "        \n",
    "        # Initialize a empty list of lemmatized words\n",
    "        root = []\n",
    "\n",
    "        # Create Lemmatizer object\n",
    "        lemma = WordNetLemmatizer()\n",
    "\n",
    "        # iterate over the tagged sentences to \n",
    "        for token in tagged_token:\n",
    "\n",
    "            # assign tag and actual word of the token\n",
    "            tag = token[1][0]\n",
    "            word = token[0]\n",
    "\n",
    "            # Lemmatize the token based on tags\n",
    "            if tag.startswith('J'):\n",
    "                root.append(lemma.lemmatize(word, wordnet.ADJ))\n",
    "            elif tag.startswith('V'):\n",
    "                root.append(lemma.lemmatize(word, wordnet.VERB))\n",
    "            elif tag.startswith('N'):\n",
    "                root.append(lemma.lemmatize(word, wordnet.NOUN))\n",
    "            elif tag.startswith('R'):\n",
    "                root.append(lemma.lemmatize(word, wordnet.ADV))\n",
    "            else:          \n",
    "                root.append(word)\n",
    "\n",
    "        # Add the lemmatized word into our list\n",
    "        lemmatized_list.extend(root)\n",
    "        \n",
    "    return \" \".join(lemmatized_list)\n",
    "\n",
    "def expand_contractions(text, contraction_mapping=CONTRACTION_MAP):\n",
    "    \"\"\"\n",
    "    Expand the contractions form to create cohenrent extractions\n",
    "    \"\"\"\n",
    "    \n",
    "    # Substitute quotation marks with apostrophes\n",
    "    text = re.sub(\"’\", \"'\", text)\n",
    "    \n",
    "    # define the contraction pattern with custom contraction mappings\n",
    "    contractions_pattern = re.compile('({})'.format('|'.join(contraction_mapping.keys())), \n",
    "                                      flags=re.IGNORECASE|re.DOTALL)\n",
    "    \n",
    "    # Define function to expand contraction matches\n",
    "    def expand_match(contraction):\n",
    "        match = contraction.group(0)\n",
    "        first_char = match[0]\n",
    "        expanded_contraction = contraction_mapping.get(match)\\\n",
    "                                if contraction_mapping.get(match)\\\n",
    "                                else contraction_mapping.get(match.lower())                       \n",
    "        expanded_contraction = first_char+expanded_contraction[1:]\n",
    "        return expanded_contraction\n",
    "        \n",
    "    expanded_text = contractions_pattern.sub(expand_match, text)\n",
    "    expanded_text = re.sub(\"'\", \"\", expanded_text)\n",
    "    return expanded_text\n",
    "\n",
    "# Define main text cleaning function\n",
    "def clean_text(text):\n",
    "    \"\"\"\n",
    "    Return a processed version of the text given\n",
    "    \"\"\"\n",
    "    # Turn all text into lower case\n",
    "    text = text.lower()\n",
    "    \n",
    "    # Expand all contractions\n",
    "    text = expand_contractions(text)\n",
    "    \n",
    "    # Remove all links\n",
    "    text = re.sub(r'www.[^ ]+', '', text)\n",
    "    text = re.sub(r'https?://[A-Za-z0-9./]+', '', text)\n",
    "    \n",
    "    # Remove stopwords\n",
    "    text = ' '.join(word for word in text.split() if word not in STOPWORDS)\n",
    "    \n",
    "    # Remove all punctuations, except hyphens\n",
    "    text = re.sub(r\"[%;$`“”\\,.!?():\\[\\]\\/]\", ' ', text)\n",
    "\n",
    "    # Remove all shortened words (like \" d \" from \"you'd\")\n",
    "    #no_shorten = re.sub(r\"\\s[dtms]\\s\", ' ', no_punctuation)\n",
    "    #no_shorten = re.sub(r\"\\sre\\s\", ' ', no_shorten)\n",
    "\n",
    "    # Remove all numerics stands by itself\n",
    "    text = re.sub(r\"(?<=\\s)\\d+(?=\\s)\", ' ', text)\n",
    "\n",
    "    # Lemmatize text\n",
    "    text = lemmatize_doc(text)\n",
    "    \n",
    "    # Remove stand-alone hyphens\n",
    "    text = re.sub(r\"\\s-\\s\", ' ', text)\n",
    "    \n",
    "    # Removing Extra spaces\n",
    "    text = re.sub(r'[\\s]+', ' ', text)\n",
    "    \n",
    "    # Convert \n",
    "    return text\n",
    "    "
   ]
  },
  {
   "cell_type": "code",
   "execution_count": 15,
   "metadata": {},
   "outputs": [
    {
     "data": {
      "text/plain": [
       "\"update cochrane review `` teriflunomide multiple sclerosis '' first publish cochrane library issue multiple sclerosis m chronic immune-mediated disease central nervous system clinically characterize recurrent relapse progression both often lead severe neurological disability serious decline quality life disease-modifying therapy dmts ms aim prevent occurrence relapse disability progression teriflunomide pyrimidine synthesis inhibitor approve us food drug administration fda european medicine agency ema dmt adult relapsing-remitting m rrms objectives assess absolute comparative effectiveness safety teriflunomide monotherapy combination therapy versus placebo disease-modifying drug dmds interferon beta ifnβ glatiramer acetate natalizumab mitoxantrone fingolimod dimethyl fumarate alemtuzumab modify disease course people ms search method search cochrane multiple sclerosis rare diseases cns group specialise trial register september checked reference list publish review retrieve article search report september ms society europe america also communicate investigator participate trial teriflunomide pharmaceutical company sanofi-aventis selection criterion include randomize control parallel-group clinical trial length follow-up one year great evaluate teriflunomide monotherapy combination therapy versus placebo approve dmds people ms without restriction regard dose administration frequency duration treatment data collection analysis use standard methodological procedure cochrane two review author independently assess trial quality extract data disagreement discuss resolve consensus among review author contact principal investigator include study additional data confirmation data main result five study involve people evaluate efficacy safety teriflunomide mg mg alone add-on ifnβ versus placebo ifnβ-1a adult relapse form ms entry expand disability status scale score less overall obvious clinical heterogeneity due diversity study designs intervention methodological heterogeneity across study study high risk detection bias relapse assessment high risk bias due conflict interest among them three study additionally high risk attrition bias due high dropout rate two study unclear risk attrition bias study combination therapy ifnβ participant study ifnβ-1a control participant also high risk performance bias lack power due limited sample two study evaluate benefit safety teriflunomide monotherapy versus placebo period one year participants two year participants meta-analysis conduct compare placebo administration teriflunomide dose mg day mg day monotherapy reduce number participant least one relapse one year risk ratio rr confidence interval ci p value = mg day rr ci p value < mg day two year rr ci p value = mg day rr ci p value = day teriflunomide dose mg day reduce number participant disability progression one year rr ci p value = two year rr ci p value = take effect drop-outs consideration likely-case scenario analysis still show benefit reduce number participant least one relapse number participant disability progression dos also reduce annualized relapse rate number gadolinium-enhancing t1-weighted lesion two year quality evidence relapse outcomes one year two year low disability progression one year two year low when compare ifnβ-1a teriflunomide dose mg day similar efficacy ifnβ-1a reduce proportion participant least one relapse one year teriflunomide dose mg day inferior ifnβ-1a rr ci p value = participant mg day rr ci p value < participant mg day however quality evidence low in term safety profile common adverse event associate teriflunomide diarrhoea nausea hair thin elevate alanine aminotransferase neutropenia lymphopenia adverse event dose-related effect rarely lead treatment discontinuation author conclusions low-quality evidence support teriflunomide dose mg day mg day monotherapy reduces number participant least one relapse annualized relapse rate one year two year treatment comparison placebo teriflunomide dose mg day reduce number participant disability progression delay progression disability one year two year quality evidence low quality available data low evaluate benefit teriflunomide monotherapy versus ifnβ-1a combination therapy ifnβ common adverse effect diarrhoea nausea hair thin elevate alanine aminotransferase neutropenia lymphopenia adverse effect mostly mild-to-moderate severity dose-related effect new study high quality longer follow-up need evaluate comparative benefit teriflunomide outcomes safety comparison dmts\""
      ]
     },
     "execution_count": 15,
     "metadata": {},
     "output_type": "execute_result"
    }
   ],
   "source": [
    "# Check the sample text after cleaning\n",
    "clean_text(sample_text)"
   ]
  },
  {
   "cell_type": "code",
   "execution_count": 16,
   "metadata": {},
   "outputs": [
    {
     "name": "stdout",
     "output_type": "stream",
     "text": [
      "Wall time: 4min 58s\n"
     ]
    }
   ],
   "source": [
    "%%time\n",
    "# Apply the pre-processing algorithm into a new dataframe: train_processed\n",
    "\n",
    "train_processed = train[['text', 'drug', 'sentiment']]\n",
    "holdout_processed = holdout[['text', 'drug']]\n",
    "\n",
    "train_processed.text = train_processed.text.apply(clean_text)\n",
    "holdout_processed.text = holdout_processed.text.apply(clean_text)"
   ]
  },
  {
   "cell_type": "code",
   "execution_count": 25,
   "metadata": {},
   "outputs": [],
   "source": [
    "train_processed = train_processed.sort_index()"
   ]
  },
  {
   "cell_type": "code",
   "execution_count": 28,
   "metadata": {},
   "outputs": [
    {
     "data": {
      "text/html": [
       "<div>\n",
       "<style scoped>\n",
       "    .dataframe tbody tr th:only-of-type {\n",
       "        vertical-align: middle;\n",
       "    }\n",
       "\n",
       "    .dataframe tbody tr th {\n",
       "        vertical-align: top;\n",
       "    }\n",
       "\n",
       "    .dataframe thead th {\n",
       "        text-align: right;\n",
       "    }\n",
       "</style>\n",
       "<table border=\"1\" class=\"dataframe\">\n",
       "  <thead>\n",
       "    <tr style=\"text-align: right;\">\n",
       "      <th></th>\n",
       "      <th>text</th>\n",
       "      <th>drug</th>\n",
       "      <th>sentiment</th>\n",
       "    </tr>\n",
       "  </thead>\n",
       "  <tbody>\n",
       "    <tr>\n",
       "      <th>0</th>\n",
       "      <td>autoimmune disease tend come cluster gilenya –...</td>\n",
       "      <td>gilenya</td>\n",
       "      <td>2</td>\n",
       "    </tr>\n",
       "    <tr>\n",
       "      <th>1</th>\n",
       "      <td>completely understand would want try it but re...</td>\n",
       "      <td>gilenya</td>\n",
       "      <td>2</td>\n",
       "    </tr>\n",
       "    <tr>\n",
       "      <th>2</th>\n",
       "      <td>interest target s1p-1 receptor rather 1-5 like...</td>\n",
       "      <td>fingolimod</td>\n",
       "      <td>2</td>\n",
       "    </tr>\n",
       "    <tr>\n",
       "      <th>3</th>\n",
       "      <td>interesting grand merci wonder lemtrada ocrevu...</td>\n",
       "      <td>ocrevus</td>\n",
       "      <td>2</td>\n",
       "    </tr>\n",
       "    <tr>\n",
       "      <th>4</th>\n",
       "      <td>hi everybody late mri result brain cervical co...</td>\n",
       "      <td>gilenya</td>\n",
       "      <td>1</td>\n",
       "    </tr>\n",
       "  </tbody>\n",
       "</table>\n",
       "</div>"
      ],
      "text/plain": [
       "                                                text        drug  sentiment\n",
       "0  autoimmune disease tend come cluster gilenya –...     gilenya          2\n",
       "1  completely understand would want try it but re...     gilenya          2\n",
       "2  interest target s1p-1 receptor rather 1-5 like...  fingolimod          2\n",
       "3  interesting grand merci wonder lemtrada ocrevu...     ocrevus          2\n",
       "4  hi everybody late mri result brain cervical co...     gilenya          1"
      ]
     },
     "execution_count": 28,
     "metadata": {},
     "output_type": "execute_result"
    }
   ],
   "source": [
    "train_processed.head()"
   ]
  },
  {
   "cell_type": "code",
   "execution_count": 26,
   "metadata": {},
   "outputs": [],
   "source": [
    "train_processed.to_json(os.path.join(data_dir, 'interim', 'train_preprocessed.txt'))\n",
    "holdout_processed.to_json(os.path.join(data_dir, 'interim', 'holdout_preprocessed.txt'))"
   ]
  },
  {
   "cell_type": "code",
   "execution_count": null,
   "metadata": {},
   "outputs": [],
   "source": []
  }
 ],
 "metadata": {
  "kernelspec": {
   "display_name": "Python 3",
   "language": "python",
   "name": "python3"
  },
  "language_info": {
   "codemirror_mode": {
    "name": "ipython",
    "version": 3
   },
   "file_extension": ".py",
   "mimetype": "text/x-python",
   "name": "python",
   "nbconvert_exporter": "python",
   "pygments_lexer": "ipython3",
   "version": "3.7.3"
  }
 },
 "nbformat": 4,
 "nbformat_minor": 2
}
