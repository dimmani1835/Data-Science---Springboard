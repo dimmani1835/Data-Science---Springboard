{
 "cells": [
  {
   "cell_type": "markdown",
   "metadata": {},
   "source": [
    "# Part 0: Import, Directory and Preference settings"
   ]
  },
  {
   "cell_type": "code",
   "execution_count": 1,
   "metadata": {},
   "outputs": [],
   "source": [
    "# Import modules\n",
    "\n",
    "import pandas as pd\n",
    "import numpy as np\n",
    "import matplotlib.pyplot as plt\n",
    "import seaborn as sns\n",
    "import os\n",
    "import json\n",
    "import random"
   ]
  },
  {
   "cell_type": "code",
   "execution_count": 2,
   "metadata": {},
   "outputs": [],
   "source": [
    "# Set options\n",
    "\n",
    "%matplotlib inline\n",
    "pd.set_option('display.max_columns', 30)\n",
    "pd.set_option('display.max_rows', 30)\n",
    "pd.options.display.max_columns=100\n",
    "pd.options.display.max_rows=100\n",
    "\n",
    "# Fix random seed\n",
    "np.random.seed(42)\n",
    "random.seed(42)"
   ]
  },
  {
   "cell_type": "code",
   "execution_count": 3,
   "metadata": {},
   "outputs": [],
   "source": [
    "# ignore deprecation warnings in sklearn\n",
    "\n",
    "import warnings\n",
    "warnings.filterwarnings(\"ignore\")"
   ]
  },
  {
   "cell_type": "code",
   "execution_count": 4,
   "metadata": {},
   "outputs": [],
   "source": [
    "# Specify data directory\n",
    "\n",
    "data_dir = os.path.join(os.path.dirname(os.getcwd()),'Data')"
   ]
  },
  {
   "cell_type": "code",
   "execution_count": 5,
   "metadata": {},
   "outputs": [],
   "source": [
    "# Set data paths\n",
    "\n",
    "data_path = os.path.join(data_dir, 'Data')\n",
    "\n",
    "train_path = os.path.join(data_dir, 'train.csv')\n",
    "\n",
    "holdout_path = os.path.join(data_dir, 'test.csv')"
   ]
  },
  {
   "cell_type": "code",
   "execution_count": 6,
   "metadata": {},
   "outputs": [],
   "source": [
    "# Set model path\n",
    "\n",
    "model_dir = os.path.join(os.path.dirname(os.getcwd()), 'Model')\n",
    "\n",
    "# set embedding directory\n",
    "embedding_dir = 'Z:\\\\Jupyter\\\\Embeddings'"
   ]
  },
  {
   "cell_type": "code",
   "execution_count": 7,
   "metadata": {},
   "outputs": [],
   "source": [
    "# Read the dataset\n",
    "\n",
    "train = pd.read_csv(train_path)\n",
    "holdout = pd.read_csv(holdout_path)"
   ]
  },
  {
   "cell_type": "code",
   "execution_count": 8,
   "metadata": {
    "scrolled": true
   },
   "outputs": [
    {
     "name": "stderr",
     "output_type": "stream",
     "text": [
      "[nltk_data] Downloading package wordnet to C:\\Users\\Zach\n",
      "[nltk_data]     Nguyen\\AppData\\Roaming\\nltk_data...\n",
      "[nltk_data]   Package wordnet is already up-to-date!\n",
      "[nltk_data] Downloading package stopwords to C:\\Users\\Zach\n",
      "[nltk_data]     Nguyen\\AppData\\Roaming\\nltk_data...\n",
      "[nltk_data]   Package stopwords is already up-to-date!\n",
      "[nltk_data] Downloading package averaged_perceptron_tagger to\n",
      "[nltk_data]     C:\\Users\\Zach Nguyen\\AppData\\Roaming\\nltk_data...\n",
      "[nltk_data]   Package averaged_perceptron_tagger is already up-to-\n",
      "[nltk_data]       date!\n",
      "[nltk_data] Downloading package maxent_treebank_pos_tagger to\n",
      "[nltk_data]     C:\\Users\\Zach Nguyen\\AppData\\Roaming\\nltk_data...\n",
      "[nltk_data]   Package maxent_treebank_pos_tagger is already up-to-\n",
      "[nltk_data]       date!\n"
     ]
    }
   ],
   "source": [
    "# Define cleaning modules and cleaning functions\n",
    "\n",
    "import re\n",
    "import nltk\n",
    "\n",
    "from nltk import word_tokenize, pos_tag\n",
    "from nltk.corpus import stopwords\n",
    "from nltk.stem import WordNetLemmatizer\n",
    "from nltk.tokenize import sent_tokenize\n",
    "from nltk.corpus import wordnet\n",
    "from custom_function.contractions import CONTRACTION_MAP\n",
    "from unicodedata import normalize\n",
    "\n",
    "# Import nltk resources\n",
    "resources = [\"wordnet\", \"stopwords\", \"punkt\", \\\n",
    "             \"averaged_perceptron_tagger\", \"maxent_treebank_pos_tagger\"]\n",
    "\n",
    "for resource in resources:\n",
    "    try:\n",
    "        nltk.data.find(\"tokenizers/\" + resource)\n",
    "    except LookupError:\n",
    "        nltk.download(resource)\n",
    "\n",
    "# Create stopwords list        \n",
    "STOPWORDS = set(stopwords.words('english'))\n",
    "\n",
    "# Define lemmatizing functions\n",
    "def lemmatize_doc(document):\n",
    "    \"\"\" \n",
    "    Conduct pre-processing, tag words then returns sentence with lemmatized words\n",
    "    \"\"\"\n",
    "    \n",
    "    # Create an empty list of lemmatized tokens\n",
    "    lemmatized_list = []\n",
    "    \n",
    "    # Tokenize the sentences\n",
    "    tokenized_sent = sent_tokenize(document)\n",
    "    \n",
    "    # Iterate over sentences to conduct lemmatization\n",
    "    for sentence in tokenized_sent:\n",
    "        \n",
    "        # Tokenize the words in the sentence\n",
    "        tokenized_word = word_tokenize(sentence)\n",
    "        \n",
    "        # Tag the pos of the tokens\n",
    "        tagged_token = pos_tag(tokenized_word)\n",
    "        \n",
    "        # Initialize a empty list of lemmatized words\n",
    "        root = []\n",
    "\n",
    "        # Create Lemmatizer object\n",
    "        lemma = WordNetLemmatizer()\n",
    "\n",
    "        # iterate over the tagged sentences to \n",
    "        for token in tagged_token:\n",
    "\n",
    "            # assign tag and actual word of the token\n",
    "            tag = token[1][0]\n",
    "            word = token[0]\n",
    "\n",
    "            # Lemmatize the token based on tags\n",
    "            if tag.startswith('J'):\n",
    "                root.append(lemma.lemmatize(word, wordnet.ADJ))\n",
    "            elif tag.startswith('V'):\n",
    "                root.append(lemma.lemmatize(word, wordnet.VERB))\n",
    "            elif tag.startswith('N'):\n",
    "                root.append(lemma.lemmatize(word, wordnet.NOUN))\n",
    "            elif tag.startswith('R'):\n",
    "                root.append(lemma.lemmatize(word, wordnet.ADV))\n",
    "            else:          \n",
    "                root.append(word)\n",
    "\n",
    "        # Add the lemmatized word into our list\n",
    "        lemmatized_list.extend(root)\n",
    "        \n",
    "    return \" \".join(lemmatized_list)\n",
    "\n",
    "def expand_contractions(text, contraction_mapping=CONTRACTION_MAP):\n",
    "    \"\"\"\n",
    "    Expand the contractions form to create cohenrent extractions\n",
    "    \"\"\"\n",
    "    \n",
    "    # Substitute quotation marks with apostrophes\n",
    "    text = re.sub(\"’\", \"'\", text)\n",
    "    \n",
    "    # define the contraction pattern with custom contraction mappings\n",
    "    contractions_pattern = re.compile('({})'.format('|'.join(contraction_mapping.keys())), \n",
    "                                      flags=re.IGNORECASE|re.DOTALL)\n",
    "    \n",
    "    # Define function to expand contraction matches\n",
    "    def expand_match(contraction):\n",
    "        match = contraction.group(0)\n",
    "        first_char = match[0]\n",
    "        expanded_contraction = contraction_mapping.get(match)\\\n",
    "                                if contraction_mapping.get(match)\\\n",
    "                                else contraction_mapping.get(match.lower())                       \n",
    "        expanded_contraction = first_char+expanded_contraction[1:]\n",
    "        return expanded_contraction\n",
    "        \n",
    "    expanded_text = contractions_pattern.sub(expand_match, text)\n",
    "    expanded_text = re.sub(\"'\", \"\", expanded_text)\n",
    "    return expanded_text\n",
    "\n",
    "# Define main text cleaning function\n",
    "def clean_text(text):\n",
    "    \"\"\"\n",
    "    Return a processed version of the text given\n",
    "    \"\"\"\n",
    "    # Turn all text into lower case\n",
    "    text = text.lower()\n",
    "    \n",
    "    # Expand all contractions\n",
    "    text = expand_contractions(text)\n",
    "    \n",
    "    # Remove all links\n",
    "    text = re.sub(r'www.[^ ]+', '', text)\n",
    "    text = re.sub(r'https?://[A-Za-z0-9./]+', '', text)\n",
    "    \n",
    "    # Remove stopwords\n",
    "    text = ' '.join(word for word in text.split() if word not in STOPWORDS)\n",
    "    \n",
    "    # Remove all punctuations, except hyphens\n",
    "    text = re.sub(r\"[%;$`“”\\,.!?():\\[\\]\\/]\", ' ', text)\n",
    "\n",
    "    # Remove all shortened words (like \" d \" from \"you'd\")\n",
    "    #no_shorten = re.sub(r\"\\s[dtms]\\s\", ' ', no_punctuation)\n",
    "    #no_shorten = re.sub(r\"\\sre\\s\", ' ', no_shorten)\n",
    "\n",
    "    # Remove all numerics stands by itself\n",
    "    text = re.sub(r\"(?<=\\s)\\d+(?=\\s)\", ' ', text)\n",
    "\n",
    "    # Lemmatize text\n",
    "    text = lemmatize_doc(text)\n",
    "    \n",
    "    # Remove stand-alone hyphens\n",
    "    text = re.sub(r\"\\s-\\s\", ' ', text)\n",
    "    \n",
    "    # Removing Extra spaces\n",
    "    text = re.sub(r'[\\s]+', ' ', text)\n",
    "    \n",
    "    # Convert \n",
    "    return text\n",
    "    "
   ]
  },
  {
   "cell_type": "code",
   "execution_count": 9,
   "metadata": {},
   "outputs": [
    {
     "name": "stdout",
     "output_type": "stream",
     "text": [
      "Wall time: 3min 25s\n"
     ]
    }
   ],
   "source": [
    "%%time\n",
    "# Apply the pre-processing algorithm into a new dataframe: train_processed\n",
    "\n",
    "train_processed = train[['text', 'drug', 'sentiment']]\n",
    "holdout_processed = holdout[['text', 'drug']]\n",
    "\n",
    "train_processed.text = train_processed.text.apply(clean_text)\n",
    "holdout_processed.text = holdout_processed.text.apply(clean_text)"
   ]
  },
  {
   "cell_type": "code",
   "execution_count": 10,
   "metadata": {},
   "outputs": [],
   "source": [
    "train_processed = train_processed.sort_index()"
   ]
  },
  {
   "cell_type": "code",
   "execution_count": 11,
   "metadata": {
    "scrolled": true
   },
   "outputs": [
    {
     "data": {
      "text/html": [
       "<div>\n",
       "<style scoped>\n",
       "    .dataframe tbody tr th:only-of-type {\n",
       "        vertical-align: middle;\n",
       "    }\n",
       "\n",
       "    .dataframe tbody tr th {\n",
       "        vertical-align: top;\n",
       "    }\n",
       "\n",
       "    .dataframe thead th {\n",
       "        text-align: right;\n",
       "    }\n",
       "</style>\n",
       "<table border=\"1\" class=\"dataframe\">\n",
       "  <thead>\n",
       "    <tr style=\"text-align: right;\">\n",
       "      <th></th>\n",
       "      <th>text</th>\n",
       "      <th>drug</th>\n",
       "      <th>sentiment</th>\n",
       "    </tr>\n",
       "  </thead>\n",
       "  <tbody>\n",
       "    <tr>\n",
       "      <th>0</th>\n",
       "      <td>autoimmune disease tend come cluster gilenya –...</td>\n",
       "      <td>gilenya</td>\n",
       "      <td>2</td>\n",
       "    </tr>\n",
       "    <tr>\n",
       "      <th>1</th>\n",
       "      <td>completely understand would want try it but re...</td>\n",
       "      <td>gilenya</td>\n",
       "      <td>2</td>\n",
       "    </tr>\n",
       "    <tr>\n",
       "      <th>2</th>\n",
       "      <td>interest target s1p-1 receptor rather 1-5 like...</td>\n",
       "      <td>fingolimod</td>\n",
       "      <td>2</td>\n",
       "    </tr>\n",
       "    <tr>\n",
       "      <th>3</th>\n",
       "      <td>interesting grand merci wonder lemtrada ocrevu...</td>\n",
       "      <td>ocrevus</td>\n",
       "      <td>2</td>\n",
       "    </tr>\n",
       "    <tr>\n",
       "      <th>4</th>\n",
       "      <td>hi everybody late mri result brain cervical co...</td>\n",
       "      <td>gilenya</td>\n",
       "      <td>1</td>\n",
       "    </tr>\n",
       "  </tbody>\n",
       "</table>\n",
       "</div>"
      ],
      "text/plain": [
       "                                                text        drug  sentiment\n",
       "0  autoimmune disease tend come cluster gilenya –...     gilenya          2\n",
       "1  completely understand would want try it but re...     gilenya          2\n",
       "2  interest target s1p-1 receptor rather 1-5 like...  fingolimod          2\n",
       "3  interesting grand merci wonder lemtrada ocrevu...     ocrevus          2\n",
       "4  hi everybody late mri result brain cervical co...     gilenya          1"
      ]
     },
     "execution_count": 11,
     "metadata": {},
     "output_type": "execute_result"
    }
   ],
   "source": [
    "train_processed.head()"
   ]
  },
  {
   "cell_type": "markdown",
   "metadata": {},
   "source": [
    "# Logistic Regression"
   ]
  },
  {
   "cell_type": "code",
   "execution_count": 12,
   "metadata": {},
   "outputs": [],
   "source": [
    "# Import Naive Bayes\n",
    "\n",
    "from sklearn.model_selection import train_test_split\n",
    "from sklearn.feature_extraction.text import CountVectorizer\n",
    "from sklearn.feature_extraction.text import TfidfVectorizer\n",
    "from sklearn.naive_bayes import MultinomialNB\n",
    "from sklearn.model_selection import GridSearchCV\n",
    "from sklearn.pipeline import Pipeline\n",
    "from sklearn.metrics import classification_report, confusion_matrix, f1_score\n",
    "from sklearn.multiclass import OneVsRestClassifier\n",
    "from sklearn.ensemble import RandomForestClassifier\n",
    "from sklearn.svm import SVC\n",
    "from sklearn.linear_model import LogisticRegression, SGDClassifier\n",
    "from sklearn.preprocessing import StandardScaler, MinMaxScaler\n",
    "from custom_function.ml import create_classifier, evaluate_classifier, get_model_results\n",
    "import pickle"
   ]
  },
  {
   "cell_type": "code",
   "execution_count": 13,
   "metadata": {
    "scrolled": true
   },
   "outputs": [
    {
     "name": "stdout",
     "output_type": "stream",
     "text": [
      "Number of samples taken is 5279\n",
      "0.4667103420451175\n",
      "[[ 42  34  35]\n",
      " [ 17 108  50]\n",
      " [108 212 450]]\n",
      "Number of samples taken is 4752\n",
      "0.45005235888485356\n",
      "[[ 32  45  50]\n",
      " [ 11  90  57]\n",
      " [ 81 166 419]]\n",
      "Number of samples taken is 4224\n",
      "0.44313109727891287\n",
      "[[ 33  29  51]\n",
      " [  8  77  46]\n",
      " [ 74 177 350]]\n",
      "Number of samples taken is 3696\n",
      "0.4353594949925226\n",
      "[[ 19  21  28]\n",
      " [  6  60  48]\n",
      " [ 55 156 347]]\n",
      "Number of samples taken is 3168\n",
      "0.4312688038290646\n",
      "[[ 18  24  33]\n",
      " [  7  54  30]\n",
      " [ 49 135 284]]\n",
      "Number of samples taken is 2640\n",
      "0.44349868295323586\n",
      "[[ 14  15  27]\n",
      " [ 11  50  32]\n",
      " [ 45  93 241]]\n",
      "Number of samples taken is 2112\n",
      "0.4673514099743608\n",
      "[[ 13   7  12]\n",
      " [ 10  34  31]\n",
      " [ 36  67 213]]\n",
      "Number of samples taken is 1584\n",
      "0.4680256471262895\n",
      "[[  6   2  17]\n",
      " [  4  22  35]\n",
      " [ 15  32 184]]\n",
      "Number of samples taken is 1056\n",
      "0.42781990845118534\n",
      "[[  2   5  18]\n",
      " [  0  11  16]\n",
      " [  1  25 134]]\n",
      "Number of samples taken is 528\n",
      "0.37617135207496655\n",
      "[[ 0  1 13]\n",
      " [ 0  5 11]\n",
      " [ 2  8 66]]\n"
     ]
    }
   ],
   "source": [
    "f1_grid = {}\n",
    "for cut in np.arange(0,1, 0.1):\n",
    "    train_copy = train_processed.copy(deep = True)\n",
    "    remove_n = int(cut * len(train_copy))\n",
    "    drop_indices = np.random.choice(train_copy.index, remove_n, replace=False)\n",
    "    train_subset = train_copy.drop(drop_indices)\n",
    "    print(\"Number of samples taken is %d\" % len(train_subset))\n",
    "    \n",
    "    # Define X and y\n",
    "\n",
    "    X = train_subset.text\n",
    "    y = train_subset.sentiment\n",
    "    indices = train_subset.index\n",
    "\n",
    "    # Split train and test set\n",
    "\n",
    "    Xtrain, Xtest, ytrain, ytest, itrain, itest = train_test_split(X, y, indices, train_size = 0.8, random_state = 42)\n",
    "    \n",
    "    # Build model\n",
    "    vec = TfidfVectorizer(min_df = 1, ngram_range = (1,2)).fit(Xtrain)\n",
    "    Xtrain = vec.transform(Xtrain)\n",
    "    Xtest = vec.transform(Xtest)\n",
    "    clf = LogisticRegression(solver = 'lbfgs', class_weight = 'balanced', C = 0.01)\n",
    "    clf.fit(Xtrain, ytrain)\n",
    "    \n",
    "    \n",
    "    # Extract classifier score\n",
    "    f1macro_score, cm = evaluate_classifier(clf,\n",
    "                                           Xtest,\n",
    "                                           ytest)\n",
    "\n",
    "    # Print score\n",
    "    print(f1macro_score)\n",
    "    print(cm)\n",
    "    \n",
    "    # Save score\n",
    "    f1_grid[len(train_subset)] = f1macro_score"
   ]
  },
  {
   "cell_type": "code",
   "execution_count": 14,
   "metadata": {},
   "outputs": [
    {
     "data": {
      "image/png": "[encoded data removed]",
      "text/plain": [
       "<Figure size 432x288 with 1 Axes>"
      ]
     },
     "metadata": {
      "needs_background": "light"
     },
     "output_type": "display_data"
    }
   ],
   "source": [
    "plt.plot(*zip(*sorted(f1_grid.items())))\n",
    "plt.title(\"Performance of Logistic Regression on Tfidf model\")\n",
    "plt.xticks(list(f1_grid.keys()))\n",
    "plt.xlabel(\"number of samples kept\")\n",
    "plt.ylabel(\"f1 macro score\")\n",
    "plt.show()"
   ]
  },
  {
   "cell_type": "markdown",
   "metadata": {},
   "source": [
    "# Word2Vec Model"
   ]
  },
  {
   "cell_type": "code",
   "execution_count": 15,
   "metadata": {},
   "outputs": [],
   "source": [
    "from gensim.models import Word2Vec, KeyedVectors"
   ]
  },
  {
   "cell_type": "code",
   "execution_count": 16,
   "metadata": {},
   "outputs": [],
   "source": [
    "def get_mean_vector(word2vec_model, n_dim, doc):\n",
    "    \"\"\" \n",
    "    From a document, derive the mean vector of its vocabularies with embeddings from a specified word2vec model with dimension n\n",
    "    \"\"\"\n",
    "    \n",
    "    # remove out-of-vocabulary words\n",
    "    word_list = [word for word in doc if word in word2vec_model.wv.vocab]\n",
    "    \n",
    "    # Take average if the doc contains in-vocabulary words, else, take a matrix of zeroes\n",
    "    if len(word_list) >= 1:\n",
    "        return np.mean(word2vec_model[word_list], axis=0)\n",
    "    else:\n",
    "        return ([0] * n_dim)"
   ]
  },
  {
   "cell_type": "code",
   "execution_count": 17,
   "metadata": {},
   "outputs": [
    {
     "name": "stdout",
     "output_type": "stream",
     "text": [
      "Number of samples taken is 5279\n",
      "0.48460897943313563\n",
      "[[ 61  28  22]\n",
      " [ 23 107  45]\n",
      " [138 207 425]]\n",
      "Number of samples taken is 4752\n",
      "0.4852435432515058\n",
      "[[ 54  31  25]\n",
      " [ 18 106  34]\n",
      " [127 186 370]]\n",
      "Number of samples taken is 4224\n",
      "0.4468698952817607\n",
      "[[ 36  37  36]\n",
      " [ 14  91  36]\n",
      " [121 152 322]]\n",
      "Number of samples taken is 3696\n",
      "0.444472540369183\n",
      "[[ 37  29  30]\n",
      " [ 14  70  28]\n",
      " [ 84 168 280]]\n",
      "Number of samples taken is 3168\n",
      "0.4387719819263469\n",
      "[[ 34  24  29]\n",
      " [ 12  59  21]\n",
      " [ 74 151 230]]\n",
      "Number of samples taken is 2640\n",
      "0.43346717137865953\n",
      "[[ 19  19  24]\n",
      " [  5  46  29]\n",
      " [ 72  92 222]]\n",
      "Number of samples taken is 2112\n",
      "0.4330942904209189\n",
      "[[ 24  18  14]\n",
      " [ 13  31  13]\n",
      " [ 63  81 166]]\n",
      "Number of samples taken is 1584\n",
      "0.4340088432463272\n",
      "[[  9  14  13]\n",
      " [  6  37  13]\n",
      " [ 44  57 124]]\n",
      "Number of samples taken is 1056\n",
      "0.31903210100026463\n",
      "[[ 6 15  8]\n",
      " [ 6 13  8]\n",
      " [35 54 67]]\n",
      "Number of samples taken is 528\n",
      "0.32940332759609864\n",
      "[[ 1  8  1]\n",
      " [ 1 17  3]\n",
      " [12 37 26]]\n"
     ]
    }
   ],
   "source": [
    "f1_grid_w2v = {}\n",
    "for cut in np.arange(0,1, 0.1):\n",
    "    train_copy = train_processed.copy(deep = True)\n",
    "    remove_n = int(cut * len(train_copy))\n",
    "    drop_indices = np.random.choice(train_copy.index, remove_n, replace=False)\n",
    "    train_subset = train_copy.drop(drop_indices)\n",
    "    print(\"Number of samples taken is %d\" % len(train_subset))\n",
    "    \n",
    "    # Define hyper-parameters\n",
    "    n_window = 7\n",
    "    n_dim = 200\n",
    "\n",
    "    sentences = [row.split() for row in train_subset.text]\n",
    "    \n",
    "    w2v_model = Word2Vec(min_count=10,\n",
    "                         window=n_window,\n",
    "                         size=n_dim,\n",
    "                         sample=6e-5, \n",
    "                         alpha=0.03, \n",
    "                         min_alpha=0.0007, \n",
    "                         negative=20,\n",
    "                         workers=1)\n",
    "\n",
    "    w2v_model.build_vocab(sentences)\n",
    "\n",
    "    w2v_model.train(sentences, total_examples=w2v_model.corpus_count, epochs=30)\n",
    "\n",
    "    w2v_model.save(os.path.join(embedding_dir, 'w2v_best.bin'))\n",
    "\n",
    "    #### Derive word2vec features\n",
    "\n",
    "    # Create a dictionary with the vocabs and its embeddings\n",
    "    w2v = dict(zip(w2v_model.wv.index2word, w2v_model.wv.syn0))\n",
    "\n",
    "    # Initialize a vector features dictionary\n",
    "    vec_features = {}\n",
    "\n",
    "    # Iterate over the documents to get the mean of word embeddings feature to derive document embeddings\n",
    "    for index, doc in train_subset.text.iteritems(): \n",
    "        vec_features[index] = get_mean_vector(w2v_model, n_dim, doc.split(' '))\n",
    "\n",
    "    # Create a document feature dataframe\n",
    "    vec_features_df = pd.DataFrame.from_dict(vec_features, 'index')\n",
    "    vec_features_df.shape\n",
    "\n",
    "\n",
    "    # Define X and y\n",
    "\n",
    "    X = vec_features_df\n",
    "    y = train_subset.sentiment\n",
    "    indices = train_subset.index\n",
    "\n",
    "    # Split train and test set\n",
    "\n",
    "    Xtrain, Xtest, ytrain, ytest, itrain, itest = train_test_split(X, y, indices, train_size = 0.8, random_state = 42)\n",
    "    \n",
    "    # Build model\n",
    "    clf = LogisticRegression(solver = 'lbfgs', class_weight = 'balanced', C = 0.01)\n",
    "    clf.fit(Xtrain, ytrain)\n",
    "    \n",
    "    \n",
    "    # Extract classifier score\n",
    "    f1macro_score, cm = evaluate_classifier(clf,\n",
    "                                           Xtest,\n",
    "                                           ytest)\n",
    "\n",
    "    # Print score\n",
    "    print(f1macro_score)\n",
    "    print(cm)\n",
    "    \n",
    "    # Save score\n",
    "    f1_grid_w2v[len(train_subset)] = f1macro_score"
   ]
  },
  {
   "cell_type": "code",
   "execution_count": 18,
   "metadata": {},
   "outputs": [
    {
     "data": {
      "image/png": "[encoded data removed]",
      "text/plain": [
       "<Figure size 432x288 with 1 Axes>"
      ]
     },
     "metadata": {
      "needs_background": "light"
     },
     "output_type": "display_data"
    }
   ],
   "source": [
    "plt.plot(*zip(*sorted(f1_grid_w2v.items())))\n",
    "plt.title(\"Performance of Logistic Regression on Word2Vec embedding\")\n",
    "plt.xticks(list(f1_grid.keys()))\n",
    "plt.xlabel(\"number of samples kept\")\n",
    "plt.ylabel(\"f1 macro score\")\n",
    "plt.show()"
   ]
  },
  {
   "cell_type": "code",
   "execution_count": 22,
   "metadata": {},
   "outputs": [],
   "source": [
    "def mergeDict(dict1, dict2):\n",
    "    \"\"\"\n",
    "    Merge dictionaries and keep values of common keys in list\n",
    "    \"\"\"\n",
    "    \n",
    "    dict3 = {**dict1, **dict2}\n",
    "    for key, value in dict3.items():\n",
    "        if key in dict1 and key in dict2:\n",
    "            dict3[key] = [value, dict1[key]]\n",
    "    return dict3"
   ]
  },
  {
   "cell_type": "code",
   "execution_count": 37,
   "metadata": {},
   "outputs": [],
   "source": [
    "both_score = mergeDict(f1_grid, f1_grid_w2v)"
   ]
  },
  {
   "cell_type": "code",
   "execution_count": 38,
   "metadata": {},
   "outputs": [],
   "source": [
    "both_score_df = pd.DataFrame.from_dict(both_score, orient = 'index')"
   ]
  },
  {
   "cell_type": "code",
   "execution_count": 39,
   "metadata": {},
   "outputs": [],
   "source": [
    "both_score_df.columns = [\"LR-W2V\", \"LR-TFIDF\"]"
   ]
  },
  {
   "cell_type": "code",
   "execution_count": 40,
   "metadata": {},
   "outputs": [
    {
     "data": {
      "image/png": "[encoded data removed]",
      "text/plain": [
       "<Figure size 432x288 with 1 Axes>"
      ]
     },
     "metadata": {
      "needs_background": "light"
     },
     "output_type": "display_data"
    }
   ],
   "source": [
    "both_score_df.plot()\n",
    "plt.title('Performance of Logistic Regression on TFIDF and Word2Vec embedding')\n",
    "plt.xticks(list(both_score_df.index))\n",
    "plt.xlabel(\"number of samples kept\")\n",
    "plt.ylabel(\"f1 macro score\")\n",
    "plt.show()"
   ]
  },
  {
   "cell_type": "code",
   "execution_count": null,
   "metadata": {},
   "outputs": [],
   "source": []
  }
 ],
 "metadata": {
  "kernelspec": {
   "display_name": "Python 3",
   "language": "python",
   "name": "python3"
  },
  "language_info": {
   "codemirror_mode": {
    "name": "ipython",
    "version": 3
   },
   "file_extension": ".py",
   "mimetype": "text/x-python",
   "name": "python",
   "nbconvert_exporter": "python",
   "pygments_lexer": "ipython3",
   "version": "3.7.3"
  }
 },
 "nbformat": 4,
 "nbformat_minor": 2
}
