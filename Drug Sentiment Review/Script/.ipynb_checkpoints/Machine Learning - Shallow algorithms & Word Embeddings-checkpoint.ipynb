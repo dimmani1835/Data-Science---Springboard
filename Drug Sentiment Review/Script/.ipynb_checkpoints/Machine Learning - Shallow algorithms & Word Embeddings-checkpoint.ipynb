{
 "cells": [
  {
   "cell_type": "markdown",
   "metadata": {},
   "source": [
    "# Part 0: Preprocessing"
   ]
  },
  {
   "cell_type": "code",
   "execution_count": 1,
   "metadata": {},
   "outputs": [],
   "source": [
    "# Import modules\n",
    "%load_ext autoreload\n",
    "%autoreload 2\n",
    "\n",
    "import pandas as pd\n",
    "import numpy as np\n",
    "import matplotlib.pyplot as plt\n",
    "import seaborn as sns\n",
    "import os\n",
    "import json\n",
    "import random"
   ]
  },
  {
   "cell_type": "code",
   "execution_count": 2,
   "metadata": {},
   "outputs": [],
   "source": [
    "# ignore deprecation warnings in sklearn\n",
    "\n",
    "import warnings\n",
    "warnings.filterwarnings(\"ignore\")"
   ]
  },
  {
   "cell_type": "code",
   "execution_count": 3,
   "metadata": {},
   "outputs": [],
   "source": [
    "# Specify data directory\n",
    "\n",
    "data_dir = os.path.join(os.path.dirname(os.getcwd()),'Data')\n",
    "\n",
    "# Set model directory\n",
    "\n",
    "model_dir = os.path.join(os.path.dirname(os.getcwd()), 'Model')\n",
    "\n",
    "# set embedding directory\n",
    "embedding_dir = 'Z:\\\\Jupyter\\\\Embeddings'"
   ]
  },
  {
   "cell_type": "code",
   "execution_count": 4,
   "metadata": {},
   "outputs": [],
   "source": [
    "# Set data paths\n",
    "\n",
    "train_path = os.path.join(data_dir, 'train.csv')\n",
    "\n",
    "train_processed_path = os.path.join(data_dir, 'interim', 'train_preprocessed.txt')\n",
    "\n",
    "meta_feat_path = os.path.join(data_dir, 'interim', 'meta_feat.txt')"
   ]
  },
  {
   "cell_type": "code",
   "execution_count": 5,
   "metadata": {},
   "outputs": [],
   "source": [
    "train = pd.read_csv(train_path)\n",
    "train_processed = pd.read_json(train_processed_path).sort_index()\n",
    "meta_feat = pd.read_json(meta_feat_path).sort_index()"
   ]
  },
  {
   "cell_type": "code",
   "execution_count": 6,
   "metadata": {},
   "outputs": [
    {
     "data": {
      "text/html": [
       "<div>\n",
       "<style scoped>\n",
       "    .dataframe tbody tr th:only-of-type {\n",
       "        vertical-align: middle;\n",
       "    }\n",
       "\n",
       "    .dataframe tbody tr th {\n",
       "        vertical-align: top;\n",
       "    }\n",
       "\n",
       "    .dataframe thead th {\n",
       "        text-align: right;\n",
       "    }\n",
       "</style>\n",
       "<table border=\"1\" class=\"dataframe\">\n",
       "  <thead>\n",
       "    <tr style=\"text-align: right;\">\n",
       "      <th></th>\n",
       "      <th>text</th>\n",
       "      <th>drug</th>\n",
       "      <th>sentiment</th>\n",
       "    </tr>\n",
       "  </thead>\n",
       "  <tbody>\n",
       "    <tr>\n",
       "      <th>0</th>\n",
       "      <td>autoimmune disease tend come cluster gilenya –...</td>\n",
       "      <td>gilenya</td>\n",
       "      <td>2</td>\n",
       "    </tr>\n",
       "    <tr>\n",
       "      <th>1</th>\n",
       "      <td>completely understand would want try it but re...</td>\n",
       "      <td>gilenya</td>\n",
       "      <td>2</td>\n",
       "    </tr>\n",
       "    <tr>\n",
       "      <th>2</th>\n",
       "      <td>interest target s1p-1 receptor rather 1-5 like...</td>\n",
       "      <td>fingolimod</td>\n",
       "      <td>2</td>\n",
       "    </tr>\n",
       "    <tr>\n",
       "      <th>3</th>\n",
       "      <td>interesting grand merci wonder lemtrada ocrevu...</td>\n",
       "      <td>ocrevus</td>\n",
       "      <td>2</td>\n",
       "    </tr>\n",
       "    <tr>\n",
       "      <th>4</th>\n",
       "      <td>hi everybody late mri result brain cervical co...</td>\n",
       "      <td>gilenya</td>\n",
       "      <td>1</td>\n",
       "    </tr>\n",
       "  </tbody>\n",
       "</table>\n",
       "</div>"
      ],
      "text/plain": [
       "                                                text        drug  sentiment\n",
       "0  autoimmune disease tend come cluster gilenya –...     gilenya          2\n",
       "1  completely understand would want try it but re...     gilenya          2\n",
       "2  interest target s1p-1 receptor rather 1-5 like...  fingolimod          2\n",
       "3  interesting grand merci wonder lemtrada ocrevu...     ocrevus          2\n",
       "4  hi everybody late mri result brain cervical co...     gilenya          1"
      ]
     },
     "execution_count": 6,
     "metadata": {},
     "output_type": "execute_result"
    }
   ],
   "source": [
    "train_processed.head()"
   ]
  },
  {
   "cell_type": "code",
   "execution_count": 7,
   "metadata": {},
   "outputs": [
    {
     "data": {
      "text/html": [
       "<div>\n",
       "<style scoped>\n",
       "    .dataframe tbody tr th:only-of-type {\n",
       "        vertical-align: middle;\n",
       "    }\n",
       "\n",
       "    .dataframe tbody tr th {\n",
       "        vertical-align: top;\n",
       "    }\n",
       "\n",
       "    .dataframe thead th {\n",
       "        text-align: right;\n",
       "    }\n",
       "</style>\n",
       "<table border=\"1\" class=\"dataframe\">\n",
       "  <thead>\n",
       "    <tr style=\"text-align: right;\">\n",
       "      <th></th>\n",
       "      <th>sentiment</th>\n",
       "      <th>n_upper</th>\n",
       "      <th>word_count</th>\n",
       "      <th>char_count</th>\n",
       "      <th>avg_wlen</th>\n",
       "      <th>adj_drug_count</th>\n",
       "      <th>n_stop</th>\n",
       "      <th>n_num</th>\n",
       "      <th>drug_category</th>\n",
       "    </tr>\n",
       "  </thead>\n",
       "  <tbody>\n",
       "    <tr>\n",
       "      <th>0</th>\n",
       "      <td>2</td>\n",
       "      <td>1</td>\n",
       "      <td>76</td>\n",
       "      <td>404</td>\n",
       "      <td>5.315789</td>\n",
       "      <td>0.026316</td>\n",
       "      <td>28</td>\n",
       "      <td>0</td>\n",
       "      <td>38</td>\n",
       "    </tr>\n",
       "    <tr>\n",
       "      <th>1</th>\n",
       "      <td>2</td>\n",
       "      <td>5</td>\n",
       "      <td>206</td>\n",
       "      <td>1184</td>\n",
       "      <td>5.747573</td>\n",
       "      <td>0.000000</td>\n",
       "      <td>85</td>\n",
       "      <td>0</td>\n",
       "      <td>38</td>\n",
       "    </tr>\n",
       "    <tr>\n",
       "      <th>2</th>\n",
       "      <td>2</td>\n",
       "      <td>4</td>\n",
       "      <td>135</td>\n",
       "      <td>780</td>\n",
       "      <td>5.777778</td>\n",
       "      <td>0.007407</td>\n",
       "      <td>50</td>\n",
       "      <td>3</td>\n",
       "      <td>35</td>\n",
       "    </tr>\n",
       "    <tr>\n",
       "      <th>3</th>\n",
       "      <td>2</td>\n",
       "      <td>1</td>\n",
       "      <td>20</td>\n",
       "      <td>124</td>\n",
       "      <td>6.200000</td>\n",
       "      <td>0.100000</td>\n",
       "      <td>5</td>\n",
       "      <td>0</td>\n",
       "      <td>64</td>\n",
       "    </tr>\n",
       "    <tr>\n",
       "      <th>4</th>\n",
       "      <td>1</td>\n",
       "      <td>8</td>\n",
       "      <td>115</td>\n",
       "      <td>612</td>\n",
       "      <td>5.321739</td>\n",
       "      <td>0.000000</td>\n",
       "      <td>44</td>\n",
       "      <td>0</td>\n",
       "      <td>38</td>\n",
       "    </tr>\n",
       "  </tbody>\n",
       "</table>\n",
       "</div>"
      ],
      "text/plain": [
       "   sentiment  n_upper  word_count  char_count  avg_wlen  adj_drug_count  \\\n",
       "0          2        1          76         404  5.315789        0.026316   \n",
       "1          2        5         206        1184  5.747573        0.000000   \n",
       "2          2        4         135         780  5.777778        0.007407   \n",
       "3          2        1          20         124  6.200000        0.100000   \n",
       "4          1        8         115         612  5.321739        0.000000   \n",
       "\n",
       "   n_stop  n_num  drug_category  \n",
       "0      28      0             38  \n",
       "1      85      0             38  \n",
       "2      50      3             35  \n",
       "3       5      0             64  \n",
       "4      44      0             38  "
      ]
     },
     "execution_count": 7,
     "metadata": {},
     "output_type": "execute_result"
    }
   ],
   "source": [
    "meta_feat.head()"
   ]
  },
  {
   "cell_type": "markdown",
   "metadata": {},
   "source": [
    "# Part 1: Machine Learning"
   ]
  },
  {
   "cell_type": "code",
   "execution_count": 8,
   "metadata": {},
   "outputs": [],
   "source": [
    "# Import Naive Bayes\n",
    "\n",
    "from sklearn.model_selection import train_test_split\n",
    "from sklearn.feature_extraction.text import CountVectorizer\n",
    "from sklearn.feature_extraction.text import TfidfVectorizer\n",
    "from sklearn.naive_bayes import MultinomialNB\n",
    "from sklearn.model_selection import GridSearchCV\n",
    "from sklearn.pipeline import Pipeline\n",
    "from sklearn.metrics import classification_report, confusion_matrix, f1_score, precision_score, recall_score\n",
    "from sklearn.multiclass import OneVsRestClassifier\n",
    "from sklearn.ensemble import RandomForestClassifier\n",
    "from sklearn.svm import SVC\n",
    "from sklearn.linear_model import LogisticRegression, SGDClassifier\n",
    "from sklearn.preprocessing import StandardScaler, MinMaxScaler\n",
    "from custom_function.ml import create_classifier, evaluate_classifier, get_model_results\n",
    "import pickle"
   ]
  },
  {
   "cell_type": "markdown",
   "metadata": {},
   "source": [
    "# <font color='Blue'>Baseline Model</font>"
   ]
  },
  {
   "cell_type": "markdown",
   "metadata": {},
   "source": [
    "# Define X and y\n",
    "\n",
    "X = meta_feat.drop(\"sentiment\", axis = 1)\n",
    "y = meta_feat.sentiment\n",
    "indices = train_processed.index\n",
    "\n",
    "# Split train and test set\n",
    "\n",
    "Xtrain, Xtest, ytrain, ytest, itrain, itest = train_test_split(X, y, indices, train_size = 0.8, random_state = 42)"
   ]
  },
  {
   "cell_type": "markdown",
   "metadata": {},
   "source": [
    "%%time\n",
    "\n",
    "filename = 'baseline_lr.sav'\n",
    "\n",
    "parameter = {'model__C':[0.01, 0.1, 1, 10, 100]}\n",
    "\n",
    "clf = create_classifier(Xtrain,\n",
    "                        ytrain,\n",
    "                        LogisticRegression(solver = 'lbfgs', class_weight = 'balanced'),\n",
    "                        parameter,\n",
    "                        5,\n",
    "                        'f1_macro',\n",
    "                        open(os.path.join(model_dir,filename), 'wb'),\n",
    "                        preprocess = StandardScaler())\n",
    "\n",
    "# Extract classifier score\n",
    "f1macro_score, cm = evaluate_classifier(clf,\n",
    "                                       Xtest,\n",
    "                                       ytest)\n",
    "\n",
    "# Print score\n",
    "print(f1macro_score)\n",
    "print(cm)\n",
    "print(clf.best_params_)"
   ]
  },
  {
   "cell_type": "markdown",
   "metadata": {},
   "source": [
    "unique, counts = np.unique(clf.predict(Xtest), return_counts=True)\n",
    "dict(zip(unique, counts))"
   ]
  },
  {
   "cell_type": "markdown",
   "metadata": {},
   "source": [
    "# <font color='Blue'>Bag of Word models</font>"
   ]
  },
  {
   "cell_type": "code",
   "execution_count": 9,
   "metadata": {},
   "outputs": [],
   "source": [
    "# Define X and y\n",
    "\n",
    "X = train_processed.text\n",
    "y = train_processed.sentiment\n",
    "indices = train_processed.index\n",
    "\n",
    "# Split train and test set\n",
    "\n",
    "Xtrain, Xtest, ytrain, ytest, itrain, itest = train_test_split(X, y, indices, train_size = 0.8, random_state = 42)"
   ]
  },
  {
   "cell_type": "markdown",
   "metadata": {},
   "source": [
    "## <font color='green'>Naive Bayes - BoW</font>"
   ]
  },
  {
   "cell_type": "markdown",
   "metadata": {},
   "source": [
    "%%time\n",
    "\n",
    "filename = 'nb_bow.sav'\n",
    "\n",
    "parameter = {'pre__min_df':[0.01, 0.1, 1, 10],\n",
    "             'pre__ngram_range':[(1,1),(1,2)],\n",
    "             'model__alpha':[0.01, 0.1, 1, 10]}\n",
    "\n",
    "clf = create_classifier(Xtrain,\n",
    "                        ytrain,\n",
    "                        MultinomialNB(),\n",
    "                        parameter,\n",
    "                        5,\n",
    "                        'f1_macro',\n",
    "                        open(os.path.join(model_dir,filename), 'wb'),\n",
    "                        preprocess = CountVectorizer())\n",
    "\n",
    "# Extract classifier score\n",
    "f1macro_score, cm = evaluate_classifier(clf,\n",
    "                                       Xtest,\n",
    "                                       ytest)\n",
    "\n",
    "# Print score\n",
    "print(f1macro_score)\n",
    "print(cm)\n",
    "print(clf.best_params_)"
   ]
  },
  {
   "cell_type": "markdown",
   "metadata": {},
   "source": [
    "## <font color='green'>Naive Bayes - Tfidf</font>"
   ]
  },
  {
   "cell_type": "markdown",
   "metadata": {},
   "source": [
    "%%time\n",
    "\n",
    "filename = 'nb_tfidf.sav'\n",
    "\n",
    "parameter = {'pre__min_df':[0.01, 0.1, 1, 10],\n",
    "             'pre__ngram_range':[(1,1),(1,2)],\n",
    "             'model__alpha':[0.01, 0.1, 1, 10]}\n",
    "\n",
    "clf = create_classifier(Xtrain,\n",
    "                        ytrain,\n",
    "                        MultinomialNB(),\n",
    "                        parameter,\n",
    "                        5,\n",
    "                        'f1_macro',\n",
    "                        open(os.path.join(model_dir,filename), 'wb'),\n",
    "                        preprocess = TfidfVectorizer())\n",
    "\n",
    "# Extract classifier score\n",
    "f1macro_score, cm = evaluate_classifier(clf,\n",
    "                                       Xtest,\n",
    "                                       ytest)\n",
    "\n",
    "# Print score\n",
    "print(f1macro_score)\n",
    "print(cm)\n",
    "print(clf.best_params_)"
   ]
  },
  {
   "cell_type": "markdown",
   "metadata": {},
   "source": [
    "##  <font color='green'>Random Forest - BoW</font>"
   ]
  },
  {
   "cell_type": "markdown",
   "metadata": {},
   "source": [
    "%%time\n",
    "\n",
    "filename = 'rf_bow.sav'\n",
    "\n",
    "parameter = {'pre__min_df':[0.01, 0.1, 1, 10],\n",
    "              'pre__ngram_range':[(1,1),(1,2)],\n",
    "              'model__n_estimators':[10 , 20, 40],\n",
    "              'model__max_features': ['auto', 'sqrt', 'log2']}\n",
    "\n",
    "clf = create_classifier(Xtrain,\n",
    "                        ytrain,\n",
    "                        RandomForestClassifier(),\n",
    "                        parameter,\n",
    "                        5,\n",
    "                        'f1_macro',\n",
    "                        open(os.path.join(model_dir,filename), 'wb'),\n",
    "                        preprocess = CountVectorizer())\n",
    "\n",
    "# Extract classifier score\n",
    "f1macro_score, cm = evaluate_classifier(clf,\n",
    "                                       Xtest,\n",
    "                                       ytest)\n",
    "\n",
    "# Print score\n",
    "print(f1macro_score)\n",
    "print(cm)\n",
    "print(clf.best_params_)"
   ]
  },
  {
   "cell_type": "markdown",
   "metadata": {},
   "source": [
    "##  <font color='green'>Random Forest - TfIdf</font>"
   ]
  },
  {
   "cell_type": "markdown",
   "metadata": {},
   "source": [
    "%%time\n",
    "\n",
    "filename = 'rf_tfidf.sav'\n",
    "\n",
    "parameter = {'pre__min_df':[0.01, 0.1, 1, 10],\n",
    "              'pre__ngram_range':[(1,1),(1,2)],\n",
    "              'model__n_estimators':[10 , 20, 40],\n",
    "              'model__max_features': ['auto', 'sqrt', 'log2']}\n",
    "\n",
    "clf = create_classifier(Xtrain,\n",
    "                        ytrain,\n",
    "                        RandomForestClassifier(),\n",
    "                        parameter,\n",
    "                        5,\n",
    "                        'f1_macro',\n",
    "                        open(os.path.join(model_dir,filename), 'wb'),\n",
    "                        preprocess = TfidfVectorizer())\n",
    "\n",
    "# Extract classifier score\n",
    "f1macro_score, cm = evaluate_classifier(clf,\n",
    "                                       Xtest,\n",
    "                                       ytest)\n",
    "\n",
    "# Print score\n",
    "print(f1macro_score)\n",
    "print(cm)\n",
    "print(clf.best_params_)"
   ]
  },
  {
   "cell_type": "markdown",
   "metadata": {},
   "source": [
    "##  <font color='green'>SVC - BoW</font>"
   ]
  },
  {
   "cell_type": "markdown",
   "metadata": {},
   "source": [
    "%%time\n",
    "\n",
    "filename = 'svc_bow.sav'\n",
    "\n",
    "parameter = {'pre__min_df':[0.01, 0.1, 1, 10],\n",
    "             'pre__ngram_range':[(1,1),(1,2)],\n",
    "              'model__C':[0.01, 0.1, 1],\n",
    "              'model__kernel':['linear', 'poly', 'rbf'],\n",
    "              'model__gamma':['auto', 'scale']}\n",
    "\n",
    "clf = create_classifier(Xtrain,\n",
    "                        ytrain,\n",
    "                        SVC(probability = True),\n",
    "                        parameter,\n",
    "                        3,\n",
    "                        'f1_macro',\n",
    "                        open(os.path.join(model_dir,filename), 'wb'),\n",
    "                        preprocess = CountVectorizer())\n",
    "\n",
    "# Extract classifier score\n",
    "f1macro_score, cm = evaluate_classifier(clf,\n",
    "                                       Xtest,\n",
    "                                       ytest)\n",
    "\n",
    "# Print score\n",
    "print(f1macro_score)\n",
    "print(cm)\n",
    "print(clf.best_params_)"
   ]
  },
  {
   "cell_type": "markdown",
   "metadata": {},
   "source": [
    "##  <font color='green'>SVC - TfIdf</font>"
   ]
  },
  {
   "cell_type": "markdown",
   "metadata": {
    "scrolled": false
   },
   "source": [
    "%%time\n",
    "\n",
    "filename = 'svc_tfidf.sav'\n",
    "\n",
    "parameter = {'pre__min_df':[0.01, 0.1, 1, 10],\n",
    "             'pre__ngram_range':[(1,1),(1,2)],\n",
    "              'model__C':[0.01, 0.1, 1],\n",
    "              'model__kernel':['linear', 'poly', 'rbf'],\n",
    "              'model__gamma':['auto', 'scale']}\n",
    "\n",
    "clf = create_classifier(Xtrain,\n",
    "                        ytrain,\n",
    "                        SVC(),\n",
    "                        parameter,\n",
    "                        3,\n",
    "                        'f1_macro',\n",
    "                        open(os.path.join(model_dir,filename), 'wb'),\n",
    "                        preprocess = TfidfVectorizer())\n",
    "\n",
    "# Extract classifier score\n",
    "f1macro_score, cm = evaluate_classifier(clf,\n",
    "                                       Xtest,\n",
    "                                       ytest)\n",
    "\n",
    "# Print score\n",
    "print(f1macro_score)\n",
    "print(cm)\n",
    "print(clf.best_params_)"
   ]
  },
  {
   "cell_type": "markdown",
   "metadata": {},
   "source": [
    "##  <font color='green'>Logistic Regression - BoW</font>"
   ]
  },
  {
   "cell_type": "markdown",
   "metadata": {},
   "source": [
    "%%time\n",
    "\n",
    "filename = 'lr_bow.sav'\n",
    "\n",
    "parameter = {'pre__min_df':[0.01, 0.1, 1, 10],\n",
    "             'pre__ngram_range':[(1,1),(1,2)],\n",
    "             'model__C':[0.01, 0.1, 1, 10, 100]}\n",
    "\n",
    "clf = create_classifier(Xtrain,\n",
    "                        ytrain,\n",
    "                        LogisticRegression(solver = 'lbfgs', class_weight = 'balanced'),\n",
    "                        parameter,\n",
    "                        5,\n",
    "                        'f1_macro',\n",
    "                        open(os.path.join(model_dir,filename), 'wb'),\n",
    "                        preprocess = CountVectorizer())\n",
    "\n",
    "# Extract classifier score\n",
    "f1macro_score, cm = evaluate_classifier(clf,\n",
    "                                       Xtest,\n",
    "                                       ytest)\n",
    "\n",
    "# Print score\n",
    "print(f1macro_score)\n",
    "print(cm)\n",
    "print(clf.best_params_)"
   ]
  },
  {
   "cell_type": "markdown",
   "metadata": {},
   "source": [
    "##  <font color='green'>Logistic Regression - TfIdf</font>"
   ]
  },
  {
   "cell_type": "markdown",
   "metadata": {},
   "source": [
    "%%time\n",
    "\n",
    "filename = 'lr_tfidf.sav'\n",
    "\n",
    "parameter = {'pre__min_df':[0.01, 0.1, 1, 10],\n",
    "             'pre__ngram_range':[(1,1),(1,2)],\n",
    "             'model__C':[0.01, 0.1, 1, 10, 100]}\n",
    "\n",
    "clf = create_classifier(Xtrain,\n",
    "                        ytrain,\n",
    "                        LogisticRegression(solver = 'lbfgs', class_weight = 'balanced'),\n",
    "                        parameter,\n",
    "                        5,\n",
    "                        'f1_macro',\n",
    "                        open(os.path.join(model_dir,filename), 'wb'),\n",
    "                        preprocess = TfidfVectorizer())\n",
    "\n",
    "# Extract classifier score\n",
    "f1macro_score, cm = evaluate_classifier(clf,\n",
    "                                       Xtest,\n",
    "                                       ytest)\n",
    "\n",
    "# Print score\n",
    "print(f1macro_score)\n",
    "print(cm)\n",
    "print(clf.best_params_)"
   ]
  },
  {
   "cell_type": "markdown",
   "metadata": {},
   "source": [
    "##  <font color='green'>SGD - BoW</font>"
   ]
  },
  {
   "cell_type": "markdown",
   "metadata": {},
   "source": [
    "%%time\n",
    "\n",
    "filename = 'sgd_bow.sav'\n",
    "\n",
    "parameter = {'pre__min_df':[0.01, 0.1, 1, 10],\n",
    "             'pre__ngram_range':[(1,1),(1,2)],\n",
    "             'model__alpha': [1e-4, 1e-3, 1e-2, 1e-1, 1e0, 1e1, 1e2]}\n",
    "\n",
    "clf = create_classifier(Xtrain,\n",
    "                        ytrain,\n",
    "                        SGDClassifier(max_iter = 1000, loss = 'log', penalty = 'l2'),\n",
    "                        parameter,\n",
    "                        5,\n",
    "                        'f1_macro',\n",
    "                        open(os.path.join(model_dir,filename), 'wb'),\n",
    "                        preprocess = CountVectorizer())\n",
    "\n",
    "# Extract classifier score\n",
    "f1macro_score, cm = evaluate_classifier(clf,\n",
    "                                       Xtest,\n",
    "                                       ytest)\n",
    "\n",
    "# Print score\n",
    "print(f1macro_score)\n",
    "print(cm)\n",
    "print(clf.best_params_)"
   ]
  },
  {
   "cell_type": "markdown",
   "metadata": {},
   "source": [
    "##  <font color='green'>SGD - TfIdf</font>"
   ]
  },
  {
   "cell_type": "markdown",
   "metadata": {},
   "source": [
    "%%time\n",
    "\n",
    "filename = 'sgd_tfidf.sav'\n",
    "\n",
    "parameter = {'pre__min_df':[0.01, 0.1, 1, 10],\n",
    "             'pre__ngram_range':[(1,1),(1,2)],\n",
    "             'model__alpha': [1e-4, 1e-3, 1e-2, 1e-1, 1e0, 1e1, 1e2]}\n",
    "\n",
    "clf = create_classifier(Xtrain,\n",
    "                        ytrain,\n",
    "                        SGDClassifier(max_iter = 1000, loss = 'log', penalty = 'l2'),\n",
    "                        parameter,\n",
    "                        5,\n",
    "                        'f1_macro',\n",
    "                        open(os.path.join(model_dir,filename), 'wb'),\n",
    "                        preprocess = TfidfVectorizer())\n",
    "\n",
    "# Extract classifier score\n",
    "f1macro_score, cm = evaluate_classifier(clf,\n",
    "                                       Xtest,\n",
    "                                       ytest)\n",
    "\n",
    "# Print score\n",
    "print(f1macro_score)\n",
    "print(cm)\n",
    "print(clf.best_params_)"
   ]
  },
  {
   "cell_type": "code",
   "execution_count": 10,
   "metadata": {
    "scrolled": false
   },
   "outputs": [
    {
     "data": {
      "text/html": [
       "<div>\n",
       "<style scoped>\n",
       "    .dataframe tbody tr th:only-of-type {\n",
       "        vertical-align: middle;\n",
       "    }\n",
       "\n",
       "    .dataframe tbody tr th {\n",
       "        vertical-align: top;\n",
       "    }\n",
       "\n",
       "    .dataframe thead th {\n",
       "        text-align: right;\n",
       "    }\n",
       "</style>\n",
       "<table border=\"1\" class=\"dataframe\">\n",
       "  <thead>\n",
       "    <tr style=\"text-align: right;\">\n",
       "      <th></th>\n",
       "      <th>model</th>\n",
       "      <th>f1_macro</th>\n",
       "    </tr>\n",
       "  </thead>\n",
       "  <tbody>\n",
       "    <tr>\n",
       "      <th>7</th>\n",
       "      <td>lr_tfidf.sav</td>\n",
       "      <td>0.505540</td>\n",
       "    </tr>\n",
       "    <tr>\n",
       "      <th>6</th>\n",
       "      <td>lr_bow.sav</td>\n",
       "      <td>0.489985</td>\n",
       "    </tr>\n",
       "    <tr>\n",
       "      <th>4</th>\n",
       "      <td>svc_bow.sav</td>\n",
       "      <td>0.483195</td>\n",
       "    </tr>\n",
       "    <tr>\n",
       "      <th>0</th>\n",
       "      <td>nb_bow.sav</td>\n",
       "      <td>0.472725</td>\n",
       "    </tr>\n",
       "    <tr>\n",
       "      <th>1</th>\n",
       "      <td>nb_tfidf.sav</td>\n",
       "      <td>0.454624</td>\n",
       "    </tr>\n",
       "    <tr>\n",
       "      <th>8</th>\n",
       "      <td>sgd_bow.sav</td>\n",
       "      <td>0.442978</td>\n",
       "    </tr>\n",
       "    <tr>\n",
       "      <th>9</th>\n",
       "      <td>sgd_tfidf.sav</td>\n",
       "      <td>0.398064</td>\n",
       "    </tr>\n",
       "    <tr>\n",
       "      <th>2</th>\n",
       "      <td>rf_bow.sav</td>\n",
       "      <td>0.392240</td>\n",
       "    </tr>\n",
       "    <tr>\n",
       "      <th>3</th>\n",
       "      <td>rf_tfidf.sav</td>\n",
       "      <td>0.372747</td>\n",
       "    </tr>\n",
       "    <tr>\n",
       "      <th>5</th>\n",
       "      <td>svc_tfidf.sav</td>\n",
       "      <td>0.349863</td>\n",
       "    </tr>\n",
       "  </tbody>\n",
       "</table>\n",
       "</div>"
      ],
      "text/plain": [
       "           model  f1_macro\n",
       "7   lr_tfidf.sav  0.505540\n",
       "6     lr_bow.sav  0.489985\n",
       "4    svc_bow.sav  0.483195\n",
       "0     nb_bow.sav  0.472725\n",
       "1   nb_tfidf.sav  0.454624\n",
       "8    sgd_bow.sav  0.442978\n",
       "9  sgd_tfidf.sav  0.398064\n",
       "2     rf_bow.sav  0.392240\n",
       "3   rf_tfidf.sav  0.372747\n",
       "5  svc_tfidf.sav  0.349863"
      ]
     },
     "execution_count": 10,
     "metadata": {},
     "output_type": "execute_result"
    }
   ],
   "source": [
    "models = ['nb_bow.sav', 'nb_tfidf.sav', \n",
    "          'rf_bow.sav', 'rf_tfidf.sav', \n",
    "          'svc_bow.sav', 'svc_tfidf.sav', \n",
    "          'lr_bow.sav', 'lr_tfidf.sav',\n",
    "          'sgd_bow.sav', 'sgd_tfidf.sav']\n",
    "\n",
    "results = get_model_results(models, model_dir, Xtest, ytest)\n",
    "results.sort_values(\"f1_macro\", ascending = False)"
   ]
  },
  {
   "cell_type": "markdown",
   "metadata": {},
   "source": [
    "<div class=\"alert alert-block alert-info\">\n",
    "<b>Conclusion:</b> Out of all the algorithms, Logistic Regression, especially the tfidf version, seem to pull ahead in terms of cross validation score. This is an expected result as logistic regression is a simple parametric approach that adds weights and not prone to overfitting on small dataset. On the other hand, tree-based algorithms performed the worst due to the small number of samples and its tendency to overfit in sparse data (it's advantages are finding non-linear patterns). Support Vector works very well on sparse data, thus, it performs better with the bag of word approach instead of the tdidf approach. Naive Bayes performs relatively well with text data, but it's not our favorite.  \n",
    "</div>"
   ]
  },
  {
   "cell_type": "markdown",
   "metadata": {},
   "source": [
    "# <font color='Blue'>Emsemble model</font>"
   ]
  },
  {
   "cell_type": "markdown",
   "metadata": {},
   "source": [
    "## <font color='green'>Averaging Best models</font>"
   ]
  },
  {
   "cell_type": "markdown",
   "metadata": {},
   "source": [
    "def get_label(row):\n",
    "    \"\"\"\n",
    "    Get regular label from one hot encoded labels\n",
    "    \"\"\"\n",
    "    for label in [0,1,2]:\n",
    "        if row[label] == 1:\n",
    "            return label"
   ]
  },
  {
   "cell_type": "markdown",
   "metadata": {},
   "source": [
    "filename = \"lr_tfidf.sav\"\n",
    "pred_lr_tfidf = pickle.load(open(os.path.join(model_dir, filename), 'rb')).predict_proba(Xtest)\n",
    "filename = \"nb_bow.sav\"\n",
    "pred_nb_bow = pickle.load(open(os.path.join(model_dir, filename), 'rb')).predict_proba(Xtest)\n",
    "filename = \"svc_bow.sav\"\n",
    "pred_svc_bow = pickle.load(open(os.path.join(model_dir, filename), 'rb')).predict_proba(Xtest)"
   ]
  },
  {
   "cell_type": "markdown",
   "metadata": {},
   "source": [
    "final_pred = pd.DataFrame((pred_lr_tfidf + pred_nb_bow + pred_svc_bow)/3)"
   ]
  },
  {
   "cell_type": "markdown",
   "metadata": {},
   "source": [
    "ypred_max = final_pred.apply(max, axis = 1)\n",
    "for index, row in final_pred.iterrows():\n",
    "    for label, item in row.items():\n",
    "        if item == ypred_max[index]:\n",
    "            row[label] = 1\n",
    "        else:\n",
    "            row[label] = 0\n",
    "final_pred = final_pred.apply(get_label, axis = 1)"
   ]
  },
  {
   "cell_type": "markdown",
   "metadata": {},
   "source": [
    "print(f1_score(ytest, final_pred, average = 'macro'))"
   ]
  },
  {
   "cell_type": "markdown",
   "metadata": {},
   "source": [
    "## <font color='green'>Stacking Meta and BoW Features</font>"
   ]
  },
  {
   "cell_type": "code",
   "execution_count": 11,
   "metadata": {},
   "outputs": [],
   "source": [
    "# Vectorizing the sparse features\n",
    "\n",
    "vec = TfidfVectorizer(min_df = 15, ngram_range=(1, 2))\n",
    "#vec_fit = vec.fit(train_processed.text)\n",
    "sparse_feat = vec.fit_transform(train_processed.text)\n",
    "sparse_feat\n",
    "\n",
    "# Scaling meta features\n",
    "\n",
    "scaler = MinMaxScaler()\n",
    "meta_feat_scaled = scaler.fit_transform(meta_feat.drop(\"sentiment\", axis = 1))\n",
    "\n",
    "# Combine the features\n",
    "\n",
    "from scipy.sparse import coo_matrix, hstack\n",
    "\n",
    "meta_feat_scaled = coo_matrix(meta_feat_scaled)\n",
    "meta_feat_scaled\n",
    "\n",
    "# Derive X and Y\n",
    "\n",
    "X = hstack([sparse_feat, meta_feat_scaled.astype(float)])\n",
    "y = train_processed.sentiment\n",
    "indices = train_processed.index\n",
    "\n",
    "# Derive train/test set\n",
    "\n",
    "from sklearn.model_selection import train_test_split\n",
    "Xtrain, Xtest, ytrain, ytest, itrain, itest = train_test_split(X, y, indices, train_size = 0.8, random_state = 42)"
   ]
  },
  {
   "cell_type": "markdown",
   "metadata": {},
   "source": [
    "## <font color='green'>Logistic Regression on stacked Features</font>"
   ]
  },
  {
   "cell_type": "markdown",
   "metadata": {},
   "source": [
    "filename = 'lr_stacked.sav'\n",
    "\n",
    "\n",
    "parameter = {'model__C':[0.01, 0.1, 1, 10, 100, 1000]}\n",
    "\n",
    "clf = create_classifier(Xtrain,\n",
    "                        ytrain,\n",
    "                        LogisticRegression(solver = 'lbfgs', class_weight = 'balanced'),\n",
    "                        parameter,\n",
    "                        5,\n",
    "                        'f1_macro',\n",
    "                        open(os.path.join(model_dir,filename), 'wb'))\n",
    "\n",
    "# Extract classifier score\n",
    "f1macro_score, cm = evaluate_classifier(clf,\n",
    "                                       Xtest,\n",
    "                                       ytest)\n",
    "\n",
    "# Print score\n",
    "print(f1macro_score)\n",
    "print(cm)\n",
    "print(clf.best_params_)"
   ]
  },
  {
   "cell_type": "markdown",
   "metadata": {},
   "source": [
    "## <font color='green'>Naive Bayes on stacked Features</font>"
   ]
  },
  {
   "cell_type": "markdown",
   "metadata": {},
   "source": [
    "filename = 'nb_stacked.sav'\n",
    "\n",
    "parameter = {'model__alpha':[0.01, 0.1, 1, 10, 100]}\n",
    "\n",
    "clf = create_classifier(Xtrain,\n",
    "                        ytrain,\n",
    "                        MultinomialNB(),\n",
    "                        parameter,\n",
    "                        5,\n",
    "                        'f1_macro',\n",
    "                        open(os.path.join(model_dir,filename), 'wb'))\n",
    "\n",
    "# Extract classifier score\n",
    "f1macro_score, cm = evaluate_classifier(clf,\n",
    "                                       Xtest,\n",
    "                                       ytest)\n",
    "\n",
    "# Print score\n",
    "print(f1macro_score)\n",
    "print(cm)\n",
    "print(clf.best_params_)"
   ]
  },
  {
   "cell_type": "markdown",
   "metadata": {},
   "source": [
    "## <font color='green'>SVC on stacked Features</font>"
   ]
  },
  {
   "cell_type": "markdown",
   "metadata": {},
   "source": [
    "filename = 'svc_stacked.sav'\n",
    "\n",
    "parameter = {'model__C':[0.01, 0.1, 1],\n",
    "             'model__kernel':['linear', 'poly', 'rbf'],\n",
    "             'model__gamma':['auto', 'scale']}\n",
    "\n",
    "\n",
    "clf = create_classifier(Xtrain,\n",
    "                        ytrain,\n",
    "                        SVC(),\n",
    "                        parameter,\n",
    "                        3,\n",
    "                        'f1_macro',\n",
    "                        open(os.path.join(model_dir,filename), 'wb'))\n",
    "\n",
    "# Extract classifier score\n",
    "f1macro_score, cm = evaluate_classifier(clf,\n",
    "                                       Xtest,\n",
    "                                       ytest)\n",
    "\n",
    "# Print score\n",
    "print(f1macro_score)\n",
    "print(cm)\n",
    "print(clf.best_params_)"
   ]
  },
  {
   "cell_type": "markdown",
   "metadata": {},
   "source": [
    "## <font color='green'>SGD on stacked Features</font>"
   ]
  },
  {
   "cell_type": "markdown",
   "metadata": {},
   "source": [
    "filename = 'sgd_stacked.sav'\n",
    "\n",
    "parameter = {'model__alpha': [1e-4, 1e-3, 1e-2, 1e-1, 1e0, 1e1, 1e2]}\n",
    "\n",
    "\n",
    "clf = create_classifier(Xtrain,\n",
    "                        ytrain,\n",
    "                        SGDClassifier(),\n",
    "                        parameter,\n",
    "                        3,\n",
    "                        'f1_macro',\n",
    "                        open(os.path.join(model_dir,filename), 'wb'))\n",
    "\n",
    "# Extract classifier score\n",
    "f1macro_score, cm = evaluate_classifier(clf,\n",
    "                                       Xtest,\n",
    "                                       ytest)\n",
    "\n",
    "# Print score\n",
    "print(f1macro_score)\n",
    "print(cm)\n",
    "print(clf.best_params_)"
   ]
  },
  {
   "cell_type": "code",
   "execution_count": 12,
   "metadata": {
    "scrolled": false
   },
   "outputs": [
    {
     "data": {
      "text/html": [
       "<div>\n",
       "<style scoped>\n",
       "    .dataframe tbody tr th:only-of-type {\n",
       "        vertical-align: middle;\n",
       "    }\n",
       "\n",
       "    .dataframe tbody tr th {\n",
       "        vertical-align: top;\n",
       "    }\n",
       "\n",
       "    .dataframe thead th {\n",
       "        text-align: right;\n",
       "    }\n",
       "</style>\n",
       "<table border=\"1\" class=\"dataframe\">\n",
       "  <thead>\n",
       "    <tr style=\"text-align: right;\">\n",
       "      <th></th>\n",
       "      <th>model</th>\n",
       "      <th>f1_macro</th>\n",
       "    </tr>\n",
       "  </thead>\n",
       "  <tbody>\n",
       "    <tr>\n",
       "      <th>1</th>\n",
       "      <td>lr_stacked.sav</td>\n",
       "      <td>0.524992</td>\n",
       "    </tr>\n",
       "    <tr>\n",
       "      <th>3</th>\n",
       "      <td>sgd_stacked.sav</td>\n",
       "      <td>0.459783</td>\n",
       "    </tr>\n",
       "    <tr>\n",
       "      <th>0</th>\n",
       "      <td>nb_stacked.sav</td>\n",
       "      <td>0.444112</td>\n",
       "    </tr>\n",
       "    <tr>\n",
       "      <th>2</th>\n",
       "      <td>svc_stacked.sav</td>\n",
       "      <td>0.359722</td>\n",
       "    </tr>\n",
       "  </tbody>\n",
       "</table>\n",
       "</div>"
      ],
      "text/plain": [
       "             model  f1_macro\n",
       "1   lr_stacked.sav  0.524992\n",
       "3  sgd_stacked.sav  0.459783\n",
       "0   nb_stacked.sav  0.444112\n",
       "2  svc_stacked.sav  0.359722"
      ]
     },
     "execution_count": 12,
     "metadata": {},
     "output_type": "execute_result"
    }
   ],
   "source": [
    "models = ['nb_stacked.sav', 'lr_stacked.sav', 'svc_stacked.sav', 'sgd_stacked.sav']\n",
    "results = get_model_results(models, model_dir, Xtest, ytest)\n",
    "results.sort_values(\"f1_macro\", ascending = False)"
   ]
  },
  {
   "cell_type": "markdown",
   "metadata": {},
   "source": [
    "<div class=\"alert alert-block alert-info\">\n",
    "<b>Conclusion:</b>  Using average concensus of the three best model didn't really give a better prediction. However, stacking the model with the meta data extracted in our pre-processing step seems to have given the model a little bit more information and improved our score marginally\n",
    "</div>"
   ]
  },
  {
   "cell_type": "markdown",
   "metadata": {},
   "source": [
    "## <font color='green'>Best score analysis</font>"
   ]
  },
  {
   "cell_type": "code",
   "execution_count": 13,
   "metadata": {},
   "outputs": [
    {
     "name": "stdout",
     "output_type": "stream",
     "text": [
      "0.5249915459109077\n",
      "[[ 50  20  41]\n",
      " [ 17  94  64]\n",
      " [103 125 542]]\n",
      "{'model__C': 1}\n"
     ]
    }
   ],
   "source": [
    "filename = 'lr_stacked.sav'\n",
    "\n",
    "clf = pickle.load(open(os.path.join(model_dir, filename), 'rb'))\n",
    "\n",
    "f1macro_score, cm = evaluate_classifier(clf, Xtest, ytest)\n",
    "\n",
    "print(f1macro_score) \n",
    "print(cm) \n",
    "print(clf.best_params_)"
   ]
  },
  {
   "cell_type": "code",
   "execution_count": 14,
   "metadata": {},
   "outputs": [
    {
     "name": "stdout",
     "output_type": "stream",
     "text": [
      "Precision for positive sentiment is 0.29, Recall for positive sentiment is 0.45\n",
      "Precision for negative sentiment is 0.39, Recall for negative sentiment is 0.54\n",
      "Precision for neutral sentiment is 0.84, Recall for neutral sentiment is 0.70\n"
     ]
    }
   ],
   "source": [
    "print(\"Precision for positive sentiment is %.2f, Recall for positive sentiment is %.2f\" % \n",
    "      (precision_score(ytest, clf.predict(Xtest), labels = [0], average = 'macro'),\n",
    "      recall_score(ytest, clf.predict(Xtest), labels = [0], average = 'macro')))\n",
    "print(\"Precision for negative sentiment is %.2f, Recall for negative sentiment is %.2f\" % \n",
    "      (precision_score(ytest, clf.predict(Xtest), labels = [1], average = 'macro'),\n",
    "      recall_score(ytest, clf.predict(Xtest), labels = [1], average = 'macro')))\n",
    "print(\"Precision for neutral sentiment is %.2f, Recall for neutral sentiment is %.2f\" % \n",
    "      (precision_score(ytest, clf.predict(Xtest), labels = [2], average = 'macro'),\n",
    "      recall_score(ytest, clf.predict(Xtest), labels = [2], average = 'macro')))"
   ]
  },
  {
   "cell_type": "markdown",
   "metadata": {},
   "source": [
    "## <font color='green'>Tuning to business requirement</font>"
   ]
  },
  {
   "cell_type": "code",
   "execution_count": 15,
   "metadata": {},
   "outputs": [],
   "source": [
    "for index, item in ytrain.iteritems():\n",
    "    if item == 2:\n",
    "        ytrain[index] = 0"
   ]
  },
  {
   "cell_type": "code",
   "execution_count": 16,
   "metadata": {},
   "outputs": [],
   "source": [
    "for index, item in ytest.iteritems():\n",
    "    if item == 2:\n",
    "        ytest[index] = 0"
   ]
  },
  {
   "cell_type": "code",
   "execution_count": 30,
   "metadata": {
    "scrolled": true
   },
   "outputs": [
    {
     "name": "stdout",
     "output_type": "stream",
     "text": [
      "Fitting 5 folds for each of 6 candidates, totalling 30 fits\n"
     ]
    },
    {
     "name": "stderr",
     "output_type": "stream",
     "text": [
      "[Parallel(n_jobs=-1)]: Using backend LokyBackend with 8 concurrent workers.\n",
      "[Parallel(n_jobs=-1)]: Batch computation too fast (0.1442s.) Setting batch_size=2.\n",
      "[Parallel(n_jobs=-1)]: Done   2 tasks      | elapsed:    0.1s\n",
      "[Parallel(n_jobs=-1)]: Done  11 out of  30 | elapsed:    0.6s remaining:    1.1s\n",
      "[Parallel(n_jobs=-1)]: Done  15 out of  30 | elapsed:    0.9s remaining:    0.9s\n",
      "[Parallel(n_jobs=-1)]: Done  30 out of  30 | elapsed:    3.3s finished\n"
     ]
    },
    {
     "name": "stdout",
     "output_type": "stream",
     "text": [
      "0.6485818562707648\n",
      "[[715 166]\n",
      " [ 78  97]]\n",
      "{'model__C': 1}\n"
     ]
    }
   ],
   "source": [
    "filename = 'lr_stacked_neg_vs_all.sav'\n",
    "\n",
    "\n",
    "parameter = {'model__C':[0.01, 0.1, 1, 10, 100, 1000]}\n",
    "\n",
    "clf = create_classifier(Xtrain,\n",
    "                        ytrain,\n",
    "                        LogisticRegression(solver = 'lbfgs', class_weight = 'balanced'),\n",
    "                        parameter,\n",
    "                        5,\n",
    "                        \"f1\",\n",
    "                        open(os.path.join(model_dir,filename), 'wb'))\n",
    "\n",
    "# Extract classifier score\n",
    "f1macro_score, cm = evaluate_classifier(clf,\n",
    "                                       Xtest,\n",
    "                                       ytest)\n",
    "\n",
    "# Print score\n",
    "print(f1macro_score)\n",
    "print(cm)\n",
    "print(clf.best_params_)"
   ]
  },
  {
   "cell_type": "code",
   "execution_count": 31,
   "metadata": {},
   "outputs": [
    {
     "name": "stdout",
     "output_type": "stream",
     "text": [
      "Precision for negative sentiment is 0.37, Recall for negative sentiment is 0.55\n"
     ]
    }
   ],
   "source": [
    "print(\"Precision for negative sentiment is %.2f, Recall for negative sentiment is %.2f\" % \n",
    "      (precision_score(ytest, clf.predict(Xtest), labels = [1]),\n",
    "      recall_score(ytest, clf.predict(Xtest), labels = [1])))"
   ]
  },
  {
   "cell_type": "markdown",
   "metadata": {},
   "source": [
    "from sklearn.metrics import fbeta_score, make_scorer\n",
    "ftwo_scorer = make_scorer(fbeta_score, beta = 5)"
   ]
  },
  {
   "cell_type": "code",
   "execution_count": 19,
   "metadata": {},
   "outputs": [
    {
     "name": "stdout",
     "output_type": "stream",
     "text": [
      "Fitting 5 folds for each of 6 candidates, totalling 30 fits\n"
     ]
    },
    {
     "name": "stderr",
     "output_type": "stream",
     "text": [
      "[Parallel(n_jobs=-1)]: Using backend LokyBackend with 8 concurrent workers.\n",
      "[Parallel(n_jobs=-1)]: Batch computation too fast (0.1809s.) Setting batch_size=2.\n",
      "[Parallel(n_jobs=-1)]: Done   2 tasks      | elapsed:    0.1s\n",
      "[Parallel(n_jobs=-1)]: Done  11 out of  30 | elapsed:    0.8s remaining:    1.4s\n",
      "[Parallel(n_jobs=-1)]: Done  15 out of  30 | elapsed:    1.0s remaining:    1.0s\n"
     ]
    },
    {
     "name": "stdout",
     "output_type": "stream",
     "text": [
      "0.5654301549031799\n",
      "[[579 302]\n",
      " [ 66 109]]\n",
      "{'model__C': 0.01}\n"
     ]
    },
    {
     "name": "stderr",
     "output_type": "stream",
     "text": [
      "[Parallel(n_jobs=-1)]: Done  30 out of  30 | elapsed:    3.6s finished\n"
     ]
    }
   ],
   "source": [
    "filename = 'lr_stacked_neg_max_recall.sav'\n",
    "\n",
    "\n",
    "parameter = {'model__C':[0.01, 0.1, 1, 10, 100, 1000]}\n",
    "\n",
    "clf = create_classifier(Xtrain,\n",
    "                        ytrain,\n",
    "                        LogisticRegression(solver = 'lbfgs', class_weight = 'balanced'),\n",
    "                        parameter,\n",
    "                        5,\n",
    "                        \"recall\",\n",
    "                        open(os.path.join(model_dir,filename), 'wb'))\n",
    "\n",
    "# Extract classifier score\n",
    "f1macro_score, cm = evaluate_classifier(clf,\n",
    "                                       Xtest,\n",
    "                                       ytest)\n",
    "\n",
    "# Print score\n",
    "print(f1macro_score)\n",
    "print(cm)\n",
    "print(clf.best_params_)"
   ]
  },
  {
   "cell_type": "code",
   "execution_count": 32,
   "metadata": {},
   "outputs": [
    {
     "name": "stdout",
     "output_type": "stream",
     "text": [
      "Precision for negative sentiment is 0.37, Recall for negative sentiment is 0.55\n"
     ]
    }
   ],
   "source": [
    "print(\"Precision for negative sentiment is %.2f, Recall for negative sentiment is %.2f\" % \n",
    "      (precision_score(ytest, clf.predict(Xtest), labels = [1]),\n",
    "      recall_score(ytest, clf.predict(Xtest), labels = [1])))"
   ]
  },
  {
   "cell_type": "code",
   "execution_count": 33,
   "metadata": {},
   "outputs": [
    {
     "data": {
      "text/plain": [
       "1056"
      ]
     },
     "execution_count": 33,
     "metadata": {},
     "output_type": "execute_result"
    }
   ],
   "source": [
    "len(ytest)"
   ]
  },
  {
   "cell_type": "markdown",
   "metadata": {},
   "source": [
    "# <font color='Blue'>Word Embedding models</font>"
   ]
  },
  {
   "cell_type": "markdown",
   "metadata": {},
   "source": [
    "## <font color='green'>W2V Custom Trained Grid Search - Dimension</font>"
   ]
  },
  {
   "cell_type": "code",
   "execution_count": 21,
   "metadata": {},
   "outputs": [],
   "source": [
    "from gensim.models import Word2Vec, KeyedVectors\n",
    "import multiprocessing"
   ]
  },
  {
   "cell_type": "code",
   "execution_count": 22,
   "metadata": {},
   "outputs": [],
   "source": [
    "def get_mean_vector(word2vec_model, n_dim, doc):\n",
    "    \"\"\" \n",
    "    From a document, derive the mean vector of its vocabularies with embeddings from a specified word2vec model with dimension n\n",
    "    \"\"\"\n",
    "    \n",
    "    # remove out-of-vocabulary words\n",
    "    word_list = [word for word in doc if word in word2vec_model.wv.vocab]\n",
    "    \n",
    "    # Take average if the doc contains in-vocabulary words, else, take a matrix of zeroes\n",
    "    if len(word_list) >= 1:\n",
    "        return np.mean(word2vec_model[word_list], axis=0)\n",
    "    else:\n",
    "        return ([0] * n_dim)"
   ]
  },
  {
   "cell_type": "markdown",
   "metadata": {},
   "source": [
    "%%time\n",
    "#### Create Word2vec word embeddings\n",
    "n_window = 4\n",
    "w2v_dimension_grid = {}\n",
    "for n_dim in np.arange(50,550,50):\n",
    "\n",
    "    sentences = [row.split() for row in train_processed.text]\n",
    "\n",
    "    cores = multiprocessing.cpu_count()\n",
    "\n",
    "    w2v_model = Word2Vec(min_count=10,\n",
    "                         window=n_window,\n",
    "                         size=n_dim,\n",
    "                         sample=6e-5, \n",
    "                         alpha=0.03, \n",
    "                         min_alpha=0.0007, \n",
    "                         negative=20,\n",
    "                         workers=1)\n",
    "\n",
    "    w2v_model.build_vocab(sentences)\n",
    "\n",
    "    w2v_model.train(sentences, total_examples=w2v_model.corpus_count, epochs=30)\n",
    "\n",
    "    #### Derive word2vec features\n",
    "\n",
    "    # Create a dictionary with the vocabs and its embeddings\n",
    "    w2v = dict(zip(w2v_model.wv.index2word, w2v_model.wv.syn0))\n",
    "\n",
    "    # Initialize a vector features dictionary\n",
    "    vec_features = {}\n",
    "\n",
    "    # Iterate over the documents to get the mean of word embeddings feature to derive document embeddings\n",
    "    for index, doc in train_processed.text.iteritems(): \n",
    "        vec_features[index] = get_mean_vector(w2v_model, n_dim, doc.split(' '))\n",
    "\n",
    "    # Create a document feature dataframe\n",
    "    vec_features_df = pd.DataFrame.from_dict(vec_features, 'index')\n",
    "    vec_features_df.shape\n",
    "\n",
    "    #### Evaluate classifier with given word2vec embeddings\n",
    "\n",
    "    # Define X and y\n",
    "\n",
    "    X = vec_features_df\n",
    "    y = train_processed.sentiment\n",
    "    indices = train_processed.index\n",
    "\n",
    "    # Split train and test set\n",
    "\n",
    "    Xtrain, Xtest, ytrain, ytest, itrain, itest = train_test_split(X, y, indices, train_size = 0.8, random_state = 42)\n",
    "\n",
    "    # Specify save file for model\n",
    "    filename = 'lr_w2v.sav'\n",
    "\n",
    "    # Specify parameter grid\n",
    "    parameter = {'model__C':[0.01, 0.1, 1, 10, 100]}\n",
    "\n",
    "    # Run grid search to create best classifier of type\n",
    "    clf = create_classifier(Xtrain, \n",
    "                            ytrain,\n",
    "                            LogisticRegression(solver = 'lbfgs', class_weight = 'balanced'),\n",
    "                            parameter,\n",
    "                            5,\n",
    "                            'f1_macro',\n",
    "                            open(os.path.join(model_dir,filename), 'wb'))\n",
    "\n",
    "    # Extract classifier score\n",
    "    f1macro_score, cm = evaluate_classifier(clf,\n",
    "                                           Xtest,\n",
    "                                           ytest)\n",
    "\n",
    "    # Save score\n",
    "    w2v_dimension_grid[n_dim] = f1macro_score\n",
    "\n",
    "    # Print score\n",
    "    print(\"F1-score for number of dimension: [%.d] is:[%.3f]\" % (n_dim, f1macro_score))"
   ]
  },
  {
   "cell_type": "markdown",
   "metadata": {},
   "source": [
    "w2v_dimension_search = pd.DataFrame.from_dict(w2v_dimension_grid, orient = 'index' )"
   ]
  },
  {
   "cell_type": "markdown",
   "metadata": {},
   "source": [
    "w2v_dimension_search.to_json(os.path.join(data_dir, 'interim', 'w2v_dimension_search_results.txt'))"
   ]
  },
  {
   "cell_type": "code",
   "execution_count": 23,
   "metadata": {},
   "outputs": [],
   "source": [
    "w2v_dimension_search = pd.read_json(os.path.join(data_dir, 'interim', 'w2v_dimension_search_results.txt'))"
   ]
  },
  {
   "cell_type": "code",
   "execution_count": 24,
   "metadata": {
    "scrolled": true
   },
   "outputs": [
    {
     "data": {
      "image/png": "[encoded data removed]",
      "text/plain": [
       "<Figure size 432x288 with 1 Axes>"
      ]
     },
     "metadata": {
      "needs_background": "light"
     },
     "output_type": "display_data"
    }
   ],
   "source": [
    "w2v_dimension_search.sort_index().plot()\n",
    "plt.title('Word2Vec dimension search results')\n",
    "plt.xlabel('Number of Dimension')\n",
    "plt.ylabel('F1 Macro Score')\n",
    "plt.legend('')\n",
    "plt.show()"
   ]
  },
  {
   "cell_type": "markdown",
   "metadata": {},
   "source": [
    "## <font color='green'>W2V Custom Trained Grid Search - Window Size</font>"
   ]
  },
  {
   "cell_type": "markdown",
   "metadata": {},
   "source": [
    "%%time\n",
    "#### Create Word2vec word embeddings\n",
    "n_dim = 200\n",
    "w2v_window_size_grid = {}\n",
    "for n_window in np.arange(1,15,1):\n",
    "\n",
    "    sentences = [row.split() for row in train_processed.text]\n",
    "\n",
    "    cores = multiprocessing.cpu_count()\n",
    "\n",
    "    w2v_model = Word2Vec(min_count=10,\n",
    "                         window=n_window,\n",
    "                         size=n_dim,\n",
    "                         sample=6e-5, \n",
    "                         alpha=0.03, \n",
    "                         min_alpha=0.0007, \n",
    "                         negative=20,\n",
    "                         workers=1)\n",
    "\n",
    "    w2v_model.build_vocab(sentences)\n",
    "\n",
    "    w2v_model.train(sentences, total_examples=w2v_model.corpus_count, epochs=30)\n",
    "\n",
    "    #### Derive word2vec features\n",
    "\n",
    "    # Create a dictionary with the vocabs and its embeddings\n",
    "    w2v = dict(zip(w2v_model.wv.index2word, w2v_model.wv.syn0))\n",
    "\n",
    "    # Initialize a vector features dictionary\n",
    "    vec_features = {}\n",
    "\n",
    "    # Iterate over the documents to get the mean of word embeddings feature to derive document embeddings\n",
    "    for index, doc in train_processed.text.iteritems(): \n",
    "        vec_features[index] = get_mean_vector(w2v_model, n_dim, doc.split(' '))\n",
    "\n",
    "    # Create a document feature dataframe\n",
    "    vec_features_df = pd.DataFrame.from_dict(vec_features, 'index')\n",
    "    vec_features_df.shape\n",
    "\n",
    "    #### Evaluate classifier with given word2vec embeddings\n",
    "\n",
    "    # Define X and y\n",
    "\n",
    "    X = vec_features_df\n",
    "    y = train_processed.sentiment\n",
    "    indices = train_processed.index\n",
    "\n",
    "    # Split train and test set\n",
    "\n",
    "    Xtrain, Xtest, ytrain, ytest, itrain, itest = train_test_split(X, y, indices, train_size = 0.8, random_state = 42)\n",
    "\n",
    "    # Specify save file for model\n",
    "    filename = 'lr_w2v.sav'\n",
    "\n",
    "    # Specify parameter grid\n",
    "    parameter = {'model__C':[0.01, 0.1, 1, 10, 100]}\n",
    "\n",
    "    # Run grid search to create best classifier of type\n",
    "    clf = create_classifier(Xtrain, \n",
    "                            ytrain,\n",
    "                            LogisticRegression(solver = 'lbfgs', class_weight = 'balanced'),\n",
    "                            parameter,\n",
    "                            5,\n",
    "                            'f1_macro',\n",
    "                            open(os.path.join(model_dir,filename), 'wb'))\n",
    "\n",
    "    # Extract classifier score\n",
    "    f1macro_score, cm = evaluate_classifier(clf,\n",
    "                                           Xtest,\n",
    "                                           ytest)\n",
    "\n",
    "    # Save score\n",
    "    w2v_window_size_grid[n_window] = f1macro_score\n",
    "\n",
    "    # Print score\n",
    "    print(\"F1-score for window size: [%.d] is:[%.3f]\" % (n_window, f1macro_score))"
   ]
  },
  {
   "cell_type": "markdown",
   "metadata": {},
   "source": [
    "w2v_window_size_search = pd.DataFrame.from_dict(w2v_window_size_grid, orient = 'index' )"
   ]
  },
  {
   "cell_type": "markdown",
   "metadata": {},
   "source": [
    "w2v_window_size_search.to_json(os.path.join(data_dir, 'interim', 'w2v_window_size_search_results.txt'))"
   ]
  },
  {
   "cell_type": "code",
   "execution_count": 25,
   "metadata": {},
   "outputs": [],
   "source": [
    "w2v_window_size_search = pd.read_json(os.path.join(data_dir, 'interim', 'w2v_window_size_search_results.txt'))"
   ]
  },
  {
   "cell_type": "code",
   "execution_count": 26,
   "metadata": {},
   "outputs": [
    {
     "data": {
      "image/png": "[encoded data removed]",
      "text/plain": [
       "<Figure size 432x288 with 1 Axes>"
      ]
     },
     "metadata": {
      "needs_background": "light"
     },
     "output_type": "display_data"
    }
   ],
   "source": [
    "w2v_window_size_search.sort_index().plot()\n",
    "plt.title('Word2Vec window size Search')\n",
    "plt.xlabel('Number of windows')\n",
    "plt.ylabel('F1 Macro Score')\n",
    "plt.legend('')\n",
    "plt.show()"
   ]
  },
  {
   "cell_type": "markdown",
   "metadata": {},
   "source": [
    "## <font color='green'>W2V Custom Trained Grid Search - Best Param</font>"
   ]
  },
  {
   "cell_type": "markdown",
   "metadata": {},
   "source": [
    "n_window = 7\n",
    "n_dim = 200\n",
    "\n",
    "sentences = [row.split() for row in train_processed.text]\n",
    "\n",
    "cores = multiprocessing.cpu_count()\n",
    "\n",
    "w2v_model = Word2Vec(min_count=10,\n",
    "                     window=n_window,\n",
    "                     size=n_dim,\n",
    "                     sample=6e-5, \n",
    "                     alpha=0.03, \n",
    "                     min_alpha=0.0007, \n",
    "                     negative=20,\n",
    "                     workers=1)\n",
    "\n",
    "w2v_model.build_vocab(sentences)\n",
    "\n",
    "w2v_model.train(sentences, total_examples=w2v_model.corpus_count, epochs=30)\n",
    "\n",
    "w2v_model.save(os.path.join(embedding_dir, 'w2v_best.bin'))\n",
    "\n",
    "#### Derive word2vec features\n",
    "\n",
    "# Create a dictionary with the vocabs and its embeddings\n",
    "w2v = dict(zip(w2v_model.wv.index2word, w2v_model.wv.syn0))\n",
    "\n",
    "# Initialize a vector features dictionary\n",
    "vec_features = {}\n",
    "\n",
    "# Iterate over the documents to get the mean of word embeddings feature to derive document embeddings\n",
    "for index, doc in train_processed.text.iteritems(): \n",
    "    vec_features[index] = get_mean_vector(w2v_model, n_dim, doc.split(' '))\n",
    "\n",
    "# Create a document feature dataframe\n",
    "vec_features_df = pd.DataFrame.from_dict(vec_features, 'index')\n",
    "vec_features_df.shape\n",
    "\n",
    "#### Evaluate classifier with given word2vec embeddings\n",
    "\n",
    "# Define X and y\n",
    "\n",
    "X = vec_features_df\n",
    "y = train_processed.sentiment\n",
    "indices = train_processed.index\n",
    "\n",
    "# Split train and test set\n",
    "\n",
    "Xtrain, Xtest, ytrain, ytest, itrain, itest = train_test_split(X, y, indices, train_size = 0.8, random_state = 42)\n",
    "\n",
    "# Specify save file for model\n",
    "filename = 'lr_w2v.sav'\n",
    "\n",
    "# Specify parameter grid\n",
    "parameter = {'model__C':[0.01, 0.1, 1, 10, 100]}\n",
    "\n",
    "# Run grid search to create best classifier of type\n",
    "clf = create_classifier(Xtrain, \n",
    "                        ytrain,\n",
    "                        LogisticRegression(solver = 'lbfgs', class_weight = 'balanced'),\n",
    "                        parameter,\n",
    "                        5,\n",
    "                        'f1_macro',\n",
    "                        open(os.path.join(model_dir,filename), 'wb'))\n",
    "\n",
    "# Extract classifier score\n",
    "f1macro_score, cm = evaluate_classifier(clf,\n",
    "                                       Xtest,\n",
    "                                       ytest)\n",
    "\n",
    "# Print score\n",
    "print(\"F1-score for window size: [%.d] and number of dimension [%.d] is:[%.3f]\" % (n_window, n_dim, f1macro_score))\n",
    "\n",
    "# Save model score\n",
    "w2v_best = f1macro_score"
   ]
  },
  {
   "cell_type": "markdown",
   "metadata": {},
   "source": [
    "## <font color='green'>Best W2V With Meta Features</font>"
   ]
  },
  {
   "cell_type": "markdown",
   "metadata": {},
   "source": [
    "n_window = 7\n",
    "n_dim = 200\n",
    "\n",
    "sentences = [row.split() for row in train_processed.text]\n",
    "\n",
    "cores = multiprocessing.cpu_count()\n",
    "\n",
    "w2v_model = Word2Vec(min_count=10,\n",
    "                     window=n_window,\n",
    "                     size=n_dim,\n",
    "                     sample=6e-5, \n",
    "                     alpha=0.03, \n",
    "                     min_alpha=0.0007, \n",
    "                     negative=20,\n",
    "                     workers=1)\n",
    "\n",
    "w2v_model.build_vocab(sentences)\n",
    "\n",
    "w2v_model.train(sentences, total_examples=w2v_model.corpus_count, epochs=30)\n",
    "\n",
    "#### Derive word2vec features\n",
    "\n",
    "# Create a dictionary with the vocabs and its embeddings\n",
    "w2v = dict(zip(w2v_model.wv.index2word, w2v_model.wv.syn0))\n",
    "\n",
    "# Initialize a vector features dictionary\n",
    "vec_features = {}\n",
    "\n",
    "# Iterate over the documents to get the mean of word embeddings feature to derive document embeddings\n",
    "for index, doc in train_processed.text.iteritems(): \n",
    "    vec_features[index] = get_mean_vector(w2v_model, n_dim, doc.split(' '))\n",
    "\n",
    "# Create a document feature dataframe\n",
    "vec_features_df = pd.DataFrame.from_dict(vec_features, 'index')\n",
    "vec_features_df.shape"
   ]
  },
  {
   "cell_type": "markdown",
   "metadata": {},
   "source": [
    "#### Scale Meta Features and concatenate with word embedding\n",
    "# meta_feat = meta_feat.drop(\"sentiment\", axis = 1)\n",
    "\n",
    "# Scale meta features\n",
    "scaler = StandardScaler()\n",
    "meta_features = pd.DataFrame(scaler.fit_transform(meta_feat.drop(\"sentiment\", axis = 1)), \n",
    "                             columns = meta_feat.drop(\"sentiment\", axis = 1).columns)"
   ]
  },
  {
   "cell_type": "markdown",
   "metadata": {},
   "source": [
    "# Concatenate with word embedding features\n",
    "vec_features_df = pd.concat([vec_features_df, meta_features], axis = 1)"
   ]
  },
  {
   "cell_type": "markdown",
   "metadata": {},
   "source": [
    "#### Evaluate classifier with given word2vec embeddings\n",
    "\n",
    "# Define X and y\n",
    "\n",
    "X = vec_features_df\n",
    "y = train_processed.sentiment\n",
    "indices = train_processed.index\n",
    "\n",
    "# Split train and test set\n",
    "\n",
    "Xtrain, Xtest, ytrain, ytest, itrain, itest = train_test_split(X, y, indices, train_size = 0.8, random_state = 42)\n",
    "\n",
    "# Specify save file for model\n",
    "filename = 'lr_stacked_w2v.sav'\n",
    "\n",
    "# Specify parameter grid\n",
    "parameter = {'model__C':[0.01, 0.1, 1, 10, 100]}\n",
    "\n",
    "# Run grid search to create best classifier of type\n",
    "clf = create_classifier(Xtrain, \n",
    "                        ytrain,\n",
    "                        LogisticRegression(solver = 'lbfgs', class_weight = 'balanced'),\n",
    "                        parameter,\n",
    "                        5,\n",
    "                        'f1_macro',\n",
    "                        open(os.path.join(model_dir,filename), 'wb'))\n",
    "\n",
    "# Extract classifier score\n",
    "f1macro_score, cm = evaluate_classifier(clf,\n",
    "                                       Xtest,\n",
    "                                       ytest)\n",
    "\n",
    "# Print score\n",
    "print(\"F1-score for stacking meta features with W2V with window size [%.d] and number of dimension [%.d] is [%.3f]\" % (n_window, n_dim, f1macro_score))\n",
    "\n",
    "# Save model score\n",
    "w2v_stacked_best = f1macro_score"
   ]
  },
  {
   "cell_type": "markdown",
   "metadata": {},
   "source": [
    "## <font color='green'>W2V Google Pre-trained</font>"
   ]
  },
  {
   "cell_type": "markdown",
   "metadata": {},
   "source": [
    "# Load Google's pre-trained Word2Vec model.\n",
    "\n",
    "w2v_google_model = KeyedVectors.load_word2vec_format(os.path.join(embedding_dir, 'GoogleNews-vectors-negative300.bin'), binary=True)"
   ]
  },
  {
   "cell_type": "markdown",
   "metadata": {},
   "source": [
    "# Create a dictionary with the vocabs and its embeddings\n",
    "w2v = dict(zip(w2v_google_model.wv.index2word, w2v_google_model.wv.syn0))\n",
    "\n",
    "# Initialize a vector features dictionary\n",
    "vec_features = {}\n",
    "\n",
    "# Iterate over the documents to get the mean of word embeddings feature to derive document embeddings\n",
    "for index, doc in train_processed.text.iteritems(): \n",
    "    vec_features[index] = get_mean_vector(w2v_google_model, 300, doc.split(' '))\n",
    "\n",
    "# Create a document feature dataframe\n",
    "vec_features_df = pd.DataFrame.from_dict(vec_features, 'index')\n",
    "vec_features_df.shape\n",
    "\n",
    "#### Evaluate classifier with given word2vec embeddings\n",
    "\n",
    "# Define X and y\n",
    "\n",
    "X = vec_features_df\n",
    "y = train_processed.sentiment\n",
    "indices = train_processed.index\n",
    "\n",
    "# Split train and test set\n",
    "\n",
    "Xtrain, Xtest, ytrain, ytest, itrain, itest = train_test_split(X, y, indices, train_size = 0.8, random_state = 42)\n",
    "\n",
    "# Specify save file for model\n",
    "filename = 'lr_w2v_pretrained_google.sav'\n",
    "\n",
    "# Specify parameter grid\n",
    "parameter = {'model__C':[0.01, 0.1, 1, 10, 100]}\n",
    "\n",
    "# Run grid search to create best classifier of type\n",
    "clf = create_classifier(Xtrain, \n",
    "                        ytrain,\n",
    "                        LogisticRegression(solver = 'lbfgs', class_weight = 'balanced'),\n",
    "                        parameter,\n",
    "                        5,\n",
    "                        'f1_macro',\n",
    "                        open(os.path.join(model_dir,filename), 'wb'))\n",
    "\n",
    "# Extract classifier score\n",
    "f1macro_score, cm = evaluate_classifier(clf,\n",
    "                                       Xtest,\n",
    "                                       ytest)\n",
    "\n",
    "# Print score\n",
    "print(f1macro_score)\n",
    "print(cm)\n",
    "print(clf.best_params_)"
   ]
  },
  {
   "cell_type": "markdown",
   "metadata": {},
   "source": [
    "w2v_pretrained_google = f1macro_score"
   ]
  },
  {
   "cell_type": "markdown",
   "metadata": {},
   "source": [
    "## <font color='green'>GloVe Stanford Pre-trained</font>"
   ]
  },
  {
   "cell_type": "markdown",
   "metadata": {},
   "source": [
    "import spacy\n",
    "\n",
    "nlp = spacy.load('en_vectors_web_lg')\n",
    "\n",
    "total_vectors = len(nlp.vocab.vectors)\n",
    "print('Total word vectors:', total_vectors)"
   ]
  },
  {
   "cell_type": "markdown",
   "metadata": {},
   "source": [
    "from gensim.scripts.glove2word2vec import glove2word2vec\n",
    "glove_input_file = os.path.join(embedding_dir, 'glove.6B.300d.txt')\n",
    "word2vec_output_file = os.path.join(embedding_dir,'glove.6B.300d.txt.word2vec')\n",
    "glove2word2vec(glove_input_file, word2vec_output_file)"
   ]
  },
  {
   "cell_type": "markdown",
   "metadata": {},
   "source": [
    "from gensim.scripts.glove2word2vec import glove2word2vec\n",
    "word2vec_output_file = os.path.join(embedding_dir,'glove.6B.300d.txt.word2vec')\n",
    "w2v_glove_stanford_model = KeyedVectors.load_word2vec_format(word2vec_output_file, binary=False)"
   ]
  },
  {
   "cell_type": "markdown",
   "metadata": {},
   "source": [
    "# Create a dictionary with the vocabs and its embeddings\n",
    "w2v = dict(zip(w2v_glove_stanford_model.wv.index2word, w2v_glove_stanford_model.wv.syn0))\n",
    "\n",
    "# Initialize a vector features dictionary\n",
    "vec_features = {}\n",
    "\n",
    "# Iterate over the documents to get the mean of word embeddings feature to derive document embeddings\n",
    "for index, doc in train_processed.text.iteritems(): \n",
    "    vec_features[index] = get_mean_vector(w2v_glove_stanford_model, 300, doc.split(' '))\n",
    "\n",
    "# Create a document feature dataframe\n",
    "vec_features_df = pd.DataFrame.from_dict(vec_features, 'index')\n",
    "vec_features_df.shape\n",
    "\n",
    "#### Evaluate classifier with given word2vec embeddings\n",
    "\n",
    "# Define X and y\n",
    "\n",
    "X = vec_features_df\n",
    "y = train_processed.sentiment\n",
    "indices = train_processed.index\n",
    "\n",
    "# Split train and test set\n",
    "\n",
    "Xtrain, Xtest, ytrain, ytest, itrain, itest = train_test_split(X, y, indices, train_size = 0.8, random_state = 42)\n",
    "\n",
    "# Specify save file for model\n",
    "filename = 'lr_w2v_pretrained_glove_stanford.sav'\n",
    "\n",
    "# Specify parameter grid\n",
    "parameter = {'model__C':[0.01, 0.1, 1, 10, 100]}\n",
    "\n",
    "# Run grid search to create best classifier of type\n",
    "clf = create_classifier(Xtrain, \n",
    "                        ytrain,\n",
    "                        LogisticRegression(solver = 'lbfgs', class_weight = 'balanced'),\n",
    "                        parameter,\n",
    "                        5,\n",
    "                        'f1_macro',\n",
    "                        open(os.path.join(model_dir,filename), 'wb'))\n",
    "\n",
    "# Extract classifier score\n",
    "f1macro_score, cm = evaluate_classifier(clf,\n",
    "                                       Xtest,\n",
    "                                       ytest)\n",
    "\n",
    "# Print score\n",
    "print(f1macro_score)\n",
    "print(cm)\n",
    "print(clf.best_params_)"
   ]
  },
  {
   "cell_type": "markdown",
   "metadata": {},
   "source": [
    "glova_pretrained_stanford = f1macro_score"
   ]
  },
  {
   "cell_type": "markdown",
   "metadata": {},
   "source": [
    "## <font color='green'>Fasttext</font>"
   ]
  },
  {
   "cell_type": "markdown",
   "metadata": {},
   "source": [
    "import nltk\n",
    "from gensim.models.fasttext import FastText\n",
    "\n",
    "wpt = nltk.WordPunctTokenizer()\n",
    "tokenized_corpus = [wpt.tokenize(doc) for document in train_processed.text]"
   ]
  },
  {
   "cell_type": "markdown",
   "metadata": {},
   "source": [
    "# Set values for various parameters\n",
    "feature_size = 200    # Word vector dimensionality  \n",
    "window_context = 50          # Context window size                                                                                    \n",
    "min_word_count = 5   # Minimum word count                        \n",
    "sample = 1e-3   # Downsample setting for frequent words\n",
    "\n",
    "\n",
    "ft_model = FastText(tokenized_corpus, \n",
    "                    size=feature_size, \n",
    "                    window=window_context, \n",
    "                    min_count=min_word_count,\n",
    "                    sample=sample, \n",
    "                    sg=1, \n",
    "                    iter=50)\n",
    "\n",
    "# Create a dictionary with the vocabs and its embeddings\n",
    "w2v = dict(zip(ft_model.wv.index2word, ft_model.wv.syn0))\n",
    "\n",
    "# Initialize a vector features dictionary\n",
    "vec_features = {}\n",
    "\n",
    "# Iterate over the documents to get the mean of word embeddings feature to derive document embeddings\n",
    "for index, doc in train_processed.text.iteritems(): \n",
    "    vec_features[index] = get_mean_vector(ft_model, 200, doc.split(' '))\n",
    "\n",
    "# Create a document feature dataframe\n",
    "vec_features_df = pd.DataFrame.from_dict(vec_features, 'index')\n",
    "vec_features_df.shape\n",
    "\n",
    "#### Evaluate classifier with given word2vec embeddings\n",
    "\n",
    "# Define X and y\n",
    "\n",
    "X = vec_features_df\n",
    "y = train_processed.sentiment\n",
    "indices = train_processed.index\n",
    "\n",
    "# Split train and test set\n",
    "\n",
    "Xtrain, Xtest, ytrain, ytest, itrain, itest = train_test_split(X, y, indices, train_size = 0.8, random_state = 42)\n",
    "\n",
    "# Specify save file for model\n",
    "filename = 'lr_w2v_fasttext.sav'\n",
    "\n",
    "# Specify parameter grid\n",
    "parameter = {'model__C':[0.01, 0.1, 1, 10, 100]}\n",
    "\n",
    "# Run grid search to create best classifier of type\n",
    "clf = create_classifier(Xtrain, \n",
    "                        ytrain,\n",
    "                        LogisticRegression(solver = 'lbfgs', class_weight = 'balanced'),\n",
    "                        parameter,\n",
    "                        5,\n",
    "                        'f1_macro',\n",
    "                        open(os.path.join(model_dir,filename), 'wb'))\n",
    "\n",
    "# Extract classifier score\n",
    "f1macro_score, cm = evaluate_classifier(clf,\n",
    "                                       Xtest,\n",
    "                                       ytest)\n",
    "\n",
    "# Print score\n",
    "print(f1macro_score)\n",
    "print(cm)\n",
    "print(clf.best_params_)\n",
    "\n",
    "fast_text = f1macro_score"
   ]
  },
  {
   "cell_type": "markdown",
   "metadata": {},
   "source": [
    "## <font color='green'>Final Result of Word Embedding models</font>"
   ]
  },
  {
   "cell_type": "markdown",
   "metadata": {},
   "source": [
    "results = pd.DataFrame({\"Model\": [\"Word2Vec\", \"Word2Vec Stacked\", \"Pretrained Word2Vec\", \"Pretrained Glove\", \"Fasttext\"],\n",
    "                      \"F1-Macro-Score\": [w2v_best, w2v_stacked_best, w2v_pretrained_google, glova_pretrained_stanford, fast_text]})"
   ]
  },
  {
   "cell_type": "markdown",
   "metadata": {},
   "source": [
    "results.to_json(os.path.join(model_dir, 'w2v_results.json'))"
   ]
  },
  {
   "cell_type": "code",
   "execution_count": 27,
   "metadata": {},
   "outputs": [],
   "source": [
    "with open(os.path.join(model_dir, 'w2v_results.json')) as file:\n",
    "    results = json.load(file)"
   ]
  },
  {
   "cell_type": "code",
   "execution_count": 28,
   "metadata": {},
   "outputs": [
    {
     "data": {
      "text/html": [
       "<div>\n",
       "<style scoped>\n",
       "    .dataframe tbody tr th:only-of-type {\n",
       "        vertical-align: middle;\n",
       "    }\n",
       "\n",
       "    .dataframe tbody tr th {\n",
       "        vertical-align: top;\n",
       "    }\n",
       "\n",
       "    .dataframe thead th {\n",
       "        text-align: right;\n",
       "    }\n",
       "</style>\n",
       "<table border=\"1\" class=\"dataframe\">\n",
       "  <thead>\n",
       "    <tr style=\"text-align: right;\">\n",
       "      <th></th>\n",
       "      <th>Model</th>\n",
       "      <th>F1-Macro-Score</th>\n",
       "    </tr>\n",
       "  </thead>\n",
       "  <tbody>\n",
       "    <tr>\n",
       "      <th>0</th>\n",
       "      <td>Word2Vec</td>\n",
       "      <td>0.489108</td>\n",
       "    </tr>\n",
       "    <tr>\n",
       "      <th>1</th>\n",
       "      <td>Word2Vec Stacked</td>\n",
       "      <td>0.484752</td>\n",
       "    </tr>\n",
       "    <tr>\n",
       "      <th>3</th>\n",
       "      <td>Pretrained Glove</td>\n",
       "      <td>0.462909</td>\n",
       "    </tr>\n",
       "    <tr>\n",
       "      <th>2</th>\n",
       "      <td>Pretrained Word2Vec</td>\n",
       "      <td>0.457218</td>\n",
       "    </tr>\n",
       "    <tr>\n",
       "      <th>4</th>\n",
       "      <td>Fasttext</td>\n",
       "      <td>0.366151</td>\n",
       "    </tr>\n",
       "  </tbody>\n",
       "</table>\n",
       "</div>"
      ],
      "text/plain": [
       "                 Model  F1-Macro-Score\n",
       "0             Word2Vec        0.489108\n",
       "1     Word2Vec Stacked        0.484752\n",
       "3     Pretrained Glove        0.462909\n",
       "2  Pretrained Word2Vec        0.457218\n",
       "4             Fasttext        0.366151"
      ]
     },
     "execution_count": 28,
     "metadata": {},
     "output_type": "execute_result"
    }
   ],
   "source": [
    "pd.DataFrame(results).sort_values(\"F1-Macro-Score\", ascending = False)"
   ]
  }
 ],
 "metadata": {
  "kernelspec": {
   "display_name": "Python 3",
   "language": "python",
   "name": "python3"
  },
  "language_info": {
   "codemirror_mode": {
    "name": "ipython",
    "version": 3
   },
   "file_extension": ".py",
   "mimetype": "text/x-python",
   "name": "python",
   "nbconvert_exporter": "python",
   "pygments_lexer": "ipython3",
   "version": "3.7.3"
  }
 },
 "nbformat": 4,
 "nbformat_minor": 2
}
