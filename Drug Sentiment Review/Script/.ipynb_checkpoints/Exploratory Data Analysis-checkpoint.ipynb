{
 "cells": [
  {
   "cell_type": "markdown",
   "metadata": {},
   "source": [
    "# Part 0: Import and Preference settings"
   ]
  },
  {
   "cell_type": "code",
   "execution_count": 1,
   "metadata": {},
   "outputs": [],
   "source": [
    "# Import modules\n",
    "\n",
    "import pandas as pd\n",
    "import numpy as np\n",
    "import matplotlib.pyplot as plt\n",
    "import seaborn as sns\n",
    "import os\n",
    "import json\n",
    "import random\n",
    "\n",
    "from nltk.corpus import stopwords"
   ]
  },
  {
   "cell_type": "code",
   "execution_count": 2,
   "metadata": {},
   "outputs": [],
   "source": [
    "# Set options\n",
    "\n",
    "%matplotlib inline\n",
    "pd.set_option('display.max_columns', 30)\n",
    "pd.set_option('display.max_rows', 30)\n",
    "pd.options.display.max_columns=100\n",
    "pd.options.display.max_rows=100"
   ]
  },
  {
   "cell_type": "code",
   "execution_count": 3,
   "metadata": {},
   "outputs": [],
   "source": [
    "# ignore deprecation warnings in sklearn\n",
    "\n",
    "import warnings\n",
    "warnings.filterwarnings(\"ignore\")"
   ]
  },
  {
   "cell_type": "code",
   "execution_count": 4,
   "metadata": {},
   "outputs": [],
   "source": [
    "# Specify data directory\n",
    "\n",
    "data_dir = os.path.join(os.path.dirname(os.getcwd()),'Data')"
   ]
  },
  {
   "cell_type": "code",
   "execution_count": 5,
   "metadata": {},
   "outputs": [],
   "source": [
    "# Set data paths\n",
    "\n",
    "train_path = os.path.join(data_dir, 'train.csv')\n",
    "\n",
    "train_processed_path = os.path.join(data_dir, 'interim', 'train_preprocessed.txt')"
   ]
  },
  {
   "cell_type": "code",
   "execution_count": 6,
   "metadata": {},
   "outputs": [],
   "source": [
    "# Read datasets\n",
    "\n",
    "train = pd.read_csv(train_path)\n",
    "train_processed = pd.read_json(train_processed_path)"
   ]
  },
  {
   "cell_type": "code",
   "execution_count": 7,
   "metadata": {},
   "outputs": [
    {
     "data": {
      "text/html": [
       "<div>\n",
       "<style scoped>\n",
       "    .dataframe tbody tr th:only-of-type {\n",
       "        vertical-align: middle;\n",
       "    }\n",
       "\n",
       "    .dataframe tbody tr th {\n",
       "        vertical-align: top;\n",
       "    }\n",
       "\n",
       "    .dataframe thead th {\n",
       "        text-align: right;\n",
       "    }\n",
       "</style>\n",
       "<table border=\"1\" class=\"dataframe\">\n",
       "  <thead>\n",
       "    <tr style=\"text-align: right;\">\n",
       "      <th></th>\n",
       "      <th>unique_hash</th>\n",
       "      <th>text</th>\n",
       "      <th>drug</th>\n",
       "      <th>sentiment</th>\n",
       "    </tr>\n",
       "  </thead>\n",
       "  <tbody>\n",
       "    <tr>\n",
       "      <th>0</th>\n",
       "      <td>2e180be4c9214c1f5ab51fd8cc32bc80c9f612e0</td>\n",
       "      <td>Autoimmune diseases tend to come in clusters. ...</td>\n",
       "      <td>gilenya</td>\n",
       "      <td>2</td>\n",
       "    </tr>\n",
       "    <tr>\n",
       "      <th>1</th>\n",
       "      <td>9eba8f80e7e20f3a2f48685530748fbfa95943e4</td>\n",
       "      <td>I can completely understand why you’d want to ...</td>\n",
       "      <td>gilenya</td>\n",
       "      <td>2</td>\n",
       "    </tr>\n",
       "    <tr>\n",
       "      <th>2</th>\n",
       "      <td>fe809672251f6bd0d986e00380f48d047c7e7b76</td>\n",
       "      <td>Interesting that it only targets S1P-1/5 recep...</td>\n",
       "      <td>fingolimod</td>\n",
       "      <td>2</td>\n",
       "    </tr>\n",
       "    <tr>\n",
       "      <th>3</th>\n",
       "      <td>bd22104dfa9ec80db4099523e03fae7a52735eb6</td>\n",
       "      <td>Very interesting, grand merci. Now I wonder wh...</td>\n",
       "      <td>ocrevus</td>\n",
       "      <td>2</td>\n",
       "    </tr>\n",
       "    <tr>\n",
       "      <th>4</th>\n",
       "      <td>b227688381f9b25e5b65109dd00f7f895e838249</td>\n",
       "      <td>Hi everybody, My latest MRI results for Brain ...</td>\n",
       "      <td>gilenya</td>\n",
       "      <td>1</td>\n",
       "    </tr>\n",
       "  </tbody>\n",
       "</table>\n",
       "</div>"
      ],
      "text/plain": [
       "                                unique_hash  \\\n",
       "0  2e180be4c9214c1f5ab51fd8cc32bc80c9f612e0   \n",
       "1  9eba8f80e7e20f3a2f48685530748fbfa95943e4   \n",
       "2  fe809672251f6bd0d986e00380f48d047c7e7b76   \n",
       "3  bd22104dfa9ec80db4099523e03fae7a52735eb6   \n",
       "4  b227688381f9b25e5b65109dd00f7f895e838249   \n",
       "\n",
       "                                                text        drug  sentiment  \n",
       "0  Autoimmune diseases tend to come in clusters. ...     gilenya          2  \n",
       "1  I can completely understand why you’d want to ...     gilenya          2  \n",
       "2  Interesting that it only targets S1P-1/5 recep...  fingolimod          2  \n",
       "3  Very interesting, grand merci. Now I wonder wh...     ocrevus          2  \n",
       "4  Hi everybody, My latest MRI results for Brain ...     gilenya          1  "
      ]
     },
     "execution_count": 7,
     "metadata": {},
     "output_type": "execute_result"
    }
   ],
   "source": [
    "train.head()"
   ]
  },
  {
   "cell_type": "markdown",
   "metadata": {},
   "source": [
    "# Part 1: Exploratory Data Analysis"
   ]
  },
  {
   "cell_type": "code",
   "execution_count": 8,
   "metadata": {},
   "outputs": [
    {
     "data": {
      "text/plain": [
       "0     617\n",
       "1     837\n",
       "2    3825\n",
       "Name: sentiment, dtype: int64"
      ]
     },
     "execution_count": 8,
     "metadata": {},
     "output_type": "execute_result"
    }
   ],
   "source": [
    "train.sentiment.value_counts(sort = False)"
   ]
  },
  {
   "cell_type": "markdown",
   "metadata": {},
   "source": [
    "## Count of Each Sentiment class"
   ]
  },
  {
   "cell_type": "markdown",
   "metadata": {},
   "source": [
    "First, we take a look at the review counts for each sentiment:"
   ]
  },
  {
   "cell_type": "code",
   "execution_count": 9,
   "metadata": {
    "scrolled": true
   },
   "outputs": [
    {
     "data": {
      "image/png": "[encoded data removed]",
      "text/plain": [
       "<Figure size 432x288 with 1 Axes>"
      ]
     },
     "metadata": {
      "needs_background": "light"
     },
     "output_type": "display_data"
    }
   ],
   "source": [
    "# Find sentiment class seperation\n",
    "\n",
    "train.sentiment.value_counts(sort = False).plot(kind = 'bar', rot = 0)\n",
    "plt.title('Raw review counts of each sentiment')\n",
    "plt.xlabel('Sentiments')\n",
    "plt.ylabel('Counts')\n",
    "plt.show()"
   ]
  },
  {
   "cell_type": "markdown",
   "metadata": {},
   "source": [
    "<div class=\"span5 alert alert-success\">\n",
    "It looks as if our sample display high imbalance. We must take a mental note to explore techniques of resampling or tuning better metrics to improve our model's generality.\n",
    "</div>"
   ]
  },
  {
   "cell_type": "markdown",
   "metadata": {},
   "source": [
    "## Take a glimpse into random reviews"
   ]
  },
  {
   "cell_type": "code",
   "execution_count": 10,
   "metadata": {},
   "outputs": [],
   "source": [
    "pos_index = train[train.sentiment == 0].index.tolist()\n",
    "neg_index = train[train.sentiment == 1].index.tolist()\n",
    "neu_index = train[train.sentiment == 2].index.tolist()"
   ]
  },
  {
   "cell_type": "code",
   "execution_count": 11,
   "metadata": {},
   "outputs": [
    {
     "data": {
      "text/plain": [
       "array(['So, I was diagnosed with mild UC November 2016, and ever since that I have only gone downhill. Humira did nothing for me, and I’m trying to get approval for entyvio. Lately I get up like 5-6 times a night to go to the bathroom, and it’s getting ridiculous. I find that if I’m sleeping on one side, and quickly shift to the other I have to run to the bathroom. It’s like my colon is sleeping and if I shift over to the other side I just woke it up. Anyone else deal with this? Just had my 3rd colonoscopy, and now it’s severe UC. If that helps anything'],\n",
       "      dtype=object)"
      ]
     },
     "execution_count": 11,
     "metadata": {},
     "output_type": "execute_result"
    }
   ],
   "source": [
    "train[train.sentiment == 1].text[random.sample(neg_index,1)].values"
   ]
  },
  {
   "cell_type": "markdown",
   "metadata": {},
   "source": [
    "<div class=\"span5 alert alert-success\">\n",
    "<b>Insight:</b>\n",
    "<ul>\n",
    "    <li>Many of the reviews compare drugs, thus has several drug name mentioned .. Bag of word would experience confusion over this. I don't think removing the name of all drugs is a good idea since qualities of other classes would be attached to the drug in question.</li>\n",
    "    <li>Would a feature like how many drugs mention work?</li>\n",
    "    <li>Some reviews have sarcasm</li>\n",
    "    <li>Some reviews compare between 2 drugs</li>\n",
    "    <li>Seems that review lengths are associated with sentiments, I'll have to check this</li>\n",
    "    <li>There were some emoticons, could that help?</li>\n",
    "</ul>\n",
    "It's clear that we might do well with extracted meta-data\n",
    "</div>"
   ]
  },
  {
   "cell_type": "markdown",
   "metadata": {},
   "source": [
    "## Transforming and Extracting Meta Data"
   ]
  },
  {
   "cell_type": "code",
   "execution_count": 12,
   "metadata": {},
   "outputs": [],
   "source": [
    "# Defining and transforming function to extract meta-data\n",
    "STOPWORDS = set(stopwords.words('english'))\n",
    "                \n",
    "def extract_meta_data(data):\n",
    "    df = data.copy()\n",
    "    \n",
    "    # Extract the list of all drugs\n",
    "    drug_list = data.drug.unique().tolist()\n",
    "    \n",
    "    # Extract the drug mention count\n",
    "    df['drug_count'] = df['text'].apply(lambda x: len(np.intersect1d(x.lower().split(),drug_list)))\n",
    "    \n",
    "    # Extract whether the text has upper-cased letters\n",
    "    # df[\"has_upper\"] = df[\"text\"].apply(lambda x: x.lower() != x).map({True:1,False:0})\n",
    "    \n",
    "    # Extract the number uppercased letter\n",
    "    df['n_upper'] = df['text'].apply(lambda x: len([x for x in x.split() if x.isupper()]))\n",
    "    \n",
    "    # Extract the word count of each row\n",
    "    df['word_count']=df['text'].apply(lambda x: len(str(x).split(\" \")))\n",
    "    \n",
    "    # Extract the character count of each row\n",
    "    df['char_count'] = df['text'].str.len()\n",
    "    \n",
    "    # Extract average word_length\n",
    "    df['avg_wlen'] = df['char_count'] / df['word_count']\n",
    "    \n",
    "    # Extract adjusted drug_count\n",
    "    df['adj_drug_count'] =  df['drug_count'] / df['word_count']\n",
    "    \n",
    "    # Extract number of stop words\n",
    "    df['n_stop'] = df['text'].apply(lambda x: len([x for x in x.split() if x in STOPWORDS]))\n",
    "    \n",
    "    # Extract number of numerics\n",
    "    df['n_num'] = df['text'].apply(lambda x: len([x for x in x.split() if x.isdigit()]))\n",
    "    \n",
    "    # Extract drug_category to numeric form\n",
    "    df['drug_category'] = df.drug.astype('category').cat.codes\n",
    "    return df"
   ]
  },
  {
   "cell_type": "code",
   "execution_count": 13,
   "metadata": {
    "scrolled": true
   },
   "outputs": [
    {
     "name": "stdout",
     "output_type": "stream",
     "text": [
      "Wall time: 2.85 s\n"
     ]
    },
    {
     "data": {
      "text/html": [
       "<div>\n",
       "<style scoped>\n",
       "    .dataframe tbody tr th:only-of-type {\n",
       "        vertical-align: middle;\n",
       "    }\n",
       "\n",
       "    .dataframe tbody tr th {\n",
       "        vertical-align: top;\n",
       "    }\n",
       "\n",
       "    .dataframe thead th {\n",
       "        text-align: right;\n",
       "    }\n",
       "</style>\n",
       "<table border=\"1\" class=\"dataframe\">\n",
       "  <thead>\n",
       "    <tr style=\"text-align: right;\">\n",
       "      <th></th>\n",
       "      <th>unique_hash</th>\n",
       "      <th>text</th>\n",
       "      <th>drug</th>\n",
       "      <th>sentiment</th>\n",
       "      <th>drug_count</th>\n",
       "      <th>n_upper</th>\n",
       "      <th>word_count</th>\n",
       "      <th>char_count</th>\n",
       "      <th>avg_wlen</th>\n",
       "      <th>adj_drug_count</th>\n",
       "      <th>n_stop</th>\n",
       "      <th>n_num</th>\n",
       "      <th>drug_category</th>\n",
       "    </tr>\n",
       "  </thead>\n",
       "  <tbody>\n",
       "    <tr>\n",
       "      <th>0</th>\n",
       "      <td>2e180be4c9214c1f5ab51fd8cc32bc80c9f612e0</td>\n",
       "      <td>Autoimmune diseases tend to come in clusters. ...</td>\n",
       "      <td>gilenya</td>\n",
       "      <td>2</td>\n",
       "      <td>2</td>\n",
       "      <td>1</td>\n",
       "      <td>76</td>\n",
       "      <td>404</td>\n",
       "      <td>5.315789</td>\n",
       "      <td>0.026316</td>\n",
       "      <td>28</td>\n",
       "      <td>0</td>\n",
       "      <td>38</td>\n",
       "    </tr>\n",
       "    <tr>\n",
       "      <th>1</th>\n",
       "      <td>9eba8f80e7e20f3a2f48685530748fbfa95943e4</td>\n",
       "      <td>I can completely understand why you’d want to ...</td>\n",
       "      <td>gilenya</td>\n",
       "      <td>2</td>\n",
       "      <td>0</td>\n",
       "      <td>5</td>\n",
       "      <td>206</td>\n",
       "      <td>1184</td>\n",
       "      <td>5.747573</td>\n",
       "      <td>0.000000</td>\n",
       "      <td>85</td>\n",
       "      <td>0</td>\n",
       "      <td>38</td>\n",
       "    </tr>\n",
       "    <tr>\n",
       "      <th>2</th>\n",
       "      <td>fe809672251f6bd0d986e00380f48d047c7e7b76</td>\n",
       "      <td>Interesting that it only targets S1P-1/5 recep...</td>\n",
       "      <td>fingolimod</td>\n",
       "      <td>2</td>\n",
       "      <td>1</td>\n",
       "      <td>4</td>\n",
       "      <td>135</td>\n",
       "      <td>780</td>\n",
       "      <td>5.777778</td>\n",
       "      <td>0.007407</td>\n",
       "      <td>50</td>\n",
       "      <td>3</td>\n",
       "      <td>35</td>\n",
       "    </tr>\n",
       "    <tr>\n",
       "      <th>3</th>\n",
       "      <td>bd22104dfa9ec80db4099523e03fae7a52735eb6</td>\n",
       "      <td>Very interesting, grand merci. Now I wonder wh...</td>\n",
       "      <td>ocrevus</td>\n",
       "      <td>2</td>\n",
       "      <td>2</td>\n",
       "      <td>1</td>\n",
       "      <td>20</td>\n",
       "      <td>124</td>\n",
       "      <td>6.200000</td>\n",
       "      <td>0.100000</td>\n",
       "      <td>5</td>\n",
       "      <td>0</td>\n",
       "      <td>64</td>\n",
       "    </tr>\n",
       "    <tr>\n",
       "      <th>4</th>\n",
       "      <td>b227688381f9b25e5b65109dd00f7f895e838249</td>\n",
       "      <td>Hi everybody, My latest MRI results for Brain ...</td>\n",
       "      <td>gilenya</td>\n",
       "      <td>1</td>\n",
       "      <td>0</td>\n",
       "      <td>8</td>\n",
       "      <td>115</td>\n",
       "      <td>612</td>\n",
       "      <td>5.321739</td>\n",
       "      <td>0.000000</td>\n",
       "      <td>44</td>\n",
       "      <td>0</td>\n",
       "      <td>38</td>\n",
       "    </tr>\n",
       "  </tbody>\n",
       "</table>\n",
       "</div>"
      ],
      "text/plain": [
       "                                unique_hash  \\\n",
       "0  2e180be4c9214c1f5ab51fd8cc32bc80c9f612e0   \n",
       "1  9eba8f80e7e20f3a2f48685530748fbfa95943e4   \n",
       "2  fe809672251f6bd0d986e00380f48d047c7e7b76   \n",
       "3  bd22104dfa9ec80db4099523e03fae7a52735eb6   \n",
       "4  b227688381f9b25e5b65109dd00f7f895e838249   \n",
       "\n",
       "                                                text        drug  sentiment  \\\n",
       "0  Autoimmune diseases tend to come in clusters. ...     gilenya          2   \n",
       "1  I can completely understand why you’d want to ...     gilenya          2   \n",
       "2  Interesting that it only targets S1P-1/5 recep...  fingolimod          2   \n",
       "3  Very interesting, grand merci. Now I wonder wh...     ocrevus          2   \n",
       "4  Hi everybody, My latest MRI results for Brain ...     gilenya          1   \n",
       "\n",
       "   drug_count  n_upper  word_count  char_count  avg_wlen  adj_drug_count  \\\n",
       "0           2        1          76         404  5.315789        0.026316   \n",
       "1           0        5         206        1184  5.747573        0.000000   \n",
       "2           1        4         135         780  5.777778        0.007407   \n",
       "3           2        1          20         124  6.200000        0.100000   \n",
       "4           0        8         115         612  5.321739        0.000000   \n",
       "\n",
       "   n_stop  n_num  drug_category  \n",
       "0      28      0             38  \n",
       "1      85      0             38  \n",
       "2      50      3             35  \n",
       "3       5      0             64  \n",
       "4      44      0             38  "
      ]
     },
     "execution_count": 13,
     "metadata": {},
     "output_type": "execute_result"
    }
   ],
   "source": [
    "%%time\n",
    "\n",
    "meta_data = extract_meta_data(train)\n",
    "meta_data.head()"
   ]
  },
  {
   "cell_type": "code",
   "execution_count": 14,
   "metadata": {},
   "outputs": [],
   "source": [
    "meta_features = meta_data.drop(['unique_hash', 'text', 'drug', 'drug_count'], axis = 1)"
   ]
  },
  {
   "cell_type": "code",
   "execution_count": 15,
   "metadata": {
    "scrolled": true
   },
   "outputs": [
    {
     "data": {
      "text/html": [
       "<div>\n",
       "<style scoped>\n",
       "    .dataframe tbody tr th:only-of-type {\n",
       "        vertical-align: middle;\n",
       "    }\n",
       "\n",
       "    .dataframe tbody tr th {\n",
       "        vertical-align: top;\n",
       "    }\n",
       "\n",
       "    .dataframe thead th {\n",
       "        text-align: right;\n",
       "    }\n",
       "</style>\n",
       "<table border=\"1\" class=\"dataframe\">\n",
       "  <thead>\n",
       "    <tr style=\"text-align: right;\">\n",
       "      <th></th>\n",
       "      <th>n_upper</th>\n",
       "      <th>word_count</th>\n",
       "      <th>char_count</th>\n",
       "      <th>avg_wlen</th>\n",
       "      <th>adj_drug_count</th>\n",
       "      <th>n_stop</th>\n",
       "      <th>n_num</th>\n",
       "      <th>drug_category</th>\n",
       "    </tr>\n",
       "    <tr>\n",
       "      <th>sentiment</th>\n",
       "      <th></th>\n",
       "      <th></th>\n",
       "      <th></th>\n",
       "      <th></th>\n",
       "      <th></th>\n",
       "      <th></th>\n",
       "      <th></th>\n",
       "      <th></th>\n",
       "    </tr>\n",
       "  </thead>\n",
       "  <tbody>\n",
       "    <tr>\n",
       "      <th>0</th>\n",
       "      <td>13.423015</td>\n",
       "      <td>308.270665</td>\n",
       "      <td>1847.124797</td>\n",
       "      <td>5.849231</td>\n",
       "      <td>0.012825</td>\n",
       "      <td>110.696921</td>\n",
       "      <td>3.735818</td>\n",
       "      <td>55.956240</td>\n",
       "    </tr>\n",
       "    <tr>\n",
       "      <th>1</th>\n",
       "      <td>10.480287</td>\n",
       "      <td>251.029869</td>\n",
       "      <td>1425.449223</td>\n",
       "      <td>5.647172</td>\n",
       "      <td>0.010839</td>\n",
       "      <td>96.967742</td>\n",
       "      <td>2.487455</td>\n",
       "      <td>51.097969</td>\n",
       "    </tr>\n",
       "    <tr>\n",
       "      <th>2</th>\n",
       "      <td>15.746144</td>\n",
       "      <td>371.469020</td>\n",
       "      <td>2254.862484</td>\n",
       "      <td>5.855146</td>\n",
       "      <td>0.012616</td>\n",
       "      <td>127.210196</td>\n",
       "      <td>4.871373</td>\n",
       "      <td>53.692026</td>\n",
       "    </tr>\n",
       "  </tbody>\n",
       "</table>\n",
       "</div>"
      ],
      "text/plain": [
       "             n_upper  word_count   char_count  avg_wlen  adj_drug_count  \\\n",
       "sentiment                                                                 \n",
       "0          13.423015  308.270665  1847.124797  5.849231        0.012825   \n",
       "1          10.480287  251.029869  1425.449223  5.647172        0.010839   \n",
       "2          15.746144  371.469020  2254.862484  5.855146        0.012616   \n",
       "\n",
       "               n_stop     n_num  drug_category  \n",
       "sentiment                                       \n",
       "0          110.696921  3.735818      55.956240  \n",
       "1           96.967742  2.487455      51.097969  \n",
       "2          127.210196  4.871373      53.692026  "
      ]
     },
     "execution_count": 15,
     "metadata": {},
     "output_type": "execute_result"
    }
   ],
   "source": [
    "meta_features.groupby('sentiment').mean()"
   ]
  },
  {
   "cell_type": "code",
   "execution_count": 16,
   "metadata": {},
   "outputs": [],
   "source": [
    "meta_features_path = os.path.join(data_dir, 'interim', 'meta_feat.txt')"
   ]
  },
  {
   "cell_type": "code",
   "execution_count": 17,
   "metadata": {},
   "outputs": [],
   "source": [
    "meta_features.to_json(meta_features_path)"
   ]
  },
  {
   "cell_type": "markdown",
   "metadata": {},
   "source": [
    "## Average word count for each sentiment"
   ]
  },
  {
   "cell_type": "markdown",
   "metadata": {},
   "source": [
    "As always with every text classification problem, we could start from a simple text length exploration"
   ]
  },
  {
   "cell_type": "code",
   "execution_count": 18,
   "metadata": {},
   "outputs": [
    {
     "name": "stdout",
     "output_type": "stream",
     "text": [
      "1821184\n"
     ]
    }
   ],
   "source": [
    "# How many words are there in the entire training set?\n",
    "\n",
    "print(train.text.apply(lambda x: len(x.split(' '))).sum())"
   ]
  },
  {
   "cell_type": "code",
   "execution_count": 19,
   "metadata": {},
   "outputs": [],
   "source": [
    "# Derive the word count array for positive/negative and neutral reviews\n",
    "\n",
    "positive_wordcount = train[train.sentiment == 0].text.apply(lambda x: len(x.split(' ')))\n",
    "negative_wordcount = train[train.sentiment == 1].text.apply(lambda x: len(x.split(' ')))\n",
    "neutral_wordcount = train[train.sentiment == 2].text.apply(lambda x: len(x.split(' ')))"
   ]
  },
  {
   "cell_type": "code",
   "execution_count": 20,
   "metadata": {
    "scrolled": true
   },
   "outputs": [],
   "source": [
    "# Create a dictionary that gives the average length of each reviews according to sentiment\n",
    "\n",
    "avg_text_length = {\"positive\": round(positive_wordcount.mean(),1),\n",
    "                   \"negative\": round(negative_wordcount.mean(),1),\n",
    "                   \"neutral\": round(neutral_wordcount.mean(),1)}"
   ]
  },
  {
   "cell_type": "code",
   "execution_count": 21,
   "metadata": {},
   "outputs": [
    {
     "data": {
      "image/png": "[encoded data removed]",
      "text/plain": [
       "<Figure size 432x288 with 1 Axes>"
      ]
     },
     "metadata": {
      "needs_background": "light"
     },
     "output_type": "display_data"
    }
   ],
   "source": [
    "# Plot the statistics\n",
    "\n",
    "plt.bar(range(len(avg_text_length)), list(avg_text_length.values()), align='center')\n",
    "plt.xticks(range(len(avg_text_length)), list(avg_text_length.keys()))\n",
    "plt.xlabel('Sentiment')\n",
    "plt.ylabel('Avg number of words per review')\n",
    "plt.show()"
   ]
  },
  {
   "cell_type": "code",
   "execution_count": 22,
   "metadata": {
    "scrolled": true
   },
   "outputs": [
    {
     "data": {
      "image/png": "[encoded data removed]",
      "text/plain": [
       "<Figure size 432x288 with 1 Axes>"
      ]
     },
     "metadata": {
      "needs_background": "light"
     },
     "output_type": "display_data"
    }
   ],
   "source": [
    "# Create Box plot to better visualize the distribution of wordcounts\n",
    "\n",
    "sns.boxplot(data = [np.log10(positive_wordcount), np.log10(negative_wordcount), np.log10(neutral_wordcount)])\n",
    "plt.xticks(range(len(avg_text_length)), list(avg_text_length.keys()))\n",
    "plt.xlabel('Sentiment')\n",
    "plt.ylabel('Log 10 Avg number of words per review')\n",
    "plt.show()"
   ]
  },
  {
   "cell_type": "markdown",
   "metadata": {},
   "source": [
    "<div class=\"span5 alert alert-success\">\n",
    "<b>Insight:</b>\n",
    "<ul>\n",
    "    <li> By looking at the bar graph, neutral reviews are relatively more verbose whereas negative reviews are more curt. That could be sensible since we often don't want to waste our time typing so much comment for a drug we had bad experiences with. Though at the same time, if we observe the log 10 word count distributions from the box plot, it looks as if the three distributions are very similar. To determine if there is difference among the sentiments in terms of word count, we'll conduct a one-way ANOVA test.</li>\n",
    "</ul>\n",
    "</div>"
   ]
  },
  {
   "cell_type": "code",
   "execution_count": 23,
   "metadata": {},
   "outputs": [],
   "source": [
    "# First we test for normality, since one of the assumptions of a one-way ANOVA test is for the samples to be normally distributed\n",
    "\n",
    "from scipy.stats import normaltest"
   ]
  },
  {
   "cell_type": "code",
   "execution_count": 24,
   "metadata": {},
   "outputs": [
    {
     "name": "stdout",
     "output_type": "stream",
     "text": [
      "p = 3.61999e-164\n",
      "The null hypothesis can be rejected\n"
     ]
    }
   ],
   "source": [
    "k2, p = normaltest(positive_wordcount)\n",
    "alpha = 1e-3\n",
    "print(\"p = {:g}\".format(p))\n",
    "if p < alpha:  # null hypothesis: sample comes from a normal distribution\n",
    "    print(\"The null hypothesis can be rejected\")\n",
    "else:\n",
    "    print(\"The null hypothesis cannot be rejected\")"
   ]
  },
  {
   "cell_type": "code",
   "execution_count": 25,
   "metadata": {},
   "outputs": [
    {
     "name": "stdout",
     "output_type": "stream",
     "text": [
      "p = 2.40462e-150\n",
      "The null hypothesis can be rejected\n"
     ]
    }
   ],
   "source": [
    "k2, p = normaltest(negative_wordcount)\n",
    "alpha = 1e-3\n",
    "print(\"p = {:g}\".format(p))\n",
    "if p < alpha:  # null hypothesis: sample comes from a normal distribution\n",
    "    print(\"The null hypothesis can be rejected\")\n",
    "else:\n",
    "    print(\"The null hypothesis cannot be rejected\")"
   ]
  },
  {
   "cell_type": "code",
   "execution_count": 26,
   "metadata": {},
   "outputs": [
    {
     "name": "stdout",
     "output_type": "stream",
     "text": [
      "p = 0\n",
      "The null hypothesis can be rejected\n"
     ]
    }
   ],
   "source": [
    "k2, p = normaltest(neutral_wordcount)\n",
    "alpha = 1e-3\n",
    "print(\"p = {:g}\".format(p))\n",
    "if p < alpha:  # null hypothesis: sample comes from a normal distribution\n",
    "    print(\"The null hypothesis can be rejected\")\n",
    "else:\n",
    "    print(\"The null hypothesis cannot be rejected\")"
   ]
  },
  {
   "cell_type": "code",
   "execution_count": 27,
   "metadata": {},
   "outputs": [],
   "source": [
    "# Since the distributions are not normal, we have to use Kruskal-Wallis H-test tests instead of the ANOVA test\n",
    "\n",
    "from scipy.stats import kruskal"
   ]
  },
  {
   "cell_type": "code",
   "execution_count": 28,
   "metadata": {},
   "outputs": [
    {
     "name": "stdout",
     "output_type": "stream",
     "text": [
      "KruskalResult(statistic=11.932513860030038, pvalue=0.002563820038921709)\n"
     ]
    }
   ],
   "source": [
    "# Derive result\n",
    "\n",
    "aov_result = kruskal(positive_wordcount, negative_wordcount, neutral_wordcount)\n",
    "print(aov_result)"
   ]
  },
  {
   "cell_type": "markdown",
   "metadata": {},
   "source": [
    "<div class=\"span5 alert alert-success\">\n",
    "<ul>\n",
    "    <li> Since our p-value is very small, we reject the null hypothesis in favor of the alternative hypothesis. Thus, there is a statistically significant difference between the groups</li>\n",
    "</ul>\n",
    "</div>"
   ]
  },
  {
   "cell_type": "markdown",
   "metadata": {},
   "source": [
    "## Innate qualities of drugs"
   ]
  },
  {
   "cell_type": "markdown",
   "metadata": {},
   "source": [
    "We also notice that we have an extra column in addition to the review text column, and that is information about which drug the review is supposed to be for. Now testing for drug effective is another problem altogether, but I suspect that drugs will have different innate effectiveness. Thus, we will use this section to explore the question of \"Do the drugs have innate positivity, negativity or neutrality?\""
   ]
  },
  {
   "cell_type": "code",
   "execution_count": 29,
   "metadata": {},
   "outputs": [],
   "source": [
    "# Get all of the unique drug names\n",
    "drug_list = train.drug.unique().tolist()"
   ]
  },
  {
   "cell_type": "code",
   "execution_count": 30,
   "metadata": {},
   "outputs": [],
   "source": [
    "# Create a dictionary for the positive, negative and neutrality rate of all drugs\n",
    "positive_rate = {} \n",
    "negative_rate = {}\n",
    "neutral_rate = {}\n",
    "\n",
    "# Loop through each drug names and identify all the drug's positive/negative/neutral case divided by the sum (for the rate)\n",
    "for drug in drug_list:\n",
    "    n_positive = (train[train.drug == drug].sentiment == 0).sum()\n",
    "    n_negative = (train[train.drug == drug].sentiment == 1).sum()\n",
    "    n_neutral = (train[train.drug == drug].sentiment == 2).sum()\n",
    "    positive_rate[drug] = round(n_positive / (n_positive + n_negative + n_neutral),2)\n",
    "    negative_rate[drug] = round(n_negative / (n_positive + n_negative + n_neutral),2)\n",
    "    neutral_rate[drug] = round(n_neutral / (n_positive + n_negative + n_neutral), 2)\n",
    "    "
   ]
  },
  {
   "cell_type": "code",
   "execution_count": 31,
   "metadata": {},
   "outputs": [
    {
     "data": {
      "text/plain": [
       "[('nivolumabb', 1.0),\n",
       " ('lorlatinib', 0.5),\n",
       " ('almita', 0.5),\n",
       " ('brolucizumab', 0.5),\n",
       " ('ofatumumab', 0.4),\n",
       " ('tofacitinib', 0.37),\n",
       " ('siponimod', 0.36),\n",
       " ('mekinist', 0.33),\n",
       " ('dexamethasone implant', 0.33),\n",
       " ('macugen', 0.33)]"
      ]
     },
     "execution_count": 31,
     "metadata": {},
     "output_type": "execute_result"
    }
   ],
   "source": [
    "# Sort the dictionary and display the items with highest positive rates\n",
    "\n",
    "sorted(positive_rate.items(), key = lambda x: x[1], reverse = True)[0:10]"
   ]
  },
  {
   "cell_type": "code",
   "execution_count": 32,
   "metadata": {},
   "outputs": [
    {
     "data": {
      "text/plain": [
       "[('infliximab-dyyb', 1.0),\n",
       " ('alunbrig', 1.0),\n",
       " ('ketruda', 1.0),\n",
       " ('cyramza', 1.0),\n",
       " ('aubagio', 0.5),\n",
       " ('gefitinib', 0.43),\n",
       " ('gilenya', 0.35),\n",
       " ('mekinist', 0.33),\n",
       " ('ceritinib', 0.33),\n",
       " ('arzerra', 0.33)]"
      ]
     },
     "execution_count": 32,
     "metadata": {},
     "output_type": "execute_result"
    }
   ],
   "source": [
    "# Sort the dictionary and display the items with highest negative rates\n",
    "\n",
    "sorted(negative_rate.items(), key = lambda x: x[1], reverse = True)[0:10]"
   ]
  },
  {
   "cell_type": "code",
   "execution_count": 33,
   "metadata": {},
   "outputs": [
    {
     "data": {
      "text/plain": [
       "[('pan-retinal photocoagulation', 1.0),\n",
       " ('ipilimumab', 1.0),\n",
       " ('ixifi', 1.0),\n",
       " ('teriflunomide', 1.0),\n",
       " ('zykadia', 1.0),\n",
       " ('yervoy', 1.0),\n",
       " ('amjevita', 1.0),\n",
       " ('pemrolizumab', 1.0),\n",
       " ('tafinlar', 1.0),\n",
       " ('gilotrif', 1.0)]"
      ]
     },
     "execution_count": 33,
     "metadata": {},
     "output_type": "execute_result"
    }
   ],
   "source": [
    "# Sort the dictionary and display the items with highest neutral rates\n",
    "\n",
    "sorted(neutral_rate.items(), key = lambda x: x[1], reverse = True)[0:10]"
   ]
  },
  {
   "cell_type": "markdown",
   "metadata": {},
   "source": [
    "<div class=\"span5 alert alert-success\">\n",
    "<b>Insight:</b>\n",
    "<ul>\n",
    "    <li>It looks like the fact that we have different drugs in every list shows that drugs have innate positivity/negativity and neutrality. Thus, we can integrate the drugs as a categorical variable for our model.</li>\n",
    "</ul>\n",
    "</div>"
   ]
  },
  {
   "cell_type": "markdown",
   "metadata": {},
   "source": [
    "## Number of other drug mentioned"
   ]
  },
  {
   "cell_type": "markdown",
   "metadata": {},
   "source": [
    "Interestingly, different drugs can be mentioned in a drug's review. These drugs are often used as a means of comparison or a list of recommended drugs. It will be interesting to explore whether or not the number of drugs mentioned play a role in the sentiment of the review."
   ]
  },
  {
   "cell_type": "code",
   "execution_count": 34,
   "metadata": {},
   "outputs": [],
   "source": [
    "# Extract the number of other drug mentions in review for each sentiments\n",
    "\n",
    "positive_n_drug = train_processed[train_processed.sentiment == 0].apply(\n",
    "    lambda row: len([word for word in row['text'].split(' ') if (word in drug_list) and (word not in row['drug'])]), \n",
    "    axis=1)\n",
    "\n",
    "negative_n_drug = train_processed[train_processed.sentiment == 1].apply(\n",
    "    lambda row: len([word for word in row['text'].split(' ') if (word in drug_list) and (word not in row['drug'])]), \n",
    "    axis=1)\n",
    "\n",
    "neutral_n_drug = train_processed[train_processed.sentiment == 2].apply(\n",
    "    lambda row: len([word for word in row['text'].split(' ') if (word in drug_list) and (word not in row['drug'])]), \n",
    "    axis=1)"
   ]
  },
  {
   "cell_type": "code",
   "execution_count": 35,
   "metadata": {},
   "outputs": [],
   "source": [
    "# Create a dictionary that gives the other drugs mentioned according to sentiment\n",
    "\n",
    "avg_drugs_mentioned = {\"positive\": round(positive_n_drug.mean(),1),\n",
    "                   \"negative\": round(negative_n_drug.mean(),1),\n",
    "                   \"neutral\": round(neutral_n_drug.mean(),1)}"
   ]
  },
  {
   "cell_type": "code",
   "execution_count": 36,
   "metadata": {},
   "outputs": [
    {
     "data": {
      "image/png": "[encoded data removed]",
      "text/plain": [
       "<Figure size 432x288 with 1 Axes>"
      ]
     },
     "metadata": {
      "needs_background": "light"
     },
     "output_type": "display_data"
    }
   ],
   "source": [
    "# Plot the statistics\n",
    "\n",
    "plt.bar(range(len(avg_drugs_mentioned)), list(avg_drugs_mentioned.values()), align='center')\n",
    "plt.xticks(range(len(avg_drugs_mentioned)), list(avg_drugs_mentioned.keys()))\n",
    "plt.xlabel('Sentiment')\n",
    "plt.ylabel('Avg number of other drugs mentioned per review')\n",
    "plt.show()"
   ]
  },
  {
   "cell_type": "code",
   "execution_count": 37,
   "metadata": {},
   "outputs": [
    {
     "data": {
      "image/png": "[encoded data removed]",
      "text/plain": [
       "<Figure size 432x288 with 1 Axes>"
      ]
     },
     "metadata": {
      "needs_background": "light"
     },
     "output_type": "display_data"
    }
   ],
   "source": [
    "# Create Box plot to better visualize the distributions\n",
    "\n",
    "sns.boxplot(data = [positive_n_drug, negative_n_drug, neutral_n_drug])\n",
    "plt.xticks(range(len(avg_drugs_mentioned)), list(avg_drugs_mentioned.keys()))\n",
    "plt.xlabel('Sentiment')\n",
    "plt.ylabel('Number of other drugs mentioned per review')\n",
    "plt.ylim(0,20)\n",
    "plt.show()"
   ]
  },
  {
   "cell_type": "code",
   "execution_count": 38,
   "metadata": {},
   "outputs": [
    {
     "data": {
      "text/plain": [
       "358"
      ]
     },
     "execution_count": 38,
     "metadata": {},
     "output_type": "execute_result"
    }
   ],
   "source": [
    "max(neutral_n_drug)"
   ]
  },
  {
   "cell_type": "markdown",
   "metadata": {},
   "source": [
    "<div class=\"span5 alert alert-success\">\n",
    "<ul>We see that the neutral sentiment very often has more of other drugs mentioned, but all three distributions have a median close to 1 and have a very long right tail, up to 395 other drug mention in one neutral reviews. Before we make any conclusion, it's important to note that neutral sentiment reviews are also generally longer, so we need to adjust for the length of the review.\n",
    "</ul>\n",
    "</div>"
   ]
  },
  {
   "cell_type": "code",
   "execution_count": 39,
   "metadata": {},
   "outputs": [],
   "source": [
    "# Take the adjusted other drugs mentioned arrays\n",
    "\n",
    "positive_adj_n_drugs = positive_n_drug / positive_wordcount \n",
    "negative_adj_n_drugs = negative_n_drug / negative_wordcount\n",
    "neutral_adj_n_drugs = neutral_n_drug / neutral_wordcount"
   ]
  },
  {
   "cell_type": "code",
   "execution_count": 40,
   "metadata": {},
   "outputs": [
    {
     "data": {
      "image/png": "[encoded data removed]",
      "text/plain": [
       "<Figure size 432x288 with 1 Axes>"
      ]
     },
     "metadata": {
      "needs_background": "light"
     },
     "output_type": "display_data"
    }
   ],
   "source": [
    "# Create Box plot to better visualize the distributions\n",
    "\n",
    "sns.boxplot(data = [positive_adj_n_drugs, negative_adj_n_drugs, neutral_adj_n_drugs])\n",
    "plt.xticks(range(len(avg_drugs_mentioned)), list(avg_drugs_mentioned.keys()))\n",
    "plt.xlabel('Sentiment')\n",
    "plt.ylabel('Number of other drugs mentioned per review')\n",
    "plt.ylim(0,0.15)\n",
    "plt.show()"
   ]
  },
  {
   "cell_type": "markdown",
   "metadata": {},
   "source": [
    "<div class=\"span5 alert alert-success\">\n",
    "<ul>The tail looks less absurd with this adjustment. Clearly, the distribution is non-normal, so we need to conduct the kruskal test again to see if these samples come from the same distribution or if there is significant statistical significant difference between these groups. \n",
    "</ul>\n",
    "</div>"
   ]
  },
  {
   "cell_type": "code",
   "execution_count": 41,
   "metadata": {},
   "outputs": [
    {
     "name": "stdout",
     "output_type": "stream",
     "text": [
      "KruskalResult(statistic=118.03417931058291, pvalue=2.3399340905790852e-26)\n"
     ]
    }
   ],
   "source": [
    "# Derive result\n",
    "\n",
    "aov_result = kruskal(positive_adj_n_drugs, negative_adj_n_drugs, neutral_adj_n_drugs)\n",
    "print(aov_result)"
   ]
  },
  {
   "cell_type": "markdown",
   "metadata": {},
   "source": [
    "<div class=\"span5 alert alert-success\">\n",
    "    <b> Insight: </b>\n",
    "<ul><li>With a very small p-value, we can conclude that the difference is significant. We can thus integrate this insight into our ML model with a feature called n_drug_mentioned (adjusted for review length).</li> \n",
    "</ul>\n",
    "</div>"
   ]
  },
  {
   "cell_type": "markdown",
   "metadata": {},
   "source": [
    "## Word2Vec visualization"
   ]
  },
  {
   "cell_type": "markdown",
   "metadata": {},
   "source": [
    "Apart from the meta data, we can use word-embeddings to visualize how close our vocabularies are in proximity to each other and whether or not a word2vec model will be able to distinguish negative words from positive words"
   ]
  },
  {
   "cell_type": "code",
   "execution_count": 42,
   "metadata": {},
   "outputs": [],
   "source": [
    "# Import modules\n",
    "\n",
    "from gensim.models import Word2Vec, KeyedVectors\n",
    "import multiprocessing"
   ]
  },
  {
   "cell_type": "code",
   "execution_count": 43,
   "metadata": {},
   "outputs": [
    {
     "name": "stdout",
     "output_type": "stream",
     "text": [
      "Wall time: 46.7 s\n"
     ]
    },
    {
     "data": {
      "text/plain": [
       "(15389755, 31224900)"
      ]
     },
     "execution_count": 43,
     "metadata": {},
     "output_type": "execute_result"
    }
   ],
   "source": [
    "%%time\n",
    "\n",
    "#### Create Word2vec word embeddings\n",
    "n_dim = 300\n",
    "\n",
    "sentences = [row.split() for row in train_processed.text]\n",
    "\n",
    "cores = multiprocessing.cpu_count()\n",
    "\n",
    "w2v_model = Word2Vec(min_count=10,\n",
    "                     window=4,\n",
    "                     size=n_dim,\n",
    "                     sample=6e-5, \n",
    "                     alpha=0.03, \n",
    "                     min_alpha=0.0007, \n",
    "                     negative=20,\n",
    "                     workers=cores-1)\n",
    "\n",
    "w2v_model.build_vocab(sentences)\n",
    "\n",
    "w2v_model.train(sentences, total_examples=w2v_model.corpus_count, epochs=30)"
   ]
  },
  {
   "cell_type": "code",
   "execution_count": 44,
   "metadata": {},
   "outputs": [
    {
     "data": {
      "text/plain": [
       "{'health': ['healthcare', 'care', 'medical', 'service'],\n",
       " 'vaccine': ['inactivated', 'attenuate', 'bacillus', 'vaccination'],\n",
       " 'effective': ['proven', 'efficacious', 'safer', 'well-tolerated'],\n",
       " 'improve': ['improved', 'health-related', 'impact', 'alleviate'],\n",
       " 'bad': ['badly', 'depressed', 'feel', 'horrible'],\n",
       " 'pain': ['spasm', 'cramp', 'discomfort', 'ache']}"
      ]
     },
     "execution_count": 44,
     "metadata": {},
     "output_type": "execute_result"
    }
   ],
   "source": [
    "# Create list of sample words. Here we will use 2 positive, 2 negative and 2 neutral words\n",
    "similar_words = {search_term: [item[0] for item in w2v_model.wv.most_similar([search_term], topn=4)]\n",
    "                  for search_term in ['health', 'vaccine','effective','improve', 'bad', 'pain']}\n",
    "similar_words"
   ]
  },
  {
   "cell_type": "code",
   "execution_count": 45,
   "metadata": {},
   "outputs": [
    {
     "data": {
      "image/png": "[encoded data removed]",
      "text/plain": [
       "<Figure size 1008x576 with 1 Axes>"
      ]
     },
     "metadata": {
      "needs_background": "light"
     },
     "output_type": "display_data"
    }
   ],
   "source": [
    "from sklearn.manifold import TSNE\n",
    "\n",
    "# Create TSNE dimension reduction to visualize results\n",
    "words = sum([[k] + v for k, v in similar_words.items()], [])\n",
    "wvs = w2v_model.wv[words]\n",
    "\n",
    "tsne = TSNE(n_components=2, random_state=42, n_iter=1000, perplexity=5)\n",
    "np.set_printoptions(suppress=True)\n",
    "T = tsne.fit_transform(wvs)\n",
    "labels = words\n",
    "\n",
    "plt.figure(figsize=(14, 8))\n",
    "plt.scatter(T[:, 0], T[:, 1], c='orange', edgecolors='r')\n",
    "for label, x, y in zip(labels, T[:, 0], T[:, 1]):\n",
    "    plt.annotate(label, xy=(x+1, y+1), xytext=(0, 0), textcoords='offset points')"
   ]
  },
  {
   "cell_type": "markdown",
   "metadata": {},
   "source": [
    "<div class=\"span5 alert alert-success\">\n",
    "    <b> Insight:</b>\n",
    "<ul><li>The Word2Vec model seems to be able to moderately distinguish positive and negative connotations very well (grouping words with similar sentiment close together. However, The data might still be noisy due to the fact that non-related drugs may be brought up with completely different sentiments</li> \n",
    "</ul>\n",
    "</div>"
   ]
  },
  {
   "cell_type": "markdown",
   "metadata": {},
   "source": [
    "## Meta-data feature importance"
   ]
  },
  {
   "cell_type": "markdown",
   "metadata": {},
   "source": [
    "We can also analyze and reduce meta-data which add more noise to the models using a random forest feature importance"
   ]
  },
  {
   "cell_type": "code",
   "execution_count": 46,
   "metadata": {},
   "outputs": [],
   "source": [
    "# Set model path\n",
    "\n",
    "model_dir = os.path.join(os.path.dirname(os.getcwd()), 'Model')"
   ]
  },
  {
   "cell_type": "code",
   "execution_count": 47,
   "metadata": {},
   "outputs": [],
   "source": [
    "# Import Naive Bayes\n",
    "\n",
    "from sklearn.feature_extraction.text import CountVectorizer\n",
    "from sklearn.feature_extraction.text import TfidfVectorizer\n",
    "from sklearn.model_selection import GridSearchCV\n",
    "from sklearn.pipeline import Pipeline\n",
    "from sklearn.metrics import classification_report, confusion_matrix, f1_score\n",
    "from sklearn.ensemble import RandomForestClassifier\n",
    "from sklearn.preprocessing import StandardScaler\n",
    "from custom_function.ml import create_classifier, evaluate_classifier, get_model_results\n",
    "import pickle"
   ]
  },
  {
   "cell_type": "code",
   "execution_count": 48,
   "metadata": {},
   "outputs": [],
   "source": [
    "# Define X and y\n",
    "\n",
    "X = meta_features.drop('sentiment', axis = 1)\n",
    "y = meta_features.sentiment"
   ]
  },
  {
   "cell_type": "code",
   "execution_count": 49,
   "metadata": {},
   "outputs": [],
   "source": [
    "scaler = StandardScaler()"
   ]
  },
  {
   "cell_type": "code",
   "execution_count": 50,
   "metadata": {},
   "outputs": [],
   "source": [
    "forest = RandomForestClassifier(n_estimators=10,\n",
    "                                max_features = 'sqrt')"
   ]
  },
  {
   "cell_type": "code",
   "execution_count": 51,
   "metadata": {},
   "outputs": [
    {
     "data": {
      "text/plain": [
       "RandomForestClassifier(bootstrap=True, class_weight=None, criterion='gini',\n",
       "                       max_depth=None, max_features='sqrt', max_leaf_nodes=None,\n",
       "                       min_impurity_decrease=0.0, min_impurity_split=None,\n",
       "                       min_samples_leaf=1, min_samples_split=2,\n",
       "                       min_weight_fraction_leaf=0.0, n_estimators=10,\n",
       "                       n_jobs=None, oob_score=False, random_state=None,\n",
       "                       verbose=0, warm_start=False)"
      ]
     },
     "execution_count": 51,
     "metadata": {},
     "output_type": "execute_result"
    }
   ],
   "source": [
    "forest.fit(scaler.fit_transform(X), y)"
   ]
  },
  {
   "cell_type": "code",
   "execution_count": 52,
   "metadata": {},
   "outputs": [],
   "source": [
    "importances = forest.feature_importances_"
   ]
  },
  {
   "cell_type": "code",
   "execution_count": 53,
   "metadata": {
    "scrolled": true
   },
   "outputs": [
    {
     "data": {
      "image/png": "[encoded data removed]",
      "text/plain": [
       "<Figure size 432x288 with 1 Axes>"
      ]
     },
     "metadata": {
      "needs_background": "light"
     },
     "output_type": "display_data"
    }
   ],
   "source": [
    "plt.bar(x = X.columns, height = importances)\n",
    "plt.xticks(rotation = 90)\n",
    "plt.xlabel('Features')\n",
    "plt.ylabel('Importances')\n",
    "plt.show()"
   ]
  }
 ],
 "metadata": {
  "kernelspec": {
   "display_name": "Python 3",
   "language": "python",
   "name": "python3"
  },
  "language_info": {
   "codemirror_mode": {
    "name": "ipython",
    "version": 3
   },
   "file_extension": ".py",
   "mimetype": "text/x-python",
   "name": "python",
   "nbconvert_exporter": "python",
   "pygments_lexer": "ipython3",
   "version": "3.7.3"
  }
 },
 "nbformat": 4,
 "nbformat_minor": 2
}
